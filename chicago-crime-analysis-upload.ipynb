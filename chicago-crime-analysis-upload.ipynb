{
 "cells": [
  {
   "cell_type": "code",
   "execution_count": 1,
   "id": "4274a9d1",
   "metadata": {},
   "outputs": [],
   "source": [
    "import pandas as pd\n",
    "import numpy as np\n",
    "import matplotlib.pyplot as plt\n",
    "import seaborn as sns\n",
    "\n",
    "plt.style.use(\"ggplot\")"
   ]
  },
  {
   "cell_type": "markdown",
   "id": "2b0fa283",
   "metadata": {},
   "source": [
    "# 시카고의 안전을 위해\n",
    "\n",
    "최근 10년간의 데이터를 분석, 보완할 부분을 파악한다."
   ]
  },
  {
   "cell_type": "markdown",
   "id": "725e3b47",
   "metadata": {},
   "source": [
    "community_area 참고: https://en.wikipedia.org/wiki/File:Map_of_the_Community_Areas_and_%27Sides%27_of_the_City_of_Chicago.svg</br>\n",
    "https://home.chicagopolice.org/community-policing-group/community-map/"
   ]
  },
  {
   "cell_type": "code",
   "execution_count": 6,
   "id": "4b27a0f3",
   "metadata": {
    "scrolled": true
   },
   "outputs": [
    {
     "data": {
      "text/html": [
       "<div>\n",
       "<style scoped>\n",
       "    .dataframe tbody tr th:only-of-type {\n",
       "        vertical-align: middle;\n",
       "    }\n",
       "\n",
       "    .dataframe tbody tr th {\n",
       "        vertical-align: top;\n",
       "    }\n",
       "\n",
       "    .dataframe thead th {\n",
       "        text-align: right;\n",
       "    }\n",
       "</style>\n",
       "<table border=\"1\" class=\"dataframe\">\n",
       "  <thead>\n",
       "    <tr style=\"text-align: right;\">\n",
       "      <th></th>\n",
       "      <th>unique_key</th>\n",
       "      <th>date</th>\n",
       "      <th>primary_type</th>\n",
       "      <th>location_description</th>\n",
       "      <th>arrest</th>\n",
       "      <th>domestic</th>\n",
       "      <th>beat</th>\n",
       "      <th>community_area</th>\n",
       "    </tr>\n",
       "  </thead>\n",
       "  <tbody>\n",
       "    <tr>\n",
       "      <th>0</th>\n",
       "      <td>8429131</td>\n",
       "      <td>2012-01-01 01:00:00+00:00</td>\n",
       "      <td>DECEPTIVE PRACTICE</td>\n",
       "      <td>ATM (AUTOMATIC TELLER MACHINE)</td>\n",
       "      <td>False</td>\n",
       "      <td>False</td>\n",
       "      <td>1834</td>\n",
       "      <td>8.0</td>\n",
       "    </tr>\n",
       "    <tr>\n",
       "      <th>1</th>\n",
       "      <td>8452622</td>\n",
       "      <td>2012-01-01 01:00:00+00:00</td>\n",
       "      <td>THEFT</td>\n",
       "      <td>TAVERN/LIQUOR STORE</td>\n",
       "      <td>False</td>\n",
       "      <td>False</td>\n",
       "      <td>1832</td>\n",
       "      <td>8.0</td>\n",
       "    </tr>\n",
       "    <tr>\n",
       "      <th>2</th>\n",
       "      <td>8608264</td>\n",
       "      <td>2012-01-01 01:00:00+00:00</td>\n",
       "      <td>THEFT</td>\n",
       "      <td>MEDICAL/DENTAL OFFICE</td>\n",
       "      <td>False</td>\n",
       "      <td>False</td>\n",
       "      <td>1423</td>\n",
       "      <td>24.0</td>\n",
       "    </tr>\n",
       "    <tr>\n",
       "      <th>3</th>\n",
       "      <td>9142576</td>\n",
       "      <td>2012-01-01 01:00:00+00:00</td>\n",
       "      <td>THEFT</td>\n",
       "      <td>SCHOOL, PUBLIC, BUILDING</td>\n",
       "      <td>False</td>\n",
       "      <td>False</td>\n",
       "      <td>1523</td>\n",
       "      <td>25.0</td>\n",
       "    </tr>\n",
       "    <tr>\n",
       "      <th>4</th>\n",
       "      <td>8421988</td>\n",
       "      <td>2012-01-01 01:00:00+00:00</td>\n",
       "      <td>BATTERY</td>\n",
       "      <td>PARK PROPERTY</td>\n",
       "      <td>True</td>\n",
       "      <td>True</td>\n",
       "      <td>1123</td>\n",
       "      <td>27.0</td>\n",
       "    </tr>\n",
       "  </tbody>\n",
       "</table>\n",
       "</div>"
      ],
      "text/plain": [
       "   unique_key                      date        primary_type  \\\n",
       "0     8429131 2012-01-01 01:00:00+00:00  DECEPTIVE PRACTICE   \n",
       "1     8452622 2012-01-01 01:00:00+00:00               THEFT   \n",
       "2     8608264 2012-01-01 01:00:00+00:00               THEFT   \n",
       "3     9142576 2012-01-01 01:00:00+00:00               THEFT   \n",
       "4     8421988 2012-01-01 01:00:00+00:00             BATTERY   \n",
       "\n",
       "             location_description  arrest  domestic  beat  community_area  \n",
       "0  ATM (AUTOMATIC TELLER MACHINE)   False     False  1834             8.0  \n",
       "1             TAVERN/LIQUOR STORE   False     False  1832             8.0  \n",
       "2           MEDICAL/DENTAL OFFICE   False     False  1423            24.0  \n",
       "3        SCHOOL, PUBLIC, BUILDING   False     False  1523            25.0  \n",
       "4                   PARK PROPERTY    True      True  1123            27.0  "
      ]
     },
     "execution_count": 6,
     "metadata": {},
     "output_type": "execute_result"
    }
   ],
   "source": [
    "query_string = \"\"\"\n",
    "SELECT unique_key,\n",
    "        date,\n",
    "        primary_type,\n",
    "        location_description,\n",
    "        arrest,\n",
    "        domestic,\n",
    "        beat,\n",
    "        community_area\n",
    "FROM `bigquery-public-data.chicago_crime.crime`\n",
    "where year between 2012 and 2021\n",
    "order by date ;\n",
    "\"\"\"\n",
    "\n",
    "df = client.query(query_string).to_dataframe()\n",
    "df.head()"
   ]
  },
  {
   "cell_type": "code",
   "execution_count": 7,
   "id": "a209dcee",
   "metadata": {},
   "outputs": [
    {
     "name": "stdout",
     "output_type": "stream",
     "text": [
      "<class 'pandas.core.frame.DataFrame'>\n",
      "RangeIndex: 2670253 entries, 0 to 2670252\n",
      "Data columns (total 8 columns):\n",
      " #   Column                Dtype              \n",
      "---  ------                -----              \n",
      " 0   unique_key            int64              \n",
      " 1   date                  datetime64[ns, UTC]\n",
      " 2   primary_type          object             \n",
      " 3   location_description  object             \n",
      " 4   arrest                bool               \n",
      " 5   domestic              bool               \n",
      " 6   beat                  int64              \n",
      " 7   community_area        float64            \n",
      "dtypes: bool(2), datetime64[ns, UTC](1), float64(1), int64(2), object(2)\n",
      "memory usage: 127.3+ MB\n"
     ]
    }
   ],
   "source": [
    "df.info()"
   ]
  },
  {
   "cell_type": "code",
   "execution_count": 44,
   "id": "6c41e8c8",
   "metadata": {},
   "outputs": [
    {
     "data": {
      "text/plain": [
       "unique_key                 0\n",
       "date                       0\n",
       "primary_type               0\n",
       "location_description    8442\n",
       "arrest                     0\n",
       "domestic                   0\n",
       "beat                       0\n",
       "community_area            32\n",
       "dtype: int64"
      ]
     },
     "execution_count": 44,
     "metadata": {},
     "output_type": "execute_result"
    }
   ],
   "source": [
    "# 결측치 제거\n",
    "df.isna().sum()"
   ]
  },
  {
   "cell_type": "code",
   "execution_count": 179,
   "id": "3e4dd98e",
   "metadata": {},
   "outputs": [
    {
     "data": {
      "text/html": [
       "<div>\n",
       "<style scoped>\n",
       "    .dataframe tbody tr th:only-of-type {\n",
       "        vertical-align: middle;\n",
       "    }\n",
       "\n",
       "    .dataframe tbody tr th {\n",
       "        vertical-align: top;\n",
       "    }\n",
       "\n",
       "    .dataframe thead th {\n",
       "        text-align: right;\n",
       "    }\n",
       "</style>\n",
       "<table border=\"1\" class=\"dataframe\">\n",
       "  <thead>\n",
       "    <tr style=\"text-align: right;\">\n",
       "      <th></th>\n",
       "      <th>unique_key</th>\n",
       "      <th>date</th>\n",
       "      <th>primary_type</th>\n",
       "      <th>location_description</th>\n",
       "      <th>arrest</th>\n",
       "      <th>domestic</th>\n",
       "      <th>beat</th>\n",
       "      <th>community_area</th>\n",
       "    </tr>\n",
       "  </thead>\n",
       "  <tbody>\n",
       "    <tr>\n",
       "      <th>0</th>\n",
       "      <td>8429131</td>\n",
       "      <td>2012-01-01 01:00:00+00:00</td>\n",
       "      <td>DECEPTIVE PRACTICE</td>\n",
       "      <td>ATM (AUTOMATIC TELLER MACHINE)</td>\n",
       "      <td>False</td>\n",
       "      <td>False</td>\n",
       "      <td>1834</td>\n",
       "      <td>8.0</td>\n",
       "    </tr>\n",
       "    <tr>\n",
       "      <th>1</th>\n",
       "      <td>8452622</td>\n",
       "      <td>2012-01-01 01:00:00+00:00</td>\n",
       "      <td>THEFT</td>\n",
       "      <td>TAVERN/LIQUOR STORE</td>\n",
       "      <td>False</td>\n",
       "      <td>False</td>\n",
       "      <td>1832</td>\n",
       "      <td>8.0</td>\n",
       "    </tr>\n",
       "    <tr>\n",
       "      <th>2</th>\n",
       "      <td>8608264</td>\n",
       "      <td>2012-01-01 01:00:00+00:00</td>\n",
       "      <td>THEFT</td>\n",
       "      <td>MEDICAL/DENTAL OFFICE</td>\n",
       "      <td>False</td>\n",
       "      <td>False</td>\n",
       "      <td>1423</td>\n",
       "      <td>24.0</td>\n",
       "    </tr>\n",
       "    <tr>\n",
       "      <th>3</th>\n",
       "      <td>9142576</td>\n",
       "      <td>2012-01-01 01:00:00+00:00</td>\n",
       "      <td>THEFT</td>\n",
       "      <td>SCHOOL, PUBLIC, BUILDING</td>\n",
       "      <td>False</td>\n",
       "      <td>False</td>\n",
       "      <td>1523</td>\n",
       "      <td>25.0</td>\n",
       "    </tr>\n",
       "    <tr>\n",
       "      <th>4</th>\n",
       "      <td>8421988</td>\n",
       "      <td>2012-01-01 01:00:00+00:00</td>\n",
       "      <td>BATTERY</td>\n",
       "      <td>PARK PROPERTY</td>\n",
       "      <td>True</td>\n",
       "      <td>True</td>\n",
       "      <td>1123</td>\n",
       "      <td>27.0</td>\n",
       "    </tr>\n",
       "    <tr>\n",
       "      <th>...</th>\n",
       "      <td>...</td>\n",
       "      <td>...</td>\n",
       "      <td>...</td>\n",
       "      <td>...</td>\n",
       "      <td>...</td>\n",
       "      <td>...</td>\n",
       "      <td>...</td>\n",
       "      <td>...</td>\n",
       "    </tr>\n",
       "    <tr>\n",
       "      <th>2670248</th>\n",
       "      <td>12581388</td>\n",
       "      <td>2021-12-31 12:45:00+00:00</td>\n",
       "      <td>ASSAULT</td>\n",
       "      <td>APARTMENT</td>\n",
       "      <td>False</td>\n",
       "      <td>False</td>\n",
       "      <td>221</td>\n",
       "      <td>39.0</td>\n",
       "    </tr>\n",
       "    <tr>\n",
       "      <th>2670249</th>\n",
       "      <td>12581450</td>\n",
       "      <td>2021-12-31 12:45:00+00:00</td>\n",
       "      <td>CONCEALED CARRY LICENSE VIOLATION</td>\n",
       "      <td>STREET</td>\n",
       "      <td>True</td>\n",
       "      <td>False</td>\n",
       "      <td>614</td>\n",
       "      <td>71.0</td>\n",
       "    </tr>\n",
       "    <tr>\n",
       "      <th>2670250</th>\n",
       "      <td>12581977</td>\n",
       "      <td>2021-12-31 12:46:00+00:00</td>\n",
       "      <td>ASSAULT</td>\n",
       "      <td>COMMERCIAL / BUSINESS OFFICE</td>\n",
       "      <td>False</td>\n",
       "      <td>False</td>\n",
       "      <td>623</td>\n",
       "      <td>44.0</td>\n",
       "    </tr>\n",
       "    <tr>\n",
       "      <th>2670251</th>\n",
       "      <td>12582396</td>\n",
       "      <td>2021-12-31 12:49:00+00:00</td>\n",
       "      <td>DECEPTIVE PRACTICE</td>\n",
       "      <td>RESIDENCE</td>\n",
       "      <td>False</td>\n",
       "      <td>False</td>\n",
       "      <td>611</td>\n",
       "      <td>71.0</td>\n",
       "    </tr>\n",
       "    <tr>\n",
       "      <th>2670252</th>\n",
       "      <td>12581002</td>\n",
       "      <td>2021-12-31 12:55:00+00:00</td>\n",
       "      <td>BATTERY</td>\n",
       "      <td>BAR OR TAVERN</td>\n",
       "      <td>False</td>\n",
       "      <td>False</td>\n",
       "      <td>1424</td>\n",
       "      <td>24.0</td>\n",
       "    </tr>\n",
       "  </tbody>\n",
       "</table>\n",
       "<p>2661779 rows × 8 columns</p>\n",
       "</div>"
      ],
      "text/plain": [
       "         unique_key                      date  \\\n",
       "0           8429131 2012-01-01 01:00:00+00:00   \n",
       "1           8452622 2012-01-01 01:00:00+00:00   \n",
       "2           8608264 2012-01-01 01:00:00+00:00   \n",
       "3           9142576 2012-01-01 01:00:00+00:00   \n",
       "4           8421988 2012-01-01 01:00:00+00:00   \n",
       "...             ...                       ...   \n",
       "2670248    12581388 2021-12-31 12:45:00+00:00   \n",
       "2670249    12581450 2021-12-31 12:45:00+00:00   \n",
       "2670250    12581977 2021-12-31 12:46:00+00:00   \n",
       "2670251    12582396 2021-12-31 12:49:00+00:00   \n",
       "2670252    12581002 2021-12-31 12:55:00+00:00   \n",
       "\n",
       "                              primary_type            location_description  \\\n",
       "0                       DECEPTIVE PRACTICE  ATM (AUTOMATIC TELLER MACHINE)   \n",
       "1                                    THEFT             TAVERN/LIQUOR STORE   \n",
       "2                                    THEFT           MEDICAL/DENTAL OFFICE   \n",
       "3                                    THEFT        SCHOOL, PUBLIC, BUILDING   \n",
       "4                                  BATTERY                   PARK PROPERTY   \n",
       "...                                    ...                             ...   \n",
       "2670248                            ASSAULT                       APARTMENT   \n",
       "2670249  CONCEALED CARRY LICENSE VIOLATION                          STREET   \n",
       "2670250                            ASSAULT    COMMERCIAL / BUSINESS OFFICE   \n",
       "2670251                 DECEPTIVE PRACTICE                       RESIDENCE   \n",
       "2670252                            BATTERY                   BAR OR TAVERN   \n",
       "\n",
       "         arrest  domestic  beat  community_area  \n",
       "0         False     False  1834             8.0  \n",
       "1         False     False  1832             8.0  \n",
       "2         False     False  1423            24.0  \n",
       "3         False     False  1523            25.0  \n",
       "4          True      True  1123            27.0  \n",
       "...         ...       ...   ...             ...  \n",
       "2670248   False     False   221            39.0  \n",
       "2670249    True     False   614            71.0  \n",
       "2670250   False     False   623            44.0  \n",
       "2670251   False     False   611            71.0  \n",
       "2670252   False     False  1424            24.0  \n",
       "\n",
       "[2661779 rows x 8 columns]"
      ]
     },
     "execution_count": 179,
     "metadata": {},
     "output_type": "execute_result"
    }
   ],
   "source": [
    "df = df.dropna()\n",
    "df"
   ]
  },
  {
   "cell_type": "code",
   "execution_count": 180,
   "id": "97e9131d",
   "metadata": {},
   "outputs": [
    {
     "data": {
      "text/html": [
       "<div>\n",
       "<style scoped>\n",
       "    .dataframe tbody tr th:only-of-type {\n",
       "        vertical-align: middle;\n",
       "    }\n",
       "\n",
       "    .dataframe tbody tr th {\n",
       "        vertical-align: top;\n",
       "    }\n",
       "\n",
       "    .dataframe thead th {\n",
       "        text-align: right;\n",
       "    }\n",
       "</style>\n",
       "<table border=\"1\" class=\"dataframe\">\n",
       "  <thead>\n",
       "    <tr style=\"text-align: right;\">\n",
       "      <th></th>\n",
       "      <th>unique_key</th>\n",
       "      <th>date</th>\n",
       "      <th>primary_type</th>\n",
       "      <th>location_description</th>\n",
       "      <th>arrest</th>\n",
       "      <th>domestic</th>\n",
       "      <th>beat</th>\n",
       "      <th>community_area</th>\n",
       "    </tr>\n",
       "  </thead>\n",
       "  <tbody>\n",
       "    <tr>\n",
       "      <th>0</th>\n",
       "      <td>8429131</td>\n",
       "      <td>2012-01-01 01:00:00+00:00</td>\n",
       "      <td>DECEPTIVE PRACTICE</td>\n",
       "      <td>ATM (AUTOMATIC TELLER MACHINE)</td>\n",
       "      <td>False</td>\n",
       "      <td>False</td>\n",
       "      <td>1834</td>\n",
       "      <td>8.0</td>\n",
       "    </tr>\n",
       "    <tr>\n",
       "      <th>1</th>\n",
       "      <td>8452622</td>\n",
       "      <td>2012-01-01 01:00:00+00:00</td>\n",
       "      <td>THEFT</td>\n",
       "      <td>TAVERN/LIQUOR STORE</td>\n",
       "      <td>False</td>\n",
       "      <td>False</td>\n",
       "      <td>1832</td>\n",
       "      <td>8.0</td>\n",
       "    </tr>\n",
       "    <tr>\n",
       "      <th>2</th>\n",
       "      <td>8608264</td>\n",
       "      <td>2012-01-01 01:00:00+00:00</td>\n",
       "      <td>THEFT</td>\n",
       "      <td>MEDICAL/DENTAL OFFICE</td>\n",
       "      <td>False</td>\n",
       "      <td>False</td>\n",
       "      <td>1423</td>\n",
       "      <td>24.0</td>\n",
       "    </tr>\n",
       "    <tr>\n",
       "      <th>3</th>\n",
       "      <td>9142576</td>\n",
       "      <td>2012-01-01 01:00:00+00:00</td>\n",
       "      <td>THEFT</td>\n",
       "      <td>SCHOOL, PUBLIC, BUILDING</td>\n",
       "      <td>False</td>\n",
       "      <td>False</td>\n",
       "      <td>1523</td>\n",
       "      <td>25.0</td>\n",
       "    </tr>\n",
       "    <tr>\n",
       "      <th>5</th>\n",
       "      <td>9049473</td>\n",
       "      <td>2012-01-01 01:00:00+00:00</td>\n",
       "      <td>OFFENSE INVOLVING CHILDREN</td>\n",
       "      <td>RESIDENCE</td>\n",
       "      <td>False</td>\n",
       "      <td>False</td>\n",
       "      <td>332</td>\n",
       "      <td>43.0</td>\n",
       "    </tr>\n",
       "    <tr>\n",
       "      <th>...</th>\n",
       "      <td>...</td>\n",
       "      <td>...</td>\n",
       "      <td>...</td>\n",
       "      <td>...</td>\n",
       "      <td>...</td>\n",
       "      <td>...</td>\n",
       "      <td>...</td>\n",
       "      <td>...</td>\n",
       "    </tr>\n",
       "    <tr>\n",
       "      <th>2670248</th>\n",
       "      <td>12581388</td>\n",
       "      <td>2021-12-31 12:45:00+00:00</td>\n",
       "      <td>ASSAULT</td>\n",
       "      <td>APARTMENT</td>\n",
       "      <td>False</td>\n",
       "      <td>False</td>\n",
       "      <td>221</td>\n",
       "      <td>39.0</td>\n",
       "    </tr>\n",
       "    <tr>\n",
       "      <th>2670249</th>\n",
       "      <td>12581450</td>\n",
       "      <td>2021-12-31 12:45:00+00:00</td>\n",
       "      <td>CONCEALED CARRY LICENSE VIOLATION</td>\n",
       "      <td>STREET</td>\n",
       "      <td>True</td>\n",
       "      <td>False</td>\n",
       "      <td>614</td>\n",
       "      <td>71.0</td>\n",
       "    </tr>\n",
       "    <tr>\n",
       "      <th>2670250</th>\n",
       "      <td>12581977</td>\n",
       "      <td>2021-12-31 12:46:00+00:00</td>\n",
       "      <td>ASSAULT</td>\n",
       "      <td>COMMERCIAL / BUSINESS OFFICE</td>\n",
       "      <td>False</td>\n",
       "      <td>False</td>\n",
       "      <td>623</td>\n",
       "      <td>44.0</td>\n",
       "    </tr>\n",
       "    <tr>\n",
       "      <th>2670251</th>\n",
       "      <td>12582396</td>\n",
       "      <td>2021-12-31 12:49:00+00:00</td>\n",
       "      <td>DECEPTIVE PRACTICE</td>\n",
       "      <td>RESIDENCE</td>\n",
       "      <td>False</td>\n",
       "      <td>False</td>\n",
       "      <td>611</td>\n",
       "      <td>71.0</td>\n",
       "    </tr>\n",
       "    <tr>\n",
       "      <th>2670252</th>\n",
       "      <td>12581002</td>\n",
       "      <td>2021-12-31 12:55:00+00:00</td>\n",
       "      <td>BATTERY</td>\n",
       "      <td>BAR OR TAVERN</td>\n",
       "      <td>False</td>\n",
       "      <td>False</td>\n",
       "      <td>1424</td>\n",
       "      <td>24.0</td>\n",
       "    </tr>\n",
       "  </tbody>\n",
       "</table>\n",
       "<p>2227518 rows × 8 columns</p>\n",
       "</div>"
      ],
      "text/plain": [
       "         unique_key                      date  \\\n",
       "0           8429131 2012-01-01 01:00:00+00:00   \n",
       "1           8452622 2012-01-01 01:00:00+00:00   \n",
       "2           8608264 2012-01-01 01:00:00+00:00   \n",
       "3           9142576 2012-01-01 01:00:00+00:00   \n",
       "5           9049473 2012-01-01 01:00:00+00:00   \n",
       "...             ...                       ...   \n",
       "2670248    12581388 2021-12-31 12:45:00+00:00   \n",
       "2670249    12581450 2021-12-31 12:45:00+00:00   \n",
       "2670250    12581977 2021-12-31 12:46:00+00:00   \n",
       "2670251    12582396 2021-12-31 12:49:00+00:00   \n",
       "2670252    12581002 2021-12-31 12:55:00+00:00   \n",
       "\n",
       "                              primary_type            location_description  \\\n",
       "0                       DECEPTIVE PRACTICE  ATM (AUTOMATIC TELLER MACHINE)   \n",
       "1                                    THEFT             TAVERN/LIQUOR STORE   \n",
       "2                                    THEFT           MEDICAL/DENTAL OFFICE   \n",
       "3                                    THEFT        SCHOOL, PUBLIC, BUILDING   \n",
       "5               OFFENSE INVOLVING CHILDREN                       RESIDENCE   \n",
       "...                                    ...                             ...   \n",
       "2670248                            ASSAULT                       APARTMENT   \n",
       "2670249  CONCEALED CARRY LICENSE VIOLATION                          STREET   \n",
       "2670250                            ASSAULT    COMMERCIAL / BUSINESS OFFICE   \n",
       "2670251                 DECEPTIVE PRACTICE                       RESIDENCE   \n",
       "2670252                            BATTERY                   BAR OR TAVERN   \n",
       "\n",
       "         arrest  domestic  beat  community_area  \n",
       "0         False     False  1834             8.0  \n",
       "1         False     False  1832             8.0  \n",
       "2         False     False  1423            24.0  \n",
       "3         False     False  1523            25.0  \n",
       "5         False     False   332            43.0  \n",
       "...         ...       ...   ...             ...  \n",
       "2670248   False     False   221            39.0  \n",
       "2670249    True     False   614            71.0  \n",
       "2670250   False     False   623            44.0  \n",
       "2670251   False     False   611            71.0  \n",
       "2670252   False     False  1424            24.0  \n",
       "\n",
       "[2227518 rows x 8 columns]"
      ]
     },
     "execution_count": 180,
     "metadata": {},
     "output_type": "execute_result"
    }
   ],
   "source": [
    "# 가정 관련 범죄는 제외\n",
    "df1 = df.loc[df['domestic'] == False]\n",
    "df1"
   ]
  },
  {
   "cell_type": "code",
   "execution_count": 181,
   "id": "a0b884cb",
   "metadata": {
    "scrolled": true
   },
   "outputs": [
    {
     "name": "stderr",
     "output_type": "stream",
     "text": [
      "/var/folders/j2/qvzy45bn0l71dytmdq4v9r6r0000gn/T/ipykernel_35602/2014687281.py:2: SettingWithCopyWarning: \n",
      "A value is trying to be set on a copy of a slice from a DataFrame.\n",
      "Try using .loc[row_indexer,col_indexer] = value instead\n",
      "\n",
      "See the caveats in the documentation: https://pandas.pydata.org/pandas-docs/stable/user_guide/indexing.html#returning-a-view-versus-a-copy\n",
      "  df1['month'] = df1['date'].dt.strftime('%Y-%m')\n",
      "/var/folders/j2/qvzy45bn0l71dytmdq4v9r6r0000gn/T/ipykernel_35602/2014687281.py:3: SettingWithCopyWarning: \n",
      "A value is trying to be set on a copy of a slice from a DataFrame.\n",
      "Try using .loc[row_indexer,col_indexer] = value instead\n",
      "\n",
      "See the caveats in the documentation: https://pandas.pydata.org/pandas-docs/stable/user_guide/indexing.html#returning-a-view-versus-a-copy\n",
      "  df1['year'] = df1['date'].dt.strftime('%Y')\n"
     ]
    },
    {
     "data": {
      "text/html": [
       "<div>\n",
       "<style scoped>\n",
       "    .dataframe tbody tr th:only-of-type {\n",
       "        vertical-align: middle;\n",
       "    }\n",
       "\n",
       "    .dataframe tbody tr th {\n",
       "        vertical-align: top;\n",
       "    }\n",
       "\n",
       "    .dataframe thead th {\n",
       "        text-align: right;\n",
       "    }\n",
       "</style>\n",
       "<table border=\"1\" class=\"dataframe\">\n",
       "  <thead>\n",
       "    <tr style=\"text-align: right;\">\n",
       "      <th></th>\n",
       "      <th>unique_key</th>\n",
       "      <th>date</th>\n",
       "      <th>primary_type</th>\n",
       "      <th>location_description</th>\n",
       "      <th>arrest</th>\n",
       "      <th>domestic</th>\n",
       "      <th>beat</th>\n",
       "      <th>community_area</th>\n",
       "      <th>month</th>\n",
       "      <th>year</th>\n",
       "    </tr>\n",
       "  </thead>\n",
       "  <tbody>\n",
       "    <tr>\n",
       "      <th>0</th>\n",
       "      <td>8429131</td>\n",
       "      <td>2012-01-01 01:00:00+00:00</td>\n",
       "      <td>DECEPTIVE PRACTICE</td>\n",
       "      <td>ATM (AUTOMATIC TELLER MACHINE)</td>\n",
       "      <td>False</td>\n",
       "      <td>False</td>\n",
       "      <td>1834</td>\n",
       "      <td>8.0</td>\n",
       "      <td>2012-01</td>\n",
       "      <td>2012</td>\n",
       "    </tr>\n",
       "    <tr>\n",
       "      <th>1</th>\n",
       "      <td>8452622</td>\n",
       "      <td>2012-01-01 01:00:00+00:00</td>\n",
       "      <td>THEFT</td>\n",
       "      <td>TAVERN/LIQUOR STORE</td>\n",
       "      <td>False</td>\n",
       "      <td>False</td>\n",
       "      <td>1832</td>\n",
       "      <td>8.0</td>\n",
       "      <td>2012-01</td>\n",
       "      <td>2012</td>\n",
       "    </tr>\n",
       "    <tr>\n",
       "      <th>2</th>\n",
       "      <td>8608264</td>\n",
       "      <td>2012-01-01 01:00:00+00:00</td>\n",
       "      <td>THEFT</td>\n",
       "      <td>MEDICAL/DENTAL OFFICE</td>\n",
       "      <td>False</td>\n",
       "      <td>False</td>\n",
       "      <td>1423</td>\n",
       "      <td>24.0</td>\n",
       "      <td>2012-01</td>\n",
       "      <td>2012</td>\n",
       "    </tr>\n",
       "    <tr>\n",
       "      <th>3</th>\n",
       "      <td>9142576</td>\n",
       "      <td>2012-01-01 01:00:00+00:00</td>\n",
       "      <td>THEFT</td>\n",
       "      <td>SCHOOL, PUBLIC, BUILDING</td>\n",
       "      <td>False</td>\n",
       "      <td>False</td>\n",
       "      <td>1523</td>\n",
       "      <td>25.0</td>\n",
       "      <td>2012-01</td>\n",
       "      <td>2012</td>\n",
       "    </tr>\n",
       "    <tr>\n",
       "      <th>5</th>\n",
       "      <td>9049473</td>\n",
       "      <td>2012-01-01 01:00:00+00:00</td>\n",
       "      <td>OFFENSE INVOLVING CHILDREN</td>\n",
       "      <td>RESIDENCE</td>\n",
       "      <td>False</td>\n",
       "      <td>False</td>\n",
       "      <td>332</td>\n",
       "      <td>43.0</td>\n",
       "      <td>2012-01</td>\n",
       "      <td>2012</td>\n",
       "    </tr>\n",
       "    <tr>\n",
       "      <th>...</th>\n",
       "      <td>...</td>\n",
       "      <td>...</td>\n",
       "      <td>...</td>\n",
       "      <td>...</td>\n",
       "      <td>...</td>\n",
       "      <td>...</td>\n",
       "      <td>...</td>\n",
       "      <td>...</td>\n",
       "      <td>...</td>\n",
       "      <td>...</td>\n",
       "    </tr>\n",
       "    <tr>\n",
       "      <th>2670248</th>\n",
       "      <td>12581388</td>\n",
       "      <td>2021-12-31 12:45:00+00:00</td>\n",
       "      <td>ASSAULT</td>\n",
       "      <td>APARTMENT</td>\n",
       "      <td>False</td>\n",
       "      <td>False</td>\n",
       "      <td>221</td>\n",
       "      <td>39.0</td>\n",
       "      <td>2021-12</td>\n",
       "      <td>2021</td>\n",
       "    </tr>\n",
       "    <tr>\n",
       "      <th>2670249</th>\n",
       "      <td>12581450</td>\n",
       "      <td>2021-12-31 12:45:00+00:00</td>\n",
       "      <td>CONCEALED CARRY LICENSE VIOLATION</td>\n",
       "      <td>STREET</td>\n",
       "      <td>True</td>\n",
       "      <td>False</td>\n",
       "      <td>614</td>\n",
       "      <td>71.0</td>\n",
       "      <td>2021-12</td>\n",
       "      <td>2021</td>\n",
       "    </tr>\n",
       "    <tr>\n",
       "      <th>2670250</th>\n",
       "      <td>12581977</td>\n",
       "      <td>2021-12-31 12:46:00+00:00</td>\n",
       "      <td>ASSAULT</td>\n",
       "      <td>COMMERCIAL / BUSINESS OFFICE</td>\n",
       "      <td>False</td>\n",
       "      <td>False</td>\n",
       "      <td>623</td>\n",
       "      <td>44.0</td>\n",
       "      <td>2021-12</td>\n",
       "      <td>2021</td>\n",
       "    </tr>\n",
       "    <tr>\n",
       "      <th>2670251</th>\n",
       "      <td>12582396</td>\n",
       "      <td>2021-12-31 12:49:00+00:00</td>\n",
       "      <td>DECEPTIVE PRACTICE</td>\n",
       "      <td>RESIDENCE</td>\n",
       "      <td>False</td>\n",
       "      <td>False</td>\n",
       "      <td>611</td>\n",
       "      <td>71.0</td>\n",
       "      <td>2021-12</td>\n",
       "      <td>2021</td>\n",
       "    </tr>\n",
       "    <tr>\n",
       "      <th>2670252</th>\n",
       "      <td>12581002</td>\n",
       "      <td>2021-12-31 12:55:00+00:00</td>\n",
       "      <td>BATTERY</td>\n",
       "      <td>BAR OR TAVERN</td>\n",
       "      <td>False</td>\n",
       "      <td>False</td>\n",
       "      <td>1424</td>\n",
       "      <td>24.0</td>\n",
       "      <td>2021-12</td>\n",
       "      <td>2021</td>\n",
       "    </tr>\n",
       "  </tbody>\n",
       "</table>\n",
       "<p>2227518 rows × 10 columns</p>\n",
       "</div>"
      ],
      "text/plain": [
       "         unique_key                      date  \\\n",
       "0           8429131 2012-01-01 01:00:00+00:00   \n",
       "1           8452622 2012-01-01 01:00:00+00:00   \n",
       "2           8608264 2012-01-01 01:00:00+00:00   \n",
       "3           9142576 2012-01-01 01:00:00+00:00   \n",
       "5           9049473 2012-01-01 01:00:00+00:00   \n",
       "...             ...                       ...   \n",
       "2670248    12581388 2021-12-31 12:45:00+00:00   \n",
       "2670249    12581450 2021-12-31 12:45:00+00:00   \n",
       "2670250    12581977 2021-12-31 12:46:00+00:00   \n",
       "2670251    12582396 2021-12-31 12:49:00+00:00   \n",
       "2670252    12581002 2021-12-31 12:55:00+00:00   \n",
       "\n",
       "                              primary_type            location_description  \\\n",
       "0                       DECEPTIVE PRACTICE  ATM (AUTOMATIC TELLER MACHINE)   \n",
       "1                                    THEFT             TAVERN/LIQUOR STORE   \n",
       "2                                    THEFT           MEDICAL/DENTAL OFFICE   \n",
       "3                                    THEFT        SCHOOL, PUBLIC, BUILDING   \n",
       "5               OFFENSE INVOLVING CHILDREN                       RESIDENCE   \n",
       "...                                    ...                             ...   \n",
       "2670248                            ASSAULT                       APARTMENT   \n",
       "2670249  CONCEALED CARRY LICENSE VIOLATION                          STREET   \n",
       "2670250                            ASSAULT    COMMERCIAL / BUSINESS OFFICE   \n",
       "2670251                 DECEPTIVE PRACTICE                       RESIDENCE   \n",
       "2670252                            BATTERY                   BAR OR TAVERN   \n",
       "\n",
       "         arrest  domestic  beat  community_area    month  year  \n",
       "0         False     False  1834             8.0  2012-01  2012  \n",
       "1         False     False  1832             8.0  2012-01  2012  \n",
       "2         False     False  1423            24.0  2012-01  2012  \n",
       "3         False     False  1523            25.0  2012-01  2012  \n",
       "5         False     False   332            43.0  2012-01  2012  \n",
       "...         ...       ...   ...             ...      ...   ...  \n",
       "2670248   False     False   221            39.0  2021-12  2021  \n",
       "2670249    True     False   614            71.0  2021-12  2021  \n",
       "2670250   False     False   623            44.0  2021-12  2021  \n",
       "2670251   False     False   611            71.0  2021-12  2021  \n",
       "2670252   False     False  1424            24.0  2021-12  2021  \n",
       "\n",
       "[2227518 rows x 10 columns]"
      ]
     },
     "execution_count": 181,
     "metadata": {},
     "output_type": "execute_result"
    }
   ],
   "source": [
    "# 년, 월 별도 설정\n",
    "df1['month'] = df1['date'].dt.strftime('%Y-%m')\n",
    "df1['year'] = df1['date'].dt.strftime('%Y')\n",
    "df1"
   ]
  },
  {
   "cell_type": "code",
   "execution_count": 407,
   "id": "5e0cb2cc",
   "metadata": {},
   "outputs": [
    {
     "name": "stdout",
     "output_type": "stream",
     "text": [
      "<class 'pandas.core.frame.DataFrame'>\n",
      "Int64Index: 2227518 entries, 0 to 2670252\n",
      "Data columns (total 11 columns):\n",
      " #   Column                Dtype              \n",
      "---  ------                -----              \n",
      " 0   unique_key            int64              \n",
      " 1   date                  datetime64[ns, UTC]\n",
      " 2   primary_type          object             \n",
      " 3   location_description  object             \n",
      " 4   arrest                bool               \n",
      " 5   domestic              bool               \n",
      " 6   beat                  int64              \n",
      " 7   community_area        float64            \n",
      " 8   month                 object             \n",
      " 9   year                  object             \n",
      " 10  only_month            object             \n",
      "dtypes: bool(2), datetime64[ns, UTC](1), float64(1), int64(2), object(5)\n",
      "memory usage: 174.2+ MB\n"
     ]
    }
   ],
   "source": [
    "df1.info()"
   ]
  },
  {
   "cell_type": "code",
   "execution_count": 182,
   "id": "1490353d",
   "metadata": {},
   "outputs": [
    {
     "data": {
      "text/html": [
       "<div>\n",
       "<style scoped>\n",
       "    .dataframe tbody tr th:only-of-type {\n",
       "        vertical-align: middle;\n",
       "    }\n",
       "\n",
       "    .dataframe tbody tr th {\n",
       "        vertical-align: top;\n",
       "    }\n",
       "\n",
       "    .dataframe thead th {\n",
       "        text-align: right;\n",
       "    }\n",
       "</style>\n",
       "<table border=\"1\" class=\"dataframe\">\n",
       "  <thead>\n",
       "    <tr style=\"text-align: right;\">\n",
       "      <th></th>\n",
       "      <th>index</th>\n",
       "      <th>year</th>\n",
       "    </tr>\n",
       "  </thead>\n",
       "  <tbody>\n",
       "    <tr>\n",
       "      <th>0</th>\n",
       "      <td>2012</td>\n",
       "      <td>287084</td>\n",
       "    </tr>\n",
       "    <tr>\n",
       "      <th>1</th>\n",
       "      <td>2013</td>\n",
       "      <td>262175</td>\n",
       "    </tr>\n",
       "    <tr>\n",
       "      <th>2</th>\n",
       "      <td>2014</td>\n",
       "      <td>234695</td>\n",
       "    </tr>\n",
       "    <tr>\n",
       "      <th>6</th>\n",
       "      <td>2015</td>\n",
       "      <td>222138</td>\n",
       "    </tr>\n",
       "    <tr>\n",
       "      <th>3</th>\n",
       "      <td>2016</td>\n",
       "      <td>225203</td>\n",
       "    </tr>\n",
       "    <tr>\n",
       "      <th>4</th>\n",
       "      <td>2017</td>\n",
       "      <td>224797</td>\n",
       "    </tr>\n",
       "    <tr>\n",
       "      <th>5</th>\n",
       "      <td>2018</td>\n",
       "      <td>223487</td>\n",
       "    </tr>\n",
       "    <tr>\n",
       "      <th>7</th>\n",
       "      <td>2019</td>\n",
       "      <td>216498</td>\n",
       "    </tr>\n",
       "    <tr>\n",
       "      <th>8</th>\n",
       "      <td>2020</td>\n",
       "      <td>170493</td>\n",
       "    </tr>\n",
       "    <tr>\n",
       "      <th>9</th>\n",
       "      <td>2021</td>\n",
       "      <td>160948</td>\n",
       "    </tr>\n",
       "  </tbody>\n",
       "</table>\n",
       "</div>"
      ],
      "text/plain": [
       "  index    year\n",
       "0  2012  287084\n",
       "1  2013  262175\n",
       "2  2014  234695\n",
       "6  2015  222138\n",
       "3  2016  225203\n",
       "4  2017  224797\n",
       "5  2018  223487\n",
       "7  2019  216498\n",
       "8  2020  170493\n",
       "9  2021  160948"
      ]
     },
     "execution_count": 182,
     "metadata": {},
     "output_type": "execute_result"
    }
   ],
   "source": [
    "# 년도별 분석\n",
    "df1_year = df1['year'].value_counts().reset_index().sort_values('index')\n",
    "df1_year"
   ]
  },
  {
   "cell_type": "code",
   "execution_count": 183,
   "id": "9d7bc65c",
   "metadata": {},
   "outputs": [
    {
     "data": {
      "text/html": [
       "<div>\n",
       "<style scoped>\n",
       "    .dataframe tbody tr th:only-of-type {\n",
       "        vertical-align: middle;\n",
       "    }\n",
       "\n",
       "    .dataframe tbody tr th {\n",
       "        vertical-align: top;\n",
       "    }\n",
       "\n",
       "    .dataframe thead th {\n",
       "        text-align: right;\n",
       "    }\n",
       "</style>\n",
       "<table border=\"1\" class=\"dataframe\">\n",
       "  <thead>\n",
       "    <tr style=\"text-align: right;\">\n",
       "      <th></th>\n",
       "      <th>year</th>\n",
       "      <th>count</th>\n",
       "    </tr>\n",
       "  </thead>\n",
       "  <tbody>\n",
       "    <tr>\n",
       "      <th>0</th>\n",
       "      <td>2012</td>\n",
       "      <td>287084</td>\n",
       "    </tr>\n",
       "    <tr>\n",
       "      <th>1</th>\n",
       "      <td>2013</td>\n",
       "      <td>262175</td>\n",
       "    </tr>\n",
       "    <tr>\n",
       "      <th>2</th>\n",
       "      <td>2014</td>\n",
       "      <td>234695</td>\n",
       "    </tr>\n",
       "    <tr>\n",
       "      <th>6</th>\n",
       "      <td>2015</td>\n",
       "      <td>222138</td>\n",
       "    </tr>\n",
       "    <tr>\n",
       "      <th>3</th>\n",
       "      <td>2016</td>\n",
       "      <td>225203</td>\n",
       "    </tr>\n",
       "    <tr>\n",
       "      <th>4</th>\n",
       "      <td>2017</td>\n",
       "      <td>224797</td>\n",
       "    </tr>\n",
       "    <tr>\n",
       "      <th>5</th>\n",
       "      <td>2018</td>\n",
       "      <td>223487</td>\n",
       "    </tr>\n",
       "    <tr>\n",
       "      <th>7</th>\n",
       "      <td>2019</td>\n",
       "      <td>216498</td>\n",
       "    </tr>\n",
       "    <tr>\n",
       "      <th>8</th>\n",
       "      <td>2020</td>\n",
       "      <td>170493</td>\n",
       "    </tr>\n",
       "    <tr>\n",
       "      <th>9</th>\n",
       "      <td>2021</td>\n",
       "      <td>160948</td>\n",
       "    </tr>\n",
       "  </tbody>\n",
       "</table>\n",
       "</div>"
      ],
      "text/plain": [
       "   year   count\n",
       "0  2012  287084\n",
       "1  2013  262175\n",
       "2  2014  234695\n",
       "6  2015  222138\n",
       "3  2016  225203\n",
       "4  2017  224797\n",
       "5  2018  223487\n",
       "7  2019  216498\n",
       "8  2020  170493\n",
       "9  2021  160948"
      ]
     },
     "execution_count": 183,
     "metadata": {},
     "output_type": "execute_result"
    }
   ],
   "source": [
    "df1_year.columns = ['year', 'count']\n",
    "df1_year"
   ]
  },
  {
   "cell_type": "code",
   "execution_count": 385,
   "id": "34e1059e",
   "metadata": {},
   "outputs": [
    {
     "data": {
      "image/png": "[encoded data removed]",
      "text/plain": [
       "<Figure size 432x288 with 1 Axes>"
      ]
     },
     "metadata": {},
     "output_type": "display_data"
    }
   ],
   "source": [
    "sns.lineplot(data = df1_year, x = 'year', y = 'count', color = 'tab:blue')\n",
    "plt.ylim(bottom = 0)\n",
    "plt.show()"
   ]
  },
  {
   "cell_type": "code",
   "execution_count": 488,
   "id": "cfac1664",
   "metadata": {},
   "outputs": [
    {
     "data": {
      "text/plain": [
       "-21.249618934124104"
      ]
     },
     "execution_count": 488,
     "metadata": {},
     "output_type": "execute_result"
    }
   ],
   "source": [
    "(170493 - 216498) / 216498 *100"
   ]
  },
  {
   "cell_type": "markdown",
   "id": "183e6228",
   "metadata": {},
   "source": [
    "- 2019~20: 약 -21%"
   ]
  },
  {
   "cell_type": "code",
   "execution_count": 186,
   "id": "21e2c8ab",
   "metadata": {},
   "outputs": [
    {
     "data": {
      "text/html": [
       "<div>\n",
       "<style scoped>\n",
       "    .dataframe tbody tr th:only-of-type {\n",
       "        vertical-align: middle;\n",
       "    }\n",
       "\n",
       "    .dataframe tbody tr th {\n",
       "        vertical-align: top;\n",
       "    }\n",
       "\n",
       "    .dataframe thead th {\n",
       "        text-align: right;\n",
       "    }\n",
       "</style>\n",
       "<table border=\"1\" class=\"dataframe\">\n",
       "  <thead>\n",
       "    <tr style=\"text-align: right;\">\n",
       "      <th></th>\n",
       "      <th>index</th>\n",
       "      <th>month</th>\n",
       "    </tr>\n",
       "  </thead>\n",
       "  <tbody>\n",
       "    <tr>\n",
       "      <th>15</th>\n",
       "      <td>2012-01</td>\n",
       "      <td>22478</td>\n",
       "    </tr>\n",
       "    <tr>\n",
       "      <th>35</th>\n",
       "      <td>2012-02</td>\n",
       "      <td>20366</td>\n",
       "    </tr>\n",
       "    <tr>\n",
       "      <th>7</th>\n",
       "      <td>2012-03</td>\n",
       "      <td>24209</td>\n",
       "    </tr>\n",
       "    <tr>\n",
       "      <th>10</th>\n",
       "      <td>2012-04</td>\n",
       "      <td>23158</td>\n",
       "    </tr>\n",
       "    <tr>\n",
       "      <th>3</th>\n",
       "      <td>2012-05</td>\n",
       "      <td>25500</td>\n",
       "    </tr>\n",
       "    <tr>\n",
       "      <th>...</th>\n",
       "      <td>...</td>\n",
       "      <td>...</td>\n",
       "    </tr>\n",
       "    <tr>\n",
       "      <th>106</th>\n",
       "      <td>2021-08</td>\n",
       "      <td>14198</td>\n",
       "    </tr>\n",
       "    <tr>\n",
       "      <th>98</th>\n",
       "      <td>2021-09</td>\n",
       "      <td>15133</td>\n",
       "    </tr>\n",
       "    <tr>\n",
       "      <th>96</th>\n",
       "      <td>2021-10</td>\n",
       "      <td>15394</td>\n",
       "    </tr>\n",
       "    <tr>\n",
       "      <th>107</th>\n",
       "      <td>2021-11</td>\n",
       "      <td>13792</td>\n",
       "    </tr>\n",
       "    <tr>\n",
       "      <th>110</th>\n",
       "      <td>2021-12</td>\n",
       "      <td>13484</td>\n",
       "    </tr>\n",
       "  </tbody>\n",
       "</table>\n",
       "<p>120 rows × 2 columns</p>\n",
       "</div>"
      ],
      "text/plain": [
       "       index  month\n",
       "15   2012-01  22478\n",
       "35   2012-02  20366\n",
       "7    2012-03  24209\n",
       "10   2012-04  23158\n",
       "3    2012-05  25500\n",
       "..       ...    ...\n",
       "106  2021-08  14198\n",
       "98   2021-09  15133\n",
       "96   2021-10  15394\n",
       "107  2021-11  13792\n",
       "110  2021-12  13484\n",
       "\n",
       "[120 rows x 2 columns]"
      ]
     },
     "execution_count": 186,
     "metadata": {},
     "output_type": "execute_result"
    }
   ],
   "source": [
    "# 년+월별 분석\n",
    "df1_month = df1['month'].value_counts().reset_index().sort_values('index')\n",
    "df1_month"
   ]
  },
  {
   "cell_type": "code",
   "execution_count": 187,
   "id": "88195a0e",
   "metadata": {},
   "outputs": [
    {
     "data": {
      "text/html": [
       "<div>\n",
       "<style scoped>\n",
       "    .dataframe tbody tr th:only-of-type {\n",
       "        vertical-align: middle;\n",
       "    }\n",
       "\n",
       "    .dataframe tbody tr th {\n",
       "        vertical-align: top;\n",
       "    }\n",
       "\n",
       "    .dataframe thead th {\n",
       "        text-align: right;\n",
       "    }\n",
       "</style>\n",
       "<table border=\"1\" class=\"dataframe\">\n",
       "  <thead>\n",
       "    <tr style=\"text-align: right;\">\n",
       "      <th></th>\n",
       "      <th>month</th>\n",
       "      <th>count</th>\n",
       "    </tr>\n",
       "  </thead>\n",
       "  <tbody>\n",
       "    <tr>\n",
       "      <th>15</th>\n",
       "      <td>2012-01</td>\n",
       "      <td>22478</td>\n",
       "    </tr>\n",
       "    <tr>\n",
       "      <th>35</th>\n",
       "      <td>2012-02</td>\n",
       "      <td>20366</td>\n",
       "    </tr>\n",
       "    <tr>\n",
       "      <th>7</th>\n",
       "      <td>2012-03</td>\n",
       "      <td>24209</td>\n",
       "    </tr>\n",
       "    <tr>\n",
       "      <th>10</th>\n",
       "      <td>2012-04</td>\n",
       "      <td>23158</td>\n",
       "    </tr>\n",
       "    <tr>\n",
       "      <th>3</th>\n",
       "      <td>2012-05</td>\n",
       "      <td>25500</td>\n",
       "    </tr>\n",
       "    <tr>\n",
       "      <th>...</th>\n",
       "      <td>...</td>\n",
       "      <td>...</td>\n",
       "    </tr>\n",
       "    <tr>\n",
       "      <th>106</th>\n",
       "      <td>2021-08</td>\n",
       "      <td>14198</td>\n",
       "    </tr>\n",
       "    <tr>\n",
       "      <th>98</th>\n",
       "      <td>2021-09</td>\n",
       "      <td>15133</td>\n",
       "    </tr>\n",
       "    <tr>\n",
       "      <th>96</th>\n",
       "      <td>2021-10</td>\n",
       "      <td>15394</td>\n",
       "    </tr>\n",
       "    <tr>\n",
       "      <th>107</th>\n",
       "      <td>2021-11</td>\n",
       "      <td>13792</td>\n",
       "    </tr>\n",
       "    <tr>\n",
       "      <th>110</th>\n",
       "      <td>2021-12</td>\n",
       "      <td>13484</td>\n",
       "    </tr>\n",
       "  </tbody>\n",
       "</table>\n",
       "<p>120 rows × 2 columns</p>\n",
       "</div>"
      ],
      "text/plain": [
       "       month  count\n",
       "15   2012-01  22478\n",
       "35   2012-02  20366\n",
       "7    2012-03  24209\n",
       "10   2012-04  23158\n",
       "3    2012-05  25500\n",
       "..       ...    ...\n",
       "106  2021-08  14198\n",
       "98   2021-09  15133\n",
       "96   2021-10  15394\n",
       "107  2021-11  13792\n",
       "110  2021-12  13484\n",
       "\n",
       "[120 rows x 2 columns]"
      ]
     },
     "execution_count": 187,
     "metadata": {},
     "output_type": "execute_result"
    }
   ],
   "source": [
    "df1_month.columns = ['month', 'count']\n",
    "df1_month"
   ]
  },
  {
   "cell_type": "code",
   "execution_count": 395,
   "id": "76b7a750",
   "metadata": {
    "scrolled": false
   },
   "outputs": [
    {
     "data": {
      "image/png": "[encoded data removed]",
      "text/plain": [
       "<Figure size 1440x576 with 1 Axes>"
      ]
     },
     "metadata": {},
     "output_type": "display_data"
    }
   ],
   "source": [
    "plt.figure(figsize = (20,8))\n",
    "sns.lineplot(data = df1_month, x = 'month', y = 'count', color = 'tab:blue')\n",
    "plt.ylim(bottom = 0)\n",
    "plt.xticks(rotation = 45)\n",
    "plt.show()"
   ]
  },
  {
   "cell_type": "markdown",
   "id": "10f54b0c",
   "metadata": {},
   "source": [
    "특정 월에 범죄가 급감하고 다시 올라간다"
   ]
  },
  {
   "cell_type": "code",
   "execution_count": 189,
   "id": "b21c2d09",
   "metadata": {},
   "outputs": [
    {
     "name": "stderr",
     "output_type": "stream",
     "text": [
      "/var/folders/j2/qvzy45bn0l71dytmdq4v9r6r0000gn/T/ipykernel_35602/875801696.py:1: SettingWithCopyWarning: \n",
      "A value is trying to be set on a copy of a slice from a DataFrame.\n",
      "Try using .loc[row_indexer,col_indexer] = value instead\n",
      "\n",
      "See the caveats in the documentation: https://pandas.pydata.org/pandas-docs/stable/user_guide/indexing.html#returning-a-view-versus-a-copy\n",
      "  df1['only_month'] = df1['date'].dt.strftime('%m')\n"
     ]
    },
    {
     "data": {
      "text/html": [
       "<div>\n",
       "<style scoped>\n",
       "    .dataframe tbody tr th:only-of-type {\n",
       "        vertical-align: middle;\n",
       "    }\n",
       "\n",
       "    .dataframe tbody tr th {\n",
       "        vertical-align: top;\n",
       "    }\n",
       "\n",
       "    .dataframe thead th {\n",
       "        text-align: right;\n",
       "    }\n",
       "</style>\n",
       "<table border=\"1\" class=\"dataframe\">\n",
       "  <thead>\n",
       "    <tr style=\"text-align: right;\">\n",
       "      <th></th>\n",
       "      <th>unique_key</th>\n",
       "      <th>date</th>\n",
       "      <th>primary_type</th>\n",
       "      <th>location_description</th>\n",
       "      <th>arrest</th>\n",
       "      <th>domestic</th>\n",
       "      <th>beat</th>\n",
       "      <th>community_area</th>\n",
       "      <th>month</th>\n",
       "      <th>year</th>\n",
       "      <th>only_month</th>\n",
       "    </tr>\n",
       "  </thead>\n",
       "  <tbody>\n",
       "    <tr>\n",
       "      <th>0</th>\n",
       "      <td>8429131</td>\n",
       "      <td>2012-01-01 01:00:00+00:00</td>\n",
       "      <td>DECEPTIVE PRACTICE</td>\n",
       "      <td>ATM (AUTOMATIC TELLER MACHINE)</td>\n",
       "      <td>False</td>\n",
       "      <td>False</td>\n",
       "      <td>1834</td>\n",
       "      <td>8.0</td>\n",
       "      <td>2012-01</td>\n",
       "      <td>2012</td>\n",
       "      <td>01</td>\n",
       "    </tr>\n",
       "    <tr>\n",
       "      <th>1</th>\n",
       "      <td>8452622</td>\n",
       "      <td>2012-01-01 01:00:00+00:00</td>\n",
       "      <td>THEFT</td>\n",
       "      <td>TAVERN/LIQUOR STORE</td>\n",
       "      <td>False</td>\n",
       "      <td>False</td>\n",
       "      <td>1832</td>\n",
       "      <td>8.0</td>\n",
       "      <td>2012-01</td>\n",
       "      <td>2012</td>\n",
       "      <td>01</td>\n",
       "    </tr>\n",
       "    <tr>\n",
       "      <th>2</th>\n",
       "      <td>8608264</td>\n",
       "      <td>2012-01-01 01:00:00+00:00</td>\n",
       "      <td>THEFT</td>\n",
       "      <td>MEDICAL/DENTAL OFFICE</td>\n",
       "      <td>False</td>\n",
       "      <td>False</td>\n",
       "      <td>1423</td>\n",
       "      <td>24.0</td>\n",
       "      <td>2012-01</td>\n",
       "      <td>2012</td>\n",
       "      <td>01</td>\n",
       "    </tr>\n",
       "    <tr>\n",
       "      <th>3</th>\n",
       "      <td>9142576</td>\n",
       "      <td>2012-01-01 01:00:00+00:00</td>\n",
       "      <td>THEFT</td>\n",
       "      <td>SCHOOL, PUBLIC, BUILDING</td>\n",
       "      <td>False</td>\n",
       "      <td>False</td>\n",
       "      <td>1523</td>\n",
       "      <td>25.0</td>\n",
       "      <td>2012-01</td>\n",
       "      <td>2012</td>\n",
       "      <td>01</td>\n",
       "    </tr>\n",
       "    <tr>\n",
       "      <th>5</th>\n",
       "      <td>9049473</td>\n",
       "      <td>2012-01-01 01:00:00+00:00</td>\n",
       "      <td>OFFENSE INVOLVING CHILDREN</td>\n",
       "      <td>RESIDENCE</td>\n",
       "      <td>False</td>\n",
       "      <td>False</td>\n",
       "      <td>332</td>\n",
       "      <td>43.0</td>\n",
       "      <td>2012-01</td>\n",
       "      <td>2012</td>\n",
       "      <td>01</td>\n",
       "    </tr>\n",
       "    <tr>\n",
       "      <th>...</th>\n",
       "      <td>...</td>\n",
       "      <td>...</td>\n",
       "      <td>...</td>\n",
       "      <td>...</td>\n",
       "      <td>...</td>\n",
       "      <td>...</td>\n",
       "      <td>...</td>\n",
       "      <td>...</td>\n",
       "      <td>...</td>\n",
       "      <td>...</td>\n",
       "      <td>...</td>\n",
       "    </tr>\n",
       "    <tr>\n",
       "      <th>2670248</th>\n",
       "      <td>12581388</td>\n",
       "      <td>2021-12-31 12:45:00+00:00</td>\n",
       "      <td>ASSAULT</td>\n",
       "      <td>APARTMENT</td>\n",
       "      <td>False</td>\n",
       "      <td>False</td>\n",
       "      <td>221</td>\n",
       "      <td>39.0</td>\n",
       "      <td>2021-12</td>\n",
       "      <td>2021</td>\n",
       "      <td>12</td>\n",
       "    </tr>\n",
       "    <tr>\n",
       "      <th>2670249</th>\n",
       "      <td>12581450</td>\n",
       "      <td>2021-12-31 12:45:00+00:00</td>\n",
       "      <td>CONCEALED CARRY LICENSE VIOLATION</td>\n",
       "      <td>STREET</td>\n",
       "      <td>True</td>\n",
       "      <td>False</td>\n",
       "      <td>614</td>\n",
       "      <td>71.0</td>\n",
       "      <td>2021-12</td>\n",
       "      <td>2021</td>\n",
       "      <td>12</td>\n",
       "    </tr>\n",
       "    <tr>\n",
       "      <th>2670250</th>\n",
       "      <td>12581977</td>\n",
       "      <td>2021-12-31 12:46:00+00:00</td>\n",
       "      <td>ASSAULT</td>\n",
       "      <td>COMMERCIAL / BUSINESS OFFICE</td>\n",
       "      <td>False</td>\n",
       "      <td>False</td>\n",
       "      <td>623</td>\n",
       "      <td>44.0</td>\n",
       "      <td>2021-12</td>\n",
       "      <td>2021</td>\n",
       "      <td>12</td>\n",
       "    </tr>\n",
       "    <tr>\n",
       "      <th>2670251</th>\n",
       "      <td>12582396</td>\n",
       "      <td>2021-12-31 12:49:00+00:00</td>\n",
       "      <td>DECEPTIVE PRACTICE</td>\n",
       "      <td>RESIDENCE</td>\n",
       "      <td>False</td>\n",
       "      <td>False</td>\n",
       "      <td>611</td>\n",
       "      <td>71.0</td>\n",
       "      <td>2021-12</td>\n",
       "      <td>2021</td>\n",
       "      <td>12</td>\n",
       "    </tr>\n",
       "    <tr>\n",
       "      <th>2670252</th>\n",
       "      <td>12581002</td>\n",
       "      <td>2021-12-31 12:55:00+00:00</td>\n",
       "      <td>BATTERY</td>\n",
       "      <td>BAR OR TAVERN</td>\n",
       "      <td>False</td>\n",
       "      <td>False</td>\n",
       "      <td>1424</td>\n",
       "      <td>24.0</td>\n",
       "      <td>2021-12</td>\n",
       "      <td>2021</td>\n",
       "      <td>12</td>\n",
       "    </tr>\n",
       "  </tbody>\n",
       "</table>\n",
       "<p>2227518 rows × 11 columns</p>\n",
       "</div>"
      ],
      "text/plain": [
       "         unique_key                      date  \\\n",
       "0           8429131 2012-01-01 01:00:00+00:00   \n",
       "1           8452622 2012-01-01 01:00:00+00:00   \n",
       "2           8608264 2012-01-01 01:00:00+00:00   \n",
       "3           9142576 2012-01-01 01:00:00+00:00   \n",
       "5           9049473 2012-01-01 01:00:00+00:00   \n",
       "...             ...                       ...   \n",
       "2670248    12581388 2021-12-31 12:45:00+00:00   \n",
       "2670249    12581450 2021-12-31 12:45:00+00:00   \n",
       "2670250    12581977 2021-12-31 12:46:00+00:00   \n",
       "2670251    12582396 2021-12-31 12:49:00+00:00   \n",
       "2670252    12581002 2021-12-31 12:55:00+00:00   \n",
       "\n",
       "                              primary_type            location_description  \\\n",
       "0                       DECEPTIVE PRACTICE  ATM (AUTOMATIC TELLER MACHINE)   \n",
       "1                                    THEFT             TAVERN/LIQUOR STORE   \n",
       "2                                    THEFT           MEDICAL/DENTAL OFFICE   \n",
       "3                                    THEFT        SCHOOL, PUBLIC, BUILDING   \n",
       "5               OFFENSE INVOLVING CHILDREN                       RESIDENCE   \n",
       "...                                    ...                             ...   \n",
       "2670248                            ASSAULT                       APARTMENT   \n",
       "2670249  CONCEALED CARRY LICENSE VIOLATION                          STREET   \n",
       "2670250                            ASSAULT    COMMERCIAL / BUSINESS OFFICE   \n",
       "2670251                 DECEPTIVE PRACTICE                       RESIDENCE   \n",
       "2670252                            BATTERY                   BAR OR TAVERN   \n",
       "\n",
       "         arrest  domestic  beat  community_area    month  year only_month  \n",
       "0         False     False  1834             8.0  2012-01  2012         01  \n",
       "1         False     False  1832             8.0  2012-01  2012         01  \n",
       "2         False     False  1423            24.0  2012-01  2012         01  \n",
       "3         False     False  1523            25.0  2012-01  2012         01  \n",
       "5         False     False   332            43.0  2012-01  2012         01  \n",
       "...         ...       ...   ...             ...      ...   ...        ...  \n",
       "2670248   False     False   221            39.0  2021-12  2021         12  \n",
       "2670249    True     False   614            71.0  2021-12  2021         12  \n",
       "2670250   False     False   623            44.0  2021-12  2021         12  \n",
       "2670251   False     False   611            71.0  2021-12  2021         12  \n",
       "2670252   False     False  1424            24.0  2021-12  2021         12  \n",
       "\n",
       "[2227518 rows x 11 columns]"
      ]
     },
     "execution_count": 189,
     "metadata": {},
     "output_type": "execute_result"
    }
   ],
   "source": [
    "df1['only_month'] = df1['date'].dt.strftime('%m')\n",
    "df1"
   ]
  },
  {
   "cell_type": "code",
   "execution_count": 190,
   "id": "fd6c722b",
   "metadata": {},
   "outputs": [
    {
     "data": {
      "image/png": "[encoded data removed]",
      "text/plain": [
       "<Figure size 432x288 with 1 Axes>"
      ]
     },
     "metadata": {},
     "output_type": "display_data"
    }
   ],
   "source": [
    "sns.countplot(data = df1, x = 'only_month', color = 'tab:blue')\n",
    "plt.show()"
   ]
  },
  {
   "cell_type": "markdown",
   "id": "ab98d500",
   "metadata": {},
   "source": [
    "- 2월이 상대적으로 범죄 발생 수가 적음\n",
    "- 여름(7,8월) 상대적으로 범죄 발생 수가 많음"
   ]
  },
  {
   "cell_type": "markdown",
   "id": "66f5c111",
   "metadata": {},
   "source": [
    "## 체포율"
   ]
  },
  {
   "cell_type": "code",
   "execution_count": 408,
   "id": "61a7bdb6",
   "metadata": {},
   "outputs": [
    {
     "data": {
      "text/plain": [
       "False    0.76432\n",
       "True     0.23568\n",
       "Name: arrest, dtype: float64"
      ]
     },
     "execution_count": 408,
     "metadata": {},
     "output_type": "execute_result"
    }
   ],
   "source": [
    "df1['arrest'].value_counts() / 2227518"
   ]
  },
  {
   "cell_type": "code",
   "execution_count": 409,
   "id": "49dd149e",
   "metadata": {},
   "outputs": [
    {
     "data": {
      "image/png": "[encoded data removed]",
      "text/plain": [
       "<Figure size 432x288 with 1 Axes>"
      ]
     },
     "metadata": {},
     "output_type": "display_data"
    }
   ],
   "source": [
    "sns.countplot(data = df1, x = 'year', hue = 'arrest')\n",
    "plt.show()"
   ]
  },
  {
   "cell_type": "code",
   "execution_count": 410,
   "id": "289b6012",
   "metadata": {},
   "outputs": [
    {
     "data": {
      "text/html": [
       "<div>\n",
       "<style scoped>\n",
       "    .dataframe tbody tr th:only-of-type {\n",
       "        vertical-align: middle;\n",
       "    }\n",
       "\n",
       "    .dataframe tbody tr th {\n",
       "        vertical-align: top;\n",
       "    }\n",
       "\n",
       "    .dataframe thead th {\n",
       "        text-align: right;\n",
       "    }\n",
       "</style>\n",
       "<table border=\"1\" class=\"dataframe\">\n",
       "  <thead>\n",
       "    <tr style=\"text-align: right;\">\n",
       "      <th></th>\n",
       "      <th>year</th>\n",
       "      <th>arrest</th>\n",
       "      <th>count</th>\n",
       "    </tr>\n",
       "  </thead>\n",
       "  <tbody>\n",
       "    <tr>\n",
       "      <th>0</th>\n",
       "      <td>2012</td>\n",
       "      <td>False</td>\n",
       "      <td>205392</td>\n",
       "    </tr>\n",
       "    <tr>\n",
       "      <th>1</th>\n",
       "      <td>2012</td>\n",
       "      <td>True</td>\n",
       "      <td>81692</td>\n",
       "    </tr>\n",
       "    <tr>\n",
       "      <th>2</th>\n",
       "      <td>2013</td>\n",
       "      <td>False</td>\n",
       "      <td>184617</td>\n",
       "    </tr>\n",
       "    <tr>\n",
       "      <th>3</th>\n",
       "      <td>2013</td>\n",
       "      <td>True</td>\n",
       "      <td>77558</td>\n",
       "    </tr>\n",
       "    <tr>\n",
       "      <th>4</th>\n",
       "      <td>2014</td>\n",
       "      <td>False</td>\n",
       "      <td>163966</td>\n",
       "    </tr>\n",
       "    <tr>\n",
       "      <th>5</th>\n",
       "      <td>2014</td>\n",
       "      <td>True</td>\n",
       "      <td>70729</td>\n",
       "    </tr>\n",
       "    <tr>\n",
       "      <th>6</th>\n",
       "      <td>2015</td>\n",
       "      <td>False</td>\n",
       "      <td>160791</td>\n",
       "    </tr>\n",
       "    <tr>\n",
       "      <th>7</th>\n",
       "      <td>2015</td>\n",
       "      <td>True</td>\n",
       "      <td>61347</td>\n",
       "    </tr>\n",
       "    <tr>\n",
       "      <th>8</th>\n",
       "      <td>2016</td>\n",
       "      <td>False</td>\n",
       "      <td>179712</td>\n",
       "    </tr>\n",
       "    <tr>\n",
       "      <th>9</th>\n",
       "      <td>2016</td>\n",
       "      <td>True</td>\n",
       "      <td>45491</td>\n",
       "    </tr>\n",
       "    <tr>\n",
       "      <th>10</th>\n",
       "      <td>2017</td>\n",
       "      <td>False</td>\n",
       "      <td>179641</td>\n",
       "    </tr>\n",
       "    <tr>\n",
       "      <th>11</th>\n",
       "      <td>2017</td>\n",
       "      <td>True</td>\n",
       "      <td>45156</td>\n",
       "    </tr>\n",
       "    <tr>\n",
       "      <th>12</th>\n",
       "      <td>2018</td>\n",
       "      <td>False</td>\n",
       "      <td>177350</td>\n",
       "    </tr>\n",
       "    <tr>\n",
       "      <th>13</th>\n",
       "      <td>2018</td>\n",
       "      <td>True</td>\n",
       "      <td>46137</td>\n",
       "    </tr>\n",
       "    <tr>\n",
       "      <th>14</th>\n",
       "      <td>2019</td>\n",
       "      <td>False</td>\n",
       "      <td>167923</td>\n",
       "    </tr>\n",
       "    <tr>\n",
       "      <th>15</th>\n",
       "      <td>2019</td>\n",
       "      <td>True</td>\n",
       "      <td>48575</td>\n",
       "    </tr>\n",
       "    <tr>\n",
       "      <th>16</th>\n",
       "      <td>2020</td>\n",
       "      <td>False</td>\n",
       "      <td>141953</td>\n",
       "    </tr>\n",
       "    <tr>\n",
       "      <th>17</th>\n",
       "      <td>2020</td>\n",
       "      <td>True</td>\n",
       "      <td>28540</td>\n",
       "    </tr>\n",
       "    <tr>\n",
       "      <th>18</th>\n",
       "      <td>2021</td>\n",
       "      <td>False</td>\n",
       "      <td>141191</td>\n",
       "    </tr>\n",
       "    <tr>\n",
       "      <th>19</th>\n",
       "      <td>2021</td>\n",
       "      <td>True</td>\n",
       "      <td>19757</td>\n",
       "    </tr>\n",
       "  </tbody>\n",
       "</table>\n",
       "</div>"
      ],
      "text/plain": [
       "    year  arrest   count\n",
       "0   2012   False  205392\n",
       "1   2012    True   81692\n",
       "2   2013   False  184617\n",
       "3   2013    True   77558\n",
       "4   2014   False  163966\n",
       "5   2014    True   70729\n",
       "6   2015   False  160791\n",
       "7   2015    True   61347\n",
       "8   2016   False  179712\n",
       "9   2016    True   45491\n",
       "10  2017   False  179641\n",
       "11  2017    True   45156\n",
       "12  2018   False  177350\n",
       "13  2018    True   46137\n",
       "14  2019   False  167923\n",
       "15  2019    True   48575\n",
       "16  2020   False  141953\n",
       "17  2020    True   28540\n",
       "18  2021   False  141191\n",
       "19  2021    True   19757"
      ]
     },
     "execution_count": 410,
     "metadata": {},
     "output_type": "execute_result"
    }
   ],
   "source": [
    "df1_arrest = pd.DataFrame(df1.groupby('year')['arrest'].value_counts())\n",
    "df1_arrest.columns = ['count']\n",
    "df1_arrest = df1_arrest.reset_index()\n",
    "df1_arrest"
   ]
  },
  {
   "cell_type": "code",
   "execution_count": 411,
   "id": "42a60363",
   "metadata": {},
   "outputs": [
    {
     "name": "stdout",
     "output_type": "stream",
     "text": [
      "<class 'pandas.core.frame.DataFrame'>\n",
      "RangeIndex: 20 entries, 0 to 19\n",
      "Data columns (total 3 columns):\n",
      " #   Column  Non-Null Count  Dtype\n",
      "---  ------  --------------  -----\n",
      " 0   year    20 non-null     int32\n",
      " 1   arrest  20 non-null     bool \n",
      " 2   count   20 non-null     int64\n",
      "dtypes: bool(1), int32(1), int64(1)\n",
      "memory usage: 388.0 bytes\n"
     ]
    }
   ],
   "source": [
    "df1_arrest['year'] = df1_arrest['year'].astype('int32')\n",
    "df1_arrest.info()"
   ]
  },
  {
   "cell_type": "code",
   "execution_count": 413,
   "id": "210f5883",
   "metadata": {},
   "outputs": [],
   "source": [
    "# 년도별 체포율 구하여 새 데이터프레임에 저장\n",
    "def arrest_ratio(year, dataframe1, dataframe2):\n",
    "    i = 0\n",
    "    while year < 2022:\n",
    "        temp = dataframe1.loc[dataframe1['year'] == year]\n",
    "        ratio = temp.loc[temp['arrest'] == True, 'count'] / temp['count'].sum() * 100\n",
    "        ratio = ratio.values[0]\n",
    "        dataframe2.loc[i] = [year, round(ratio, 2)]\n",
    "        i = i + 1\n",
    "        year = year + 1"
   ]
  },
  {
   "cell_type": "code",
   "execution_count": 412,
   "id": "b83134f7",
   "metadata": {},
   "outputs": [
    {
     "data": {
      "text/html": [
       "<div>\n",
       "<style scoped>\n",
       "    .dataframe tbody tr th:only-of-type {\n",
       "        vertical-align: middle;\n",
       "    }\n",
       "\n",
       "    .dataframe tbody tr th {\n",
       "        vertical-align: top;\n",
       "    }\n",
       "\n",
       "    .dataframe thead th {\n",
       "        text-align: right;\n",
       "    }\n",
       "</style>\n",
       "<table border=\"1\" class=\"dataframe\">\n",
       "  <thead>\n",
       "    <tr style=\"text-align: right;\">\n",
       "      <th></th>\n",
       "      <th>year</th>\n",
       "      <th>ratio</th>\n",
       "    </tr>\n",
       "  </thead>\n",
       "  <tbody>\n",
       "  </tbody>\n",
       "</table>\n",
       "</div>"
      ],
      "text/plain": [
       "Empty DataFrame\n",
       "Columns: [year, ratio]\n",
       "Index: []"
      ]
     },
     "execution_count": 412,
     "metadata": {},
     "output_type": "execute_result"
    }
   ],
   "source": [
    "df1_arrest_ratio = pd.DataFrame(columns = ['year', 'ratio'])\n",
    "df1_arrest_ratio"
   ]
  },
  {
   "cell_type": "code",
   "execution_count": 414,
   "id": "599ffcaf",
   "metadata": {
    "scrolled": true
   },
   "outputs": [
    {
     "data": {
      "text/html": [
       "<div>\n",
       "<style scoped>\n",
       "    .dataframe tbody tr th:only-of-type {\n",
       "        vertical-align: middle;\n",
       "    }\n",
       "\n",
       "    .dataframe tbody tr th {\n",
       "        vertical-align: top;\n",
       "    }\n",
       "\n",
       "    .dataframe thead th {\n",
       "        text-align: right;\n",
       "    }\n",
       "</style>\n",
       "<table border=\"1\" class=\"dataframe\">\n",
       "  <thead>\n",
       "    <tr style=\"text-align: right;\">\n",
       "      <th></th>\n",
       "      <th>year</th>\n",
       "      <th>ratio</th>\n",
       "    </tr>\n",
       "  </thead>\n",
       "  <tbody>\n",
       "    <tr>\n",
       "      <th>0</th>\n",
       "      <td>2012.0</td>\n",
       "      <td>28.46</td>\n",
       "    </tr>\n",
       "    <tr>\n",
       "      <th>1</th>\n",
       "      <td>2013.0</td>\n",
       "      <td>29.58</td>\n",
       "    </tr>\n",
       "    <tr>\n",
       "      <th>2</th>\n",
       "      <td>2014.0</td>\n",
       "      <td>30.14</td>\n",
       "    </tr>\n",
       "    <tr>\n",
       "      <th>3</th>\n",
       "      <td>2015.0</td>\n",
       "      <td>27.62</td>\n",
       "    </tr>\n",
       "    <tr>\n",
       "      <th>4</th>\n",
       "      <td>2016.0</td>\n",
       "      <td>20.20</td>\n",
       "    </tr>\n",
       "    <tr>\n",
       "      <th>5</th>\n",
       "      <td>2017.0</td>\n",
       "      <td>20.09</td>\n",
       "    </tr>\n",
       "    <tr>\n",
       "      <th>6</th>\n",
       "      <td>2018.0</td>\n",
       "      <td>20.64</td>\n",
       "    </tr>\n",
       "    <tr>\n",
       "      <th>7</th>\n",
       "      <td>2019.0</td>\n",
       "      <td>22.44</td>\n",
       "    </tr>\n",
       "    <tr>\n",
       "      <th>8</th>\n",
       "      <td>2020.0</td>\n",
       "      <td>16.74</td>\n",
       "    </tr>\n",
       "    <tr>\n",
       "      <th>9</th>\n",
       "      <td>2021.0</td>\n",
       "      <td>12.28</td>\n",
       "    </tr>\n",
       "  </tbody>\n",
       "</table>\n",
       "</div>"
      ],
      "text/plain": [
       "     year  ratio\n",
       "0  2012.0  28.46\n",
       "1  2013.0  29.58\n",
       "2  2014.0  30.14\n",
       "3  2015.0  27.62\n",
       "4  2016.0  20.20\n",
       "5  2017.0  20.09\n",
       "6  2018.0  20.64\n",
       "7  2019.0  22.44\n",
       "8  2020.0  16.74\n",
       "9  2021.0  12.28"
      ]
     },
     "execution_count": 414,
     "metadata": {},
     "output_type": "execute_result"
    }
   ],
   "source": [
    "arrest_ratio(2012, df1_arrest, df1_arrest_ratio)\n",
    "df1_arrest_ratio"
   ]
  },
  {
   "cell_type": "code",
   "execution_count": 419,
   "id": "280d52d9",
   "metadata": {},
   "outputs": [
    {
     "data": {
      "image/png": "[encoded data removed]",
      "text/plain": [
       "<Figure size 432x288 with 1 Axes>"
      ]
     },
     "metadata": {},
     "output_type": "display_data"
    }
   ],
   "source": [
    "sns.lineplot(data = df1_arrest_ratio, x = 'year', y = 'ratio', color = 'tab:blue')\n",
    "plt.ylim(0,35)\n",
    "plt.show()"
   ]
  },
  {
   "cell_type": "markdown",
   "id": "3ddc22c4",
   "metadata": {},
   "source": [
    "# 가장 많이 일어난 범죄 (primary_type)"
   ]
  },
  {
   "cell_type": "code",
   "execution_count": 191,
   "id": "10b6dd98",
   "metadata": {},
   "outputs": [
    {
     "data": {
      "text/plain": [
       "THEFT                                578859\n",
       "CRIMINAL DAMAGE                      254106\n",
       "BATTERY                              247581\n",
       "NARCOTICS                            188126\n",
       "DECEPTIVE PRACTICE                   162246\n",
       "ASSAULT                              139972\n",
       "BURGLARY                             130957\n",
       "OTHER OFFENSE                        111030\n",
       "MOTOR VEHICLE THEFT                  109828\n",
       "ROBBERY                              100238\n",
       "CRIMINAL TRESPASS                     61556\n",
       "WEAPONS VIOLATION                     50771\n",
       "PUBLIC PEACE VIOLATION                18699\n",
       "INTERFERENCE WITH PUBLIC OFFICER      11003\n",
       "PROSTITUTION                          10104\n",
       "OFFENSE INVOLVING CHILDREN             9971\n",
       "SEX OFFENSE                            9116\n",
       "CRIM SEXUAL ASSAULT                    9032\n",
       "HOMICIDE                               5666\n",
       "ARSON                                  4269\n",
       "CRIMINAL SEXUAL ASSAULT                3234\n",
       "LIQUOR LAW VIOLATION                   2967\n",
       "GAMBLING                               2783\n",
       "KIDNAPPING                             1299\n",
       "INTIMIDATION                           1273\n",
       "STALKING                               1115\n",
       "CONCEALED CARRY LICENSE VIOLATION       841\n",
       "OBSCENITY                               425\n",
       "NON-CRIMINAL                            171\n",
       "PUBLIC INDECENCY                        108\n",
       "HUMAN TRAFFICKING                        74\n",
       "OTHER NARCOTIC VIOLATION                 58\n",
       "NON - CRIMINAL                           38\n",
       "NON-CRIMINAL (SUBJECT SPECIFIED)          2\n",
       "Name: primary_type, dtype: int64"
      ]
     },
     "execution_count": 191,
     "metadata": {},
     "output_type": "execute_result"
    }
   ],
   "source": [
    "df1['primary_type'].value_counts()"
   ]
  },
  {
   "cell_type": "code",
   "execution_count": 192,
   "id": "f30dd14e",
   "metadata": {},
   "outputs": [
    {
     "name": "stderr",
     "output_type": "stream",
     "text": [
      "/var/folders/j2/qvzy45bn0l71dytmdq4v9r6r0000gn/T/ipykernel_35602/935409946.py:2: SettingWithCopyWarning: \n",
      "A value is trying to be set on a copy of a slice from a DataFrame.\n",
      "Try using .loc[row_indexer,col_indexer] = value instead\n",
      "\n",
      "See the caveats in the documentation: https://pandas.pydata.org/pandas-docs/stable/user_guide/indexing.html#returning-a-view-versus-a-copy\n",
      "  df1['primary_type'] = df1['primary_type'].replace('NON - CRIMINAL', 'NON-CRIMINAL')\n",
      "/var/folders/j2/qvzy45bn0l71dytmdq4v9r6r0000gn/T/ipykernel_35602/935409946.py:3: SettingWithCopyWarning: \n",
      "A value is trying to be set on a copy of a slice from a DataFrame.\n",
      "Try using .loc[row_indexer,col_indexer] = value instead\n",
      "\n",
      "See the caveats in the documentation: https://pandas.pydata.org/pandas-docs/stable/user_guide/indexing.html#returning-a-view-versus-a-copy\n",
      "  df1['primary_type'] = df1['primary_type'].replace('NON-CRIMINAL (SUBJECT SPECIFIED)', 'NON-CRIMINAL')\n"
     ]
    },
    {
     "data": {
      "text/html": [
       "<div>\n",
       "<style scoped>\n",
       "    .dataframe tbody tr th:only-of-type {\n",
       "        vertical-align: middle;\n",
       "    }\n",
       "\n",
       "    .dataframe tbody tr th {\n",
       "        vertical-align: top;\n",
       "    }\n",
       "\n",
       "    .dataframe thead th {\n",
       "        text-align: right;\n",
       "    }\n",
       "</style>\n",
       "<table border=\"1\" class=\"dataframe\">\n",
       "  <thead>\n",
       "    <tr style=\"text-align: right;\">\n",
       "      <th></th>\n",
       "      <th>unique_key</th>\n",
       "      <th>date</th>\n",
       "      <th>primary_type</th>\n",
       "      <th>location_description</th>\n",
       "      <th>arrest</th>\n",
       "      <th>domestic</th>\n",
       "      <th>beat</th>\n",
       "      <th>community_area</th>\n",
       "      <th>month</th>\n",
       "      <th>year</th>\n",
       "      <th>only_month</th>\n",
       "    </tr>\n",
       "  </thead>\n",
       "  <tbody>\n",
       "    <tr>\n",
       "      <th>0</th>\n",
       "      <td>8429131</td>\n",
       "      <td>2012-01-01 01:00:00+00:00</td>\n",
       "      <td>DECEPTIVE PRACTICE</td>\n",
       "      <td>ATM (AUTOMATIC TELLER MACHINE)</td>\n",
       "      <td>False</td>\n",
       "      <td>False</td>\n",
       "      <td>1834</td>\n",
       "      <td>8.0</td>\n",
       "      <td>2012-01</td>\n",
       "      <td>2012</td>\n",
       "      <td>01</td>\n",
       "    </tr>\n",
       "    <tr>\n",
       "      <th>1</th>\n",
       "      <td>8452622</td>\n",
       "      <td>2012-01-01 01:00:00+00:00</td>\n",
       "      <td>THEFT</td>\n",
       "      <td>TAVERN/LIQUOR STORE</td>\n",
       "      <td>False</td>\n",
       "      <td>False</td>\n",
       "      <td>1832</td>\n",
       "      <td>8.0</td>\n",
       "      <td>2012-01</td>\n",
       "      <td>2012</td>\n",
       "      <td>01</td>\n",
       "    </tr>\n",
       "    <tr>\n",
       "      <th>2</th>\n",
       "      <td>8608264</td>\n",
       "      <td>2012-01-01 01:00:00+00:00</td>\n",
       "      <td>THEFT</td>\n",
       "      <td>MEDICAL/DENTAL OFFICE</td>\n",
       "      <td>False</td>\n",
       "      <td>False</td>\n",
       "      <td>1423</td>\n",
       "      <td>24.0</td>\n",
       "      <td>2012-01</td>\n",
       "      <td>2012</td>\n",
       "      <td>01</td>\n",
       "    </tr>\n",
       "    <tr>\n",
       "      <th>3</th>\n",
       "      <td>9142576</td>\n",
       "      <td>2012-01-01 01:00:00+00:00</td>\n",
       "      <td>THEFT</td>\n",
       "      <td>SCHOOL, PUBLIC, BUILDING</td>\n",
       "      <td>False</td>\n",
       "      <td>False</td>\n",
       "      <td>1523</td>\n",
       "      <td>25.0</td>\n",
       "      <td>2012-01</td>\n",
       "      <td>2012</td>\n",
       "      <td>01</td>\n",
       "    </tr>\n",
       "    <tr>\n",
       "      <th>5</th>\n",
       "      <td>9049473</td>\n",
       "      <td>2012-01-01 01:00:00+00:00</td>\n",
       "      <td>OFFENSE INVOLVING CHILDREN</td>\n",
       "      <td>RESIDENCE</td>\n",
       "      <td>False</td>\n",
       "      <td>False</td>\n",
       "      <td>332</td>\n",
       "      <td>43.0</td>\n",
       "      <td>2012-01</td>\n",
       "      <td>2012</td>\n",
       "      <td>01</td>\n",
       "    </tr>\n",
       "    <tr>\n",
       "      <th>...</th>\n",
       "      <td>...</td>\n",
       "      <td>...</td>\n",
       "      <td>...</td>\n",
       "      <td>...</td>\n",
       "      <td>...</td>\n",
       "      <td>...</td>\n",
       "      <td>...</td>\n",
       "      <td>...</td>\n",
       "      <td>...</td>\n",
       "      <td>...</td>\n",
       "      <td>...</td>\n",
       "    </tr>\n",
       "    <tr>\n",
       "      <th>2670248</th>\n",
       "      <td>12581388</td>\n",
       "      <td>2021-12-31 12:45:00+00:00</td>\n",
       "      <td>ASSAULT</td>\n",
       "      <td>APARTMENT</td>\n",
       "      <td>False</td>\n",
       "      <td>False</td>\n",
       "      <td>221</td>\n",
       "      <td>39.0</td>\n",
       "      <td>2021-12</td>\n",
       "      <td>2021</td>\n",
       "      <td>12</td>\n",
       "    </tr>\n",
       "    <tr>\n",
       "      <th>2670249</th>\n",
       "      <td>12581450</td>\n",
       "      <td>2021-12-31 12:45:00+00:00</td>\n",
       "      <td>CONCEALED CARRY LICENSE VIOLATION</td>\n",
       "      <td>STREET</td>\n",
       "      <td>True</td>\n",
       "      <td>False</td>\n",
       "      <td>614</td>\n",
       "      <td>71.0</td>\n",
       "      <td>2021-12</td>\n",
       "      <td>2021</td>\n",
       "      <td>12</td>\n",
       "    </tr>\n",
       "    <tr>\n",
       "      <th>2670250</th>\n",
       "      <td>12581977</td>\n",
       "      <td>2021-12-31 12:46:00+00:00</td>\n",
       "      <td>ASSAULT</td>\n",
       "      <td>COMMERCIAL / BUSINESS OFFICE</td>\n",
       "      <td>False</td>\n",
       "      <td>False</td>\n",
       "      <td>623</td>\n",
       "      <td>44.0</td>\n",
       "      <td>2021-12</td>\n",
       "      <td>2021</td>\n",
       "      <td>12</td>\n",
       "    </tr>\n",
       "    <tr>\n",
       "      <th>2670251</th>\n",
       "      <td>12582396</td>\n",
       "      <td>2021-12-31 12:49:00+00:00</td>\n",
       "      <td>DECEPTIVE PRACTICE</td>\n",
       "      <td>RESIDENCE</td>\n",
       "      <td>False</td>\n",
       "      <td>False</td>\n",
       "      <td>611</td>\n",
       "      <td>71.0</td>\n",
       "      <td>2021-12</td>\n",
       "      <td>2021</td>\n",
       "      <td>12</td>\n",
       "    </tr>\n",
       "    <tr>\n",
       "      <th>2670252</th>\n",
       "      <td>12581002</td>\n",
       "      <td>2021-12-31 12:55:00+00:00</td>\n",
       "      <td>BATTERY</td>\n",
       "      <td>BAR OR TAVERN</td>\n",
       "      <td>False</td>\n",
       "      <td>False</td>\n",
       "      <td>1424</td>\n",
       "      <td>24.0</td>\n",
       "      <td>2021-12</td>\n",
       "      <td>2021</td>\n",
       "      <td>12</td>\n",
       "    </tr>\n",
       "  </tbody>\n",
       "</table>\n",
       "<p>2227518 rows × 11 columns</p>\n",
       "</div>"
      ],
      "text/plain": [
       "         unique_key                      date  \\\n",
       "0           8429131 2012-01-01 01:00:00+00:00   \n",
       "1           8452622 2012-01-01 01:00:00+00:00   \n",
       "2           8608264 2012-01-01 01:00:00+00:00   \n",
       "3           9142576 2012-01-01 01:00:00+00:00   \n",
       "5           9049473 2012-01-01 01:00:00+00:00   \n",
       "...             ...                       ...   \n",
       "2670248    12581388 2021-12-31 12:45:00+00:00   \n",
       "2670249    12581450 2021-12-31 12:45:00+00:00   \n",
       "2670250    12581977 2021-12-31 12:46:00+00:00   \n",
       "2670251    12582396 2021-12-31 12:49:00+00:00   \n",
       "2670252    12581002 2021-12-31 12:55:00+00:00   \n",
       "\n",
       "                              primary_type            location_description  \\\n",
       "0                       DECEPTIVE PRACTICE  ATM (AUTOMATIC TELLER MACHINE)   \n",
       "1                                    THEFT             TAVERN/LIQUOR STORE   \n",
       "2                                    THEFT           MEDICAL/DENTAL OFFICE   \n",
       "3                                    THEFT        SCHOOL, PUBLIC, BUILDING   \n",
       "5               OFFENSE INVOLVING CHILDREN                       RESIDENCE   \n",
       "...                                    ...                             ...   \n",
       "2670248                            ASSAULT                       APARTMENT   \n",
       "2670249  CONCEALED CARRY LICENSE VIOLATION                          STREET   \n",
       "2670250                            ASSAULT    COMMERCIAL / BUSINESS OFFICE   \n",
       "2670251                 DECEPTIVE PRACTICE                       RESIDENCE   \n",
       "2670252                            BATTERY                   BAR OR TAVERN   \n",
       "\n",
       "         arrest  domestic  beat  community_area    month  year only_month  \n",
       "0         False     False  1834             8.0  2012-01  2012         01  \n",
       "1         False     False  1832             8.0  2012-01  2012         01  \n",
       "2         False     False  1423            24.0  2012-01  2012         01  \n",
       "3         False     False  1523            25.0  2012-01  2012         01  \n",
       "5         False     False   332            43.0  2012-01  2012         01  \n",
       "...         ...       ...   ...             ...      ...   ...        ...  \n",
       "2670248   False     False   221            39.0  2021-12  2021         12  \n",
       "2670249    True     False   614            71.0  2021-12  2021         12  \n",
       "2670250   False     False   623            44.0  2021-12  2021         12  \n",
       "2670251   False     False   611            71.0  2021-12  2021         12  \n",
       "2670252   False     False  1424            24.0  2021-12  2021         12  \n",
       "\n",
       "[2227518 rows x 11 columns]"
      ]
     },
     "execution_count": 192,
     "metadata": {},
     "output_type": "execute_result"
    }
   ],
   "source": [
    "# 같은 항목, 다른 표기 통합\n",
    "df1['primary_type'] = df1['primary_type'].replace('NON - CRIMINAL', 'NON-CRIMINAL')\n",
    "df1['primary_type'] = df1['primary_type'].replace('NON-CRIMINAL (SUBJECT SPECIFIED)', 'NON-CRIMINAL')\n",
    "df1"
   ]
  },
  {
   "cell_type": "code",
   "execution_count": 193,
   "id": "e84bb93e",
   "metadata": {},
   "outputs": [
    {
     "data": {
      "text/plain": [
       "THEFT                                578859\n",
       "CRIMINAL DAMAGE                      254106\n",
       "BATTERY                              247581\n",
       "NARCOTICS                            188126\n",
       "DECEPTIVE PRACTICE                   162246\n",
       "ASSAULT                              139972\n",
       "BURGLARY                             130957\n",
       "OTHER OFFENSE                        111030\n",
       "MOTOR VEHICLE THEFT                  109828\n",
       "ROBBERY                              100238\n",
       "CRIMINAL TRESPASS                     61556\n",
       "WEAPONS VIOLATION                     50771\n",
       "PUBLIC PEACE VIOLATION                18699\n",
       "INTERFERENCE WITH PUBLIC OFFICER      11003\n",
       "PROSTITUTION                          10104\n",
       "OFFENSE INVOLVING CHILDREN             9971\n",
       "SEX OFFENSE                            9116\n",
       "CRIM SEXUAL ASSAULT                    9032\n",
       "HOMICIDE                               5666\n",
       "ARSON                                  4269\n",
       "CRIMINAL SEXUAL ASSAULT                3234\n",
       "LIQUOR LAW VIOLATION                   2967\n",
       "GAMBLING                               2783\n",
       "KIDNAPPING                             1299\n",
       "INTIMIDATION                           1273\n",
       "STALKING                               1115\n",
       "CONCEALED CARRY LICENSE VIOLATION       841\n",
       "OBSCENITY                               425\n",
       "NON-CRIMINAL                            211\n",
       "PUBLIC INDECENCY                        108\n",
       "HUMAN TRAFFICKING                        74\n",
       "OTHER NARCOTIC VIOLATION                 58\n",
       "Name: primary_type, dtype: int64"
      ]
     },
     "execution_count": 193,
     "metadata": {},
     "output_type": "execute_result"
    }
   ],
   "source": [
    "df1['primary_type'].value_counts()"
   ]
  },
  {
   "cell_type": "code",
   "execution_count": 194,
   "id": "404354b0",
   "metadata": {},
   "outputs": [
    {
     "data": {
      "image/png": "[encoded data removed]",
      "text/plain": [
       "<Figure size 720x576 with 1 Axes>"
      ]
     },
     "metadata": {},
     "output_type": "display_data"
    }
   ],
   "source": [
    "plt.figure(figsize = (10,8))\n",
    "sns.countplot(data = df1, y = 'primary_type', order = df1['primary_type'].value_counts().index, color = 'tab:blue')\n",
    "plt.show()"
   ]
  },
  {
   "cell_type": "code",
   "execution_count": 195,
   "id": "dcb1aaa0",
   "metadata": {},
   "outputs": [],
   "source": [
    "#상위 5개 분석\n",
    "\n",
    "df_theft = df1.loc[df1['primary_type'] == 'THEFT']\n",
    "df_criminalDamage = df1.loc[df1['primary_type'] == 'CRIMINAL DAMAGE']\n",
    "df_battery = df1.loc[df1['primary_type'] == 'BATTERY']\n",
    "df_narcotics = df1.loc[df1['primary_type'] == 'NARCOTICS']\n",
    "df_deceptivePractice = df1.loc[df1['primary_type'] == 'DECEPTIVE PRACTICE']"
   ]
  },
  {
   "cell_type": "markdown",
   "id": "823b62e4",
   "metadata": {},
   "source": [
    "# theft\n",
    "절도"
   ]
  },
  {
   "cell_type": "code",
   "execution_count": 196,
   "id": "a743f6b7",
   "metadata": {},
   "outputs": [
    {
     "name": "stdout",
     "output_type": "stream",
     "text": [
      "<class 'pandas.core.frame.DataFrame'>\n",
      "Int64Index: 578859 entries, 1 to 2670245\n",
      "Data columns (total 11 columns):\n",
      " #   Column                Non-Null Count   Dtype              \n",
      "---  ------                --------------   -----              \n",
      " 0   unique_key            578859 non-null  int64              \n",
      " 1   date                  578859 non-null  datetime64[ns, UTC]\n",
      " 2   primary_type          578859 non-null  object             \n",
      " 3   location_description  578859 non-null  object             \n",
      " 4   arrest                578859 non-null  bool               \n",
      " 5   domestic              578859 non-null  bool               \n",
      " 6   beat                  578859 non-null  int64              \n",
      " 7   community_area        578859 non-null  float64            \n",
      " 8   month                 578859 non-null  object             \n",
      " 9   year                  578859 non-null  object             \n",
      " 10  only_month            578859 non-null  object             \n",
      "dtypes: bool(2), datetime64[ns, UTC](1), float64(1), int64(2), object(5)\n",
      "memory usage: 45.3+ MB\n"
     ]
    }
   ],
   "source": [
    "df_theft.info()"
   ]
  },
  {
   "cell_type": "markdown",
   "id": "8d4b77c2",
   "metadata": {},
   "source": [
    "## 기간별 발생 수"
   ]
  },
  {
   "cell_type": "code",
   "execution_count": 197,
   "id": "22055d66",
   "metadata": {},
   "outputs": [
    {
     "data": {
      "text/plain": [
       "2012    72924\n",
       "2013    69447\n",
       "2018    62975\n",
       "2017    62091\n",
       "2019    60109\n",
       "2014    59566\n",
       "2016    59367\n",
       "2015    55283\n",
       "2020    39068\n",
       "2021    38029\n",
       "Name: year, dtype: int64"
      ]
     },
     "execution_count": 197,
     "metadata": {},
     "output_type": "execute_result"
    }
   ],
   "source": [
    "df_theft['year'].value_counts()"
   ]
  },
  {
   "cell_type": "code",
   "execution_count": 391,
   "id": "3497a9df",
   "metadata": {},
   "outputs": [
    {
     "data": {
      "text/html": [
       "<div>\n",
       "<style scoped>\n",
       "    .dataframe tbody tr th:only-of-type {\n",
       "        vertical-align: middle;\n",
       "    }\n",
       "\n",
       "    .dataframe tbody tr th {\n",
       "        vertical-align: top;\n",
       "    }\n",
       "\n",
       "    .dataframe thead th {\n",
       "        text-align: right;\n",
       "    }\n",
       "</style>\n",
       "<table border=\"1\" class=\"dataframe\">\n",
       "  <thead>\n",
       "    <tr style=\"text-align: right;\">\n",
       "      <th></th>\n",
       "      <th>index</th>\n",
       "      <th>year</th>\n",
       "    </tr>\n",
       "  </thead>\n",
       "  <tbody>\n",
       "    <tr>\n",
       "      <th>0</th>\n",
       "      <td>2012</td>\n",
       "      <td>72924</td>\n",
       "    </tr>\n",
       "    <tr>\n",
       "      <th>1</th>\n",
       "      <td>2013</td>\n",
       "      <td>69447</td>\n",
       "    </tr>\n",
       "    <tr>\n",
       "      <th>5</th>\n",
       "      <td>2014</td>\n",
       "      <td>59566</td>\n",
       "    </tr>\n",
       "    <tr>\n",
       "      <th>7</th>\n",
       "      <td>2015</td>\n",
       "      <td>55283</td>\n",
       "    </tr>\n",
       "    <tr>\n",
       "      <th>6</th>\n",
       "      <td>2016</td>\n",
       "      <td>59367</td>\n",
       "    </tr>\n",
       "    <tr>\n",
       "      <th>3</th>\n",
       "      <td>2017</td>\n",
       "      <td>62091</td>\n",
       "    </tr>\n",
       "    <tr>\n",
       "      <th>2</th>\n",
       "      <td>2018</td>\n",
       "      <td>62975</td>\n",
       "    </tr>\n",
       "    <tr>\n",
       "      <th>4</th>\n",
       "      <td>2019</td>\n",
       "      <td>60109</td>\n",
       "    </tr>\n",
       "    <tr>\n",
       "      <th>8</th>\n",
       "      <td>2020</td>\n",
       "      <td>39068</td>\n",
       "    </tr>\n",
       "    <tr>\n",
       "      <th>9</th>\n",
       "      <td>2021</td>\n",
       "      <td>38029</td>\n",
       "    </tr>\n",
       "  </tbody>\n",
       "</table>\n",
       "</div>"
      ],
      "text/plain": [
       "  index   year\n",
       "0  2012  72924\n",
       "1  2013  69447\n",
       "5  2014  59566\n",
       "7  2015  55283\n",
       "6  2016  59367\n",
       "3  2017  62091\n",
       "2  2018  62975\n",
       "4  2019  60109\n",
       "8  2020  39068\n",
       "9  2021  38029"
      ]
     },
     "execution_count": 391,
     "metadata": {},
     "output_type": "execute_result"
    }
   ],
   "source": [
    "df_theft['year'].value_counts().reset_index().sort_values(by = 'index')"
   ]
  },
  {
   "cell_type": "code",
   "execution_count": 225,
   "id": "da36b353",
   "metadata": {},
   "outputs": [
    {
     "data": {
      "text/plain": [
       "2012    100.000000\n",
       "2013     95.232022\n",
       "2018     86.357029\n",
       "2017     85.144808\n",
       "2019     82.426910\n",
       "2014     81.682299\n",
       "2016     81.409413\n",
       "2015     75.809061\n",
       "2020     53.573583\n",
       "2021     52.148812\n",
       "Name: year, dtype: float64"
      ]
     },
     "execution_count": 225,
     "metadata": {},
     "output_type": "execute_result"
    }
   ],
   "source": [
    "df_theft['year'].value_counts() / 72924 *100"
   ]
  },
  {
   "cell_type": "code",
   "execution_count": 394,
   "id": "2376958a",
   "metadata": {},
   "outputs": [
    {
     "data": {
      "image/png": "[encoded data removed]",
      "text/plain": [
       "<Figure size 432x288 with 1 Axes>"
      ]
     },
     "metadata": {},
     "output_type": "display_data"
    }
   ],
   "source": [
    "sns.lineplot(data = df_theft['year'].value_counts().reset_index().sort_values(by = 'index'), x = 'index', y = 'year', color = 'tab:blue')\n",
    "plt.ylim(bottom = 0)\n",
    "plt.show()"
   ]
  },
  {
   "cell_type": "markdown",
   "id": "2b5a1de5",
   "metadata": {},
   "source": [
    "- 우하향\n",
    "- 2019~2020년 사이 급감\n",
    "- 2021년 발생 건수는 2012년 발생 건수의 52%"
   ]
  },
  {
   "cell_type": "markdown",
   "id": "cc0e44cf",
   "metadata": {},
   "source": [
    "## 가장 많이 일어난 장소(location_description)"
   ]
  },
  {
   "cell_type": "code",
   "execution_count": 199,
   "id": "5c203c70",
   "metadata": {},
   "outputs": [
    {
     "data": {
      "text/plain": [
       "STREET                            141460\n",
       "RESIDENCE                          47228\n",
       "APARTMENT                          35229\n",
       "SMALL RETAIL STORE                 34589\n",
       "DEPARTMENT STORE                   30804\n",
       "OTHER                              28059\n",
       "SIDEWALK                           22828\n",
       "PARKING LOT/GARAGE(NON.RESID.)     22553\n",
       "RESTAURANT                         21700\n",
       "GROCERY FOOD STORE                 20064\n",
       "Name: location_description, dtype: int64"
      ]
     },
     "execution_count": 199,
     "metadata": {},
     "output_type": "execute_result"
    }
   ],
   "source": [
    "df_theft['location_description'].value_counts().head(10)"
   ]
  },
  {
   "cell_type": "code",
   "execution_count": 493,
   "id": "d8e0a7b3",
   "metadata": {},
   "outputs": [
    {
     "data": {
      "text/html": [
       "<div>\n",
       "<style scoped>\n",
       "    .dataframe tbody tr th:only-of-type {\n",
       "        vertical-align: middle;\n",
       "    }\n",
       "\n",
       "    .dataframe tbody tr th {\n",
       "        vertical-align: top;\n",
       "    }\n",
       "\n",
       "    .dataframe thead th {\n",
       "        text-align: right;\n",
       "    }\n",
       "</style>\n",
       "<table border=\"1\" class=\"dataframe\">\n",
       "  <thead>\n",
       "    <tr style=\"text-align: right;\">\n",
       "      <th></th>\n",
       "      <th>index</th>\n",
       "      <th>location_description</th>\n",
       "    </tr>\n",
       "  </thead>\n",
       "  <tbody>\n",
       "    <tr>\n",
       "      <th>0</th>\n",
       "      <td>STREET</td>\n",
       "      <td>141460</td>\n",
       "    </tr>\n",
       "    <tr>\n",
       "      <th>1</th>\n",
       "      <td>RESIDENCE</td>\n",
       "      <td>47228</td>\n",
       "    </tr>\n",
       "    <tr>\n",
       "      <th>2</th>\n",
       "      <td>APARTMENT</td>\n",
       "      <td>35229</td>\n",
       "    </tr>\n",
       "    <tr>\n",
       "      <th>3</th>\n",
       "      <td>SMALL RETAIL STORE</td>\n",
       "      <td>34589</td>\n",
       "    </tr>\n",
       "    <tr>\n",
       "      <th>4</th>\n",
       "      <td>DEPARTMENT STORE</td>\n",
       "      <td>30804</td>\n",
       "    </tr>\n",
       "    <tr>\n",
       "      <th>5</th>\n",
       "      <td>OTHER</td>\n",
       "      <td>28059</td>\n",
       "    </tr>\n",
       "    <tr>\n",
       "      <th>6</th>\n",
       "      <td>SIDEWALK</td>\n",
       "      <td>22828</td>\n",
       "    </tr>\n",
       "    <tr>\n",
       "      <th>7</th>\n",
       "      <td>PARKING LOT/GARAGE(NON.RESID.)</td>\n",
       "      <td>22553</td>\n",
       "    </tr>\n",
       "    <tr>\n",
       "      <th>8</th>\n",
       "      <td>RESTAURANT</td>\n",
       "      <td>21700</td>\n",
       "    </tr>\n",
       "    <tr>\n",
       "      <th>9</th>\n",
       "      <td>GROCERY FOOD STORE</td>\n",
       "      <td>20064</td>\n",
       "    </tr>\n",
       "  </tbody>\n",
       "</table>\n",
       "</div>"
      ],
      "text/plain": [
       "                            index  location_description\n",
       "0                          STREET                141460\n",
       "1                       RESIDENCE                 47228\n",
       "2                       APARTMENT                 35229\n",
       "3              SMALL RETAIL STORE                 34589\n",
       "4                DEPARTMENT STORE                 30804\n",
       "5                           OTHER                 28059\n",
       "6                        SIDEWALK                 22828\n",
       "7  PARKING LOT/GARAGE(NON.RESID.)                 22553\n",
       "8                      RESTAURANT                 21700\n",
       "9              GROCERY FOOD STORE                 20064"
      ]
     },
     "execution_count": 493,
     "metadata": {},
     "output_type": "execute_result"
    }
   ],
   "source": [
    "df_theft['location_description'].value_counts().head(10).reset_index()"
   ]
  },
  {
   "cell_type": "code",
   "execution_count": 396,
   "id": "a9b0b6b7",
   "metadata": {},
   "outputs": [
    {
     "data": {
      "text/plain": [
       "STREET                            24.437730\n",
       "RESIDENCE                          8.158809\n",
       "APARTMENT                          6.085938\n",
       "SMALL RETAIL STORE                 5.975376\n",
       "DEPARTMENT STORE                   5.321503\n",
       "OTHER                              4.847294\n",
       "SIDEWALK                           3.943620\n",
       "PARKING LOT/GARAGE(NON.RESID.)     3.896113\n",
       "RESTAURANT                         3.748754\n",
       "GROCERY FOOD STORE                 3.466129\n",
       "Name: location_description, dtype: float64"
      ]
     },
     "execution_count": 396,
     "metadata": {},
     "output_type": "execute_result"
    }
   ],
   "source": [
    "df_theft['location_description'].value_counts().head(10) / 578859 *100"
   ]
  },
  {
   "cell_type": "code",
   "execution_count": 501,
   "id": "5f1f68b0",
   "metadata": {},
   "outputs": [
    {
     "data": {
      "image/png": "[encoded data removed]",
      "text/plain": [
       "<Figure size 576x360 with 1 Axes>"
      ]
     },
     "metadata": {},
     "output_type": "display_data"
    }
   ],
   "source": [
    "plt.figure(figsize = (8,5))\n",
    "plt.bar(data = df_theft['location_description'].value_counts().head(10).reset_index(), x = 'index', height = 'location_description', color = 'tab:blue')\n",
    "plt.xticks(rotation = 45, ha = 'right')\n",
    "plt.show()"
   ]
  },
  {
   "cell_type": "markdown",
   "id": "55fde367",
   "metadata": {},
   "source": [
    "- 절도는 거리에서 가장 많이 일어난다. 전체의 약 24%"
   ]
  },
  {
   "cell_type": "markdown",
   "id": "4d4bef83",
   "metadata": {},
   "source": [
    "## 가장 많이 일어난 구역 (community_area)"
   ]
  },
  {
   "cell_type": "code",
   "execution_count": 200,
   "id": "d16dd498",
   "metadata": {},
   "outputs": [
    {
     "data": {
      "text/plain": [
       "8.0     46393\n",
       "32.0    41848\n",
       "28.0    29622\n",
       "24.0    26648\n",
       "6.0     22269\n",
       "25.0    21475\n",
       "7.0     19020\n",
       "22.0    16252\n",
       "43.0    13066\n",
       "44.0    12964\n",
       "Name: community_area, dtype: int64"
      ]
     },
     "execution_count": 200,
     "metadata": {},
     "output_type": "execute_result"
    }
   ],
   "source": [
    "df_theft['community_area'].value_counts().head(10)"
   ]
  },
  {
   "cell_type": "code",
   "execution_count": 514,
   "id": "84273730",
   "metadata": {},
   "outputs": [
    {
     "data": {
      "text/html": [
       "<div>\n",
       "<style scoped>\n",
       "    .dataframe tbody tr th:only-of-type {\n",
       "        vertical-align: middle;\n",
       "    }\n",
       "\n",
       "    .dataframe tbody tr th {\n",
       "        vertical-align: top;\n",
       "    }\n",
       "\n",
       "    .dataframe thead th {\n",
       "        text-align: right;\n",
       "    }\n",
       "</style>\n",
       "<table border=\"1\" class=\"dataframe\">\n",
       "  <thead>\n",
       "    <tr style=\"text-align: right;\">\n",
       "      <th></th>\n",
       "      <th>index</th>\n",
       "      <th>community_area</th>\n",
       "    </tr>\n",
       "  </thead>\n",
       "  <tbody>\n",
       "    <tr>\n",
       "      <th>0</th>\n",
       "      <td>8.0</td>\n",
       "      <td>46393</td>\n",
       "    </tr>\n",
       "    <tr>\n",
       "      <th>1</th>\n",
       "      <td>32.0</td>\n",
       "      <td>41848</td>\n",
       "    </tr>\n",
       "    <tr>\n",
       "      <th>2</th>\n",
       "      <td>28.0</td>\n",
       "      <td>29622</td>\n",
       "    </tr>\n",
       "    <tr>\n",
       "      <th>3</th>\n",
       "      <td>24.0</td>\n",
       "      <td>26648</td>\n",
       "    </tr>\n",
       "    <tr>\n",
       "      <th>4</th>\n",
       "      <td>6.0</td>\n",
       "      <td>22269</td>\n",
       "    </tr>\n",
       "    <tr>\n",
       "      <th>5</th>\n",
       "      <td>25.0</td>\n",
       "      <td>21475</td>\n",
       "    </tr>\n",
       "    <tr>\n",
       "      <th>6</th>\n",
       "      <td>7.0</td>\n",
       "      <td>19020</td>\n",
       "    </tr>\n",
       "    <tr>\n",
       "      <th>7</th>\n",
       "      <td>22.0</td>\n",
       "      <td>16252</td>\n",
       "    </tr>\n",
       "    <tr>\n",
       "      <th>8</th>\n",
       "      <td>43.0</td>\n",
       "      <td>13066</td>\n",
       "    </tr>\n",
       "    <tr>\n",
       "      <th>9</th>\n",
       "      <td>44.0</td>\n",
       "      <td>12964</td>\n",
       "    </tr>\n",
       "  </tbody>\n",
       "</table>\n",
       "</div>"
      ],
      "text/plain": [
       "   index  community_area\n",
       "0    8.0           46393\n",
       "1   32.0           41848\n",
       "2   28.0           29622\n",
       "3   24.0           26648\n",
       "4    6.0           22269\n",
       "5   25.0           21475\n",
       "6    7.0           19020\n",
       "7   22.0           16252\n",
       "8   43.0           13066\n",
       "9   44.0           12964"
      ]
     },
     "execution_count": 514,
     "metadata": {},
     "output_type": "execute_result"
    }
   ],
   "source": [
    "df_theft_commu = df_theft['community_area'].value_counts().head(10).reset_index()\n",
    "df_theft_commu"
   ]
  },
  {
   "cell_type": "code",
   "execution_count": 515,
   "id": "79eba224",
   "metadata": {},
   "outputs": [],
   "source": [
    "df_theft_commu['index'] = df_theft_commu['index'].astype('int32')\n",
    "df_theft_commu['index'] = df_theft_commu['index'].astype('str')"
   ]
  },
  {
   "cell_type": "code",
   "execution_count": 516,
   "id": "a37ed45c",
   "metadata": {},
   "outputs": [
    {
     "data": {
      "image/png": "[encoded data removed]",
      "text/plain": [
       "<Figure size 576x360 with 1 Axes>"
      ]
     },
     "metadata": {},
     "output_type": "display_data"
    }
   ],
   "source": [
    "plt.figure(figsize = (8,5))\n",
    "plt.bar(data = df_theft_commu, x = 'index', height = 'community_area', color = 'tab:blue')\n",
    "plt.show()"
   ]
  },
  {
   "cell_type": "markdown",
   "id": "e92a0d11",
   "metadata": {},
   "source": [
    "- 절도의 대부분은 Central(8,32) 주변 구역이었다.\n",
    "- demographic은 white가 대부분(참고: http://www.energyjustice.net/justice/index.php?gsLayer=plural&gfLon=-87.68941177&gfLat=41.8774849&giZoom=12)\n",
    "- 시카고의 해당 지역을 검색해보니 관광지가 많다(반대로 '시카고 여행' 검색 시에도 해당 지역이 많이 뜬다) -> 여행객들이 많다 -> 절도와 여행지는 상관 관계가 있는 듯 하다.\n",
    "https://gocity.com/chicago/en-us/blog/chicago-neighborhoods"
   ]
  },
  {
   "cell_type": "markdown",
   "id": "305b3c74",
   "metadata": {},
   "source": [
    "## 관할 지구대"
   ]
  },
  {
   "cell_type": "code",
   "execution_count": 397,
   "id": "79fd42de",
   "metadata": {},
   "outputs": [
    {
     "data": {
      "text/plain": [
       "1834    12052\n",
       "111     10178\n",
       "112      9892\n",
       "1833     8402\n",
       "1831     8047\n",
       "122      7140\n",
       "123      5868\n",
       "1424     5493\n",
       "2533     5050\n",
       "114      4716\n",
       "Name: beat, dtype: int64"
      ]
     },
     "execution_count": 397,
     "metadata": {},
     "output_type": "execute_result"
    }
   ],
   "source": [
    "df_theft['beat'].value_counts().head(10)"
   ]
  },
  {
   "cell_type": "code",
   "execution_count": 517,
   "id": "d7285d6c",
   "metadata": {},
   "outputs": [
    {
     "data": {
      "text/html": [
       "<div>\n",
       "<style scoped>\n",
       "    .dataframe tbody tr th:only-of-type {\n",
       "        vertical-align: middle;\n",
       "    }\n",
       "\n",
       "    .dataframe tbody tr th {\n",
       "        vertical-align: top;\n",
       "    }\n",
       "\n",
       "    .dataframe thead th {\n",
       "        text-align: right;\n",
       "    }\n",
       "</style>\n",
       "<table border=\"1\" class=\"dataframe\">\n",
       "  <thead>\n",
       "    <tr style=\"text-align: right;\">\n",
       "      <th></th>\n",
       "      <th>index</th>\n",
       "      <th>beat</th>\n",
       "    </tr>\n",
       "  </thead>\n",
       "  <tbody>\n",
       "    <tr>\n",
       "      <th>0</th>\n",
       "      <td>1834</td>\n",
       "      <td>12052</td>\n",
       "    </tr>\n",
       "    <tr>\n",
       "      <th>1</th>\n",
       "      <td>111</td>\n",
       "      <td>10178</td>\n",
       "    </tr>\n",
       "    <tr>\n",
       "      <th>2</th>\n",
       "      <td>112</td>\n",
       "      <td>9892</td>\n",
       "    </tr>\n",
       "    <tr>\n",
       "      <th>3</th>\n",
       "      <td>1833</td>\n",
       "      <td>8402</td>\n",
       "    </tr>\n",
       "    <tr>\n",
       "      <th>4</th>\n",
       "      <td>1831</td>\n",
       "      <td>8047</td>\n",
       "    </tr>\n",
       "    <tr>\n",
       "      <th>5</th>\n",
       "      <td>122</td>\n",
       "      <td>7140</td>\n",
       "    </tr>\n",
       "    <tr>\n",
       "      <th>6</th>\n",
       "      <td>123</td>\n",
       "      <td>5868</td>\n",
       "    </tr>\n",
       "    <tr>\n",
       "      <th>7</th>\n",
       "      <td>1424</td>\n",
       "      <td>5493</td>\n",
       "    </tr>\n",
       "    <tr>\n",
       "      <th>8</th>\n",
       "      <td>2533</td>\n",
       "      <td>5050</td>\n",
       "    </tr>\n",
       "    <tr>\n",
       "      <th>9</th>\n",
       "      <td>114</td>\n",
       "      <td>4716</td>\n",
       "    </tr>\n",
       "  </tbody>\n",
       "</table>\n",
       "</div>"
      ],
      "text/plain": [
       "   index   beat\n",
       "0   1834  12052\n",
       "1    111  10178\n",
       "2    112   9892\n",
       "3   1833   8402\n",
       "4   1831   8047\n",
       "5    122   7140\n",
       "6    123   5868\n",
       "7   1424   5493\n",
       "8   2533   5050\n",
       "9    114   4716"
      ]
     },
     "execution_count": 517,
     "metadata": {},
     "output_type": "execute_result"
    }
   ],
   "source": [
    "df_theft_beat = df_theft['beat'].value_counts().head(10).reset_index()\n",
    "df_theft_beat"
   ]
  },
  {
   "cell_type": "code",
   "execution_count": 521,
   "id": "f0b53b58",
   "metadata": {},
   "outputs": [],
   "source": [
    "df_theft_beat['index'] = df_theft_beat['index'].astype('str')"
   ]
  },
  {
   "cell_type": "code",
   "execution_count": 522,
   "id": "dc1e3fe9",
   "metadata": {},
   "outputs": [
    {
     "data": {
      "image/png": "[encoded data removed]",
      "text/plain": [
       "<Figure size 576x360 with 1 Axes>"
      ]
     },
     "metadata": {},
     "output_type": "display_data"
    }
   ],
   "source": [
    "plt.figure(figsize = (8,5))\n",
    "plt.bar(data = df_theft_beat, x = 'index', height = 'beat', color = 'tab:blue')\n",
    "plt.show()"
   ]
  },
  {
   "cell_type": "markdown",
   "id": "b2de8ff4",
   "metadata": {},
   "source": [
    "- 해당 커뮤니티 지역 중에서도 1834, 111번 지구대가 담당하는 구역에서 가장 많이 일어났다.\n",
    "    > 두 지역은 커뮤니티 8번, 32번이 맞닿아있는 부분이다\n",
    "- 111,112,113번은 구역이 세밀하게 분류되어 있음에도 발생 건수가 상위권을 차지"
   ]
  },
  {
   "cell_type": "markdown",
   "id": "5520b510",
   "metadata": {},
   "source": [
    "## 체포 여부 (arrest)"
   ]
  },
  {
   "cell_type": "code",
   "execution_count": 201,
   "id": "21e5dde2",
   "metadata": {},
   "outputs": [
    {
     "data": {
      "text/plain": [
       "False    0.897750\n",
       "True     0.101413\n",
       "Name: arrest, dtype: float64"
      ]
     },
     "execution_count": 201,
     "metadata": {},
     "output_type": "execute_result"
    }
   ],
   "source": [
    "df_theft['arrest'].value_counts() / 579344"
   ]
  },
  {
   "cell_type": "code",
   "execution_count": 202,
   "id": "2ef9d9be",
   "metadata": {},
   "outputs": [
    {
     "data": {
      "image/png": "[encoded data removed]",
      "text/plain": [
       "<Figure size 432x288 with 1 Axes>"
      ]
     },
     "metadata": {},
     "output_type": "display_data"
    }
   ],
   "source": [
    "sns.countplot(data = df_theft, x = 'year', hue = 'arrest')\n",
    "plt.show()"
   ]
  },
  {
   "cell_type": "code",
   "execution_count": 254,
   "id": "bd4e689c",
   "metadata": {},
   "outputs": [
    {
     "data": {
      "text/html": [
       "<div>\n",
       "<style scoped>\n",
       "    .dataframe tbody tr th:only-of-type {\n",
       "        vertical-align: middle;\n",
       "    }\n",
       "\n",
       "    .dataframe tbody tr th {\n",
       "        vertical-align: top;\n",
       "    }\n",
       "\n",
       "    .dataframe thead th {\n",
       "        text-align: right;\n",
       "    }\n",
       "</style>\n",
       "<table border=\"1\" class=\"dataframe\">\n",
       "  <thead>\n",
       "    <tr style=\"text-align: right;\">\n",
       "      <th></th>\n",
       "      <th>year</th>\n",
       "      <th>arrest</th>\n",
       "      <th>count</th>\n",
       "    </tr>\n",
       "  </thead>\n",
       "  <tbody>\n",
       "    <tr>\n",
       "      <th>0</th>\n",
       "      <td>2012</td>\n",
       "      <td>False</td>\n",
       "      <td>64835</td>\n",
       "    </tr>\n",
       "    <tr>\n",
       "      <th>1</th>\n",
       "      <td>2012</td>\n",
       "      <td>True</td>\n",
       "      <td>8089</td>\n",
       "    </tr>\n",
       "    <tr>\n",
       "      <th>2</th>\n",
       "      <td>2013</td>\n",
       "      <td>False</td>\n",
       "      <td>61873</td>\n",
       "    </tr>\n",
       "    <tr>\n",
       "      <th>3</th>\n",
       "      <td>2013</td>\n",
       "      <td>True</td>\n",
       "      <td>7574</td>\n",
       "    </tr>\n",
       "    <tr>\n",
       "      <th>4</th>\n",
       "      <td>2014</td>\n",
       "      <td>False</td>\n",
       "      <td>52278</td>\n",
       "    </tr>\n",
       "    <tr>\n",
       "      <th>5</th>\n",
       "      <td>2014</td>\n",
       "      <td>True</td>\n",
       "      <td>7288</td>\n",
       "    </tr>\n",
       "    <tr>\n",
       "      <th>6</th>\n",
       "      <td>2015</td>\n",
       "      <td>False</td>\n",
       "      <td>48656</td>\n",
       "    </tr>\n",
       "    <tr>\n",
       "      <th>7</th>\n",
       "      <td>2015</td>\n",
       "      <td>True</td>\n",
       "      <td>6627</td>\n",
       "    </tr>\n",
       "    <tr>\n",
       "      <th>8</th>\n",
       "      <td>2016</td>\n",
       "      <td>False</td>\n",
       "      <td>52961</td>\n",
       "    </tr>\n",
       "    <tr>\n",
       "      <th>9</th>\n",
       "      <td>2016</td>\n",
       "      <td>True</td>\n",
       "      <td>6406</td>\n",
       "    </tr>\n",
       "    <tr>\n",
       "      <th>10</th>\n",
       "      <td>2017</td>\n",
       "      <td>False</td>\n",
       "      <td>55727</td>\n",
       "    </tr>\n",
       "    <tr>\n",
       "      <th>11</th>\n",
       "      <td>2017</td>\n",
       "      <td>True</td>\n",
       "      <td>6364</td>\n",
       "    </tr>\n",
       "    <tr>\n",
       "      <th>12</th>\n",
       "      <td>2018</td>\n",
       "      <td>False</td>\n",
       "      <td>56753</td>\n",
       "    </tr>\n",
       "    <tr>\n",
       "      <th>13</th>\n",
       "      <td>2018</td>\n",
       "      <td>True</td>\n",
       "      <td>6222</td>\n",
       "    </tr>\n",
       "    <tr>\n",
       "      <th>14</th>\n",
       "      <td>2019</td>\n",
       "      <td>False</td>\n",
       "      <td>54124</td>\n",
       "    </tr>\n",
       "    <tr>\n",
       "      <th>15</th>\n",
       "      <td>2019</td>\n",
       "      <td>True</td>\n",
       "      <td>5985</td>\n",
       "    </tr>\n",
       "    <tr>\n",
       "      <th>16</th>\n",
       "      <td>2020</td>\n",
       "      <td>False</td>\n",
       "      <td>36341</td>\n",
       "    </tr>\n",
       "    <tr>\n",
       "      <th>17</th>\n",
       "      <td>2020</td>\n",
       "      <td>True</td>\n",
       "      <td>2727</td>\n",
       "    </tr>\n",
       "    <tr>\n",
       "      <th>18</th>\n",
       "      <td>2021</td>\n",
       "      <td>False</td>\n",
       "      <td>36558</td>\n",
       "    </tr>\n",
       "    <tr>\n",
       "      <th>19</th>\n",
       "      <td>2021</td>\n",
       "      <td>True</td>\n",
       "      <td>1471</td>\n",
       "    </tr>\n",
       "  </tbody>\n",
       "</table>\n",
       "</div>"
      ],
      "text/plain": [
       "    year  arrest  count\n",
       "0   2012   False  64835\n",
       "1   2012    True   8089\n",
       "2   2013   False  61873\n",
       "3   2013    True   7574\n",
       "4   2014   False  52278\n",
       "5   2014    True   7288\n",
       "6   2015   False  48656\n",
       "7   2015    True   6627\n",
       "8   2016   False  52961\n",
       "9   2016    True   6406\n",
       "10  2017   False  55727\n",
       "11  2017    True   6364\n",
       "12  2018   False  56753\n",
       "13  2018    True   6222\n",
       "14  2019   False  54124\n",
       "15  2019    True   5985\n",
       "16  2020   False  36341\n",
       "17  2020    True   2727\n",
       "18  2021   False  36558\n",
       "19  2021    True   1471"
      ]
     },
     "execution_count": 254,
     "metadata": {},
     "output_type": "execute_result"
    }
   ],
   "source": [
    "df_theft_arrest = pd.DataFrame(df_theft.groupby('year')['arrest'].value_counts())\n",
    "df_theft_arrest.columns = ['count']\n",
    "df_theft_arrest = df_theft_arrest.reset_index()\n",
    "df_theft_arrest"
   ]
  },
  {
   "cell_type": "code",
   "execution_count": 294,
   "id": "f97794d8",
   "metadata": {},
   "outputs": [
    {
     "name": "stdout",
     "output_type": "stream",
     "text": [
      "<class 'pandas.core.frame.DataFrame'>\n",
      "RangeIndex: 20 entries, 0 to 19\n",
      "Data columns (total 3 columns):\n",
      " #   Column  Non-Null Count  Dtype\n",
      "---  ------  --------------  -----\n",
      " 0   year    20 non-null     int32\n",
      " 1   arrest  20 non-null     bool \n",
      " 2   count   20 non-null     int64\n",
      "dtypes: bool(1), int32(1), int64(1)\n",
      "memory usage: 388.0 bytes\n"
     ]
    }
   ],
   "source": [
    "df_theft_arrest['year'] = df_theft_arrest['year'].astype('int32')\n",
    "df_theft_arrest.info()"
   ]
  },
  {
   "cell_type": "code",
   "execution_count": 416,
   "id": "4c8d21f0",
   "metadata": {},
   "outputs": [
    {
     "data": {
      "text/html": [
       "<div>\n",
       "<style scoped>\n",
       "    .dataframe tbody tr th:only-of-type {\n",
       "        vertical-align: middle;\n",
       "    }\n",
       "\n",
       "    .dataframe tbody tr th {\n",
       "        vertical-align: top;\n",
       "    }\n",
       "\n",
       "    .dataframe thead th {\n",
       "        text-align: right;\n",
       "    }\n",
       "</style>\n",
       "<table border=\"1\" class=\"dataframe\">\n",
       "  <thead>\n",
       "    <tr style=\"text-align: right;\">\n",
       "      <th></th>\n",
       "      <th>year</th>\n",
       "      <th>ratio</th>\n",
       "    </tr>\n",
       "  </thead>\n",
       "  <tbody>\n",
       "  </tbody>\n",
       "</table>\n",
       "</div>"
      ],
      "text/plain": [
       "Empty DataFrame\n",
       "Columns: [year, ratio]\n",
       "Index: []"
      ]
     },
     "execution_count": 416,
     "metadata": {},
     "output_type": "execute_result"
    }
   ],
   "source": [
    "theft_arrest_ratio = pd.DataFrame(columns = ['year', 'ratio'])\n",
    "theft_arrest_ratio"
   ]
  },
  {
   "cell_type": "code",
   "execution_count": 417,
   "id": "12e6b856",
   "metadata": {
    "scrolled": true
   },
   "outputs": [
    {
     "data": {
      "text/html": [
       "<div>\n",
       "<style scoped>\n",
       "    .dataframe tbody tr th:only-of-type {\n",
       "        vertical-align: middle;\n",
       "    }\n",
       "\n",
       "    .dataframe tbody tr th {\n",
       "        vertical-align: top;\n",
       "    }\n",
       "\n",
       "    .dataframe thead th {\n",
       "        text-align: right;\n",
       "    }\n",
       "</style>\n",
       "<table border=\"1\" class=\"dataframe\">\n",
       "  <thead>\n",
       "    <tr style=\"text-align: right;\">\n",
       "      <th></th>\n",
       "      <th>year</th>\n",
       "      <th>ratio</th>\n",
       "    </tr>\n",
       "  </thead>\n",
       "  <tbody>\n",
       "    <tr>\n",
       "      <th>0</th>\n",
       "      <td>2012.0</td>\n",
       "      <td>11.09</td>\n",
       "    </tr>\n",
       "    <tr>\n",
       "      <th>1</th>\n",
       "      <td>2013.0</td>\n",
       "      <td>10.91</td>\n",
       "    </tr>\n",
       "    <tr>\n",
       "      <th>2</th>\n",
       "      <td>2014.0</td>\n",
       "      <td>12.24</td>\n",
       "    </tr>\n",
       "    <tr>\n",
       "      <th>3</th>\n",
       "      <td>2015.0</td>\n",
       "      <td>11.99</td>\n",
       "    </tr>\n",
       "    <tr>\n",
       "      <th>4</th>\n",
       "      <td>2016.0</td>\n",
       "      <td>10.79</td>\n",
       "    </tr>\n",
       "    <tr>\n",
       "      <th>5</th>\n",
       "      <td>2017.0</td>\n",
       "      <td>10.25</td>\n",
       "    </tr>\n",
       "    <tr>\n",
       "      <th>6</th>\n",
       "      <td>2018.0</td>\n",
       "      <td>9.88</td>\n",
       "    </tr>\n",
       "    <tr>\n",
       "      <th>7</th>\n",
       "      <td>2019.0</td>\n",
       "      <td>9.96</td>\n",
       "    </tr>\n",
       "    <tr>\n",
       "      <th>8</th>\n",
       "      <td>2020.0</td>\n",
       "      <td>6.98</td>\n",
       "    </tr>\n",
       "    <tr>\n",
       "      <th>9</th>\n",
       "      <td>2021.0</td>\n",
       "      <td>3.87</td>\n",
       "    </tr>\n",
       "  </tbody>\n",
       "</table>\n",
       "</div>"
      ],
      "text/plain": [
       "     year  ratio\n",
       "0  2012.0  11.09\n",
       "1  2013.0  10.91\n",
       "2  2014.0  12.24\n",
       "3  2015.0  11.99\n",
       "4  2016.0  10.79\n",
       "5  2017.0  10.25\n",
       "6  2018.0   9.88\n",
       "7  2019.0   9.96\n",
       "8  2020.0   6.98\n",
       "9  2021.0   3.87"
      ]
     },
     "execution_count": 417,
     "metadata": {},
     "output_type": "execute_result"
    }
   ],
   "source": [
    "arrest_ratio(2012, df_theft_arrest, theft_arrest_ratio)\n",
    "theft_arrest_ratio"
   ]
  },
  {
   "cell_type": "code",
   "execution_count": 428,
   "id": "db008f06",
   "metadata": {
    "scrolled": true
   },
   "outputs": [
    {
     "data": {
      "image/png": "[encoded data removed]",
      "text/plain": [
       "<Figure size 432x288 with 1 Axes>"
      ]
     },
     "metadata": {},
     "output_type": "display_data"
    }
   ],
   "source": [
    "sns.lineplot(data = theft_arrest_ratio, x = 'year', y = 'ratio', color = 'tab:blue')\n",
    "plt.ylim(0,13)\n",
    "plt.show()"
   ]
  },
  {
   "cell_type": "markdown",
   "id": "41e550ba",
   "metadata": {},
   "source": [
    "- 체포율은 10% 안팎이다.\n",
    "- 최근으로 갈수록 체포율이 낮아진다."
   ]
  },
  {
   "cell_type": "markdown",
   "id": "6cc91df0",
   "metadata": {},
   "source": [
    "참고: https://www.google.com/search?q=chicago+crime+rate&source=lmns&bih=969&biw=1920&hl=ko&sa=X&ved=2ahUKEwixppK5jej2AhUFc5QKHZ4tBKIQ_AUoAHoECAEQAA\n",
    "</br>\n",
    "loop 등 센트럴 지역은 안전하긴 하나, pickpocket들을 주의해야한다고 구글에 바로 뜬다."
   ]
  },
  {
   "cell_type": "markdown",
   "id": "d52f291f",
   "metadata": {},
   "source": [
    "# CRIMINAL DAMAGE\n",
    "손괴죄\n",
    "- The Criminal Damage Act 1971 classifies criminal damage as:\n",
    "    >‘A person who, without lawful excuse, destroys or damages any property belonging to another, intending to destroy or damage any such property, or being reckless as to whether any such property would be destroyed or damaged.’\n",
    "\n",
    "    - This offence is wide ranging and applies to any tangible property.  For damage to be inflicted on a property however, it must be more than minimal and create a situation where the property’s value or usefulness has been affected in some way."
   ]
  },
  {
   "cell_type": "code",
   "execution_count": 424,
   "id": "f8281b5d",
   "metadata": {},
   "outputs": [
    {
     "name": "stdout",
     "output_type": "stream",
     "text": [
      "<class 'pandas.core.frame.DataFrame'>\n",
      "Int64Index: 254106 entries, 9 to 2670237\n",
      "Data columns (total 11 columns):\n",
      " #   Column                Non-Null Count   Dtype              \n",
      "---  ------                --------------   -----              \n",
      " 0   unique_key            254106 non-null  int64              \n",
      " 1   date                  254106 non-null  datetime64[ns, UTC]\n",
      " 2   primary_type          254106 non-null  object             \n",
      " 3   location_description  254106 non-null  object             \n",
      " 4   arrest                254106 non-null  bool               \n",
      " 5   domestic              254106 non-null  bool               \n",
      " 6   beat                  254106 non-null  int64              \n",
      " 7   community_area        254106 non-null  float64            \n",
      " 8   month                 254106 non-null  object             \n",
      " 9   year                  254106 non-null  object             \n",
      " 10  only_month            254106 non-null  object             \n",
      "dtypes: bool(2), datetime64[ns, UTC](1), float64(1), int64(2), object(5)\n",
      "memory usage: 27.9+ MB\n"
     ]
    }
   ],
   "source": [
    "df_criminalDamage.info()"
   ]
  },
  {
   "cell_type": "markdown",
   "id": "d84d449b",
   "metadata": {},
   "source": [
    "## 기간별 발생 수"
   ]
  },
  {
   "cell_type": "code",
   "execution_count": 421,
   "id": "538df202",
   "metadata": {},
   "outputs": [
    {
     "data": {
      "text/plain": [
       "2012    32482\n",
       "2016    27673\n",
       "2013    27666\n",
       "2017    25717\n",
       "2015    25639\n",
       "2014    24948\n",
       "2018    24560\n",
       "2019    23480\n",
       "2020    21191\n",
       "2021    20750\n",
       "Name: year, dtype: int64"
      ]
     },
     "execution_count": 421,
     "metadata": {},
     "output_type": "execute_result"
    }
   ],
   "source": [
    "df_criminalDamage['year'].value_counts()"
   ]
  },
  {
   "cell_type": "code",
   "execution_count": 422,
   "id": "fbf04c5a",
   "metadata": {},
   "outputs": [
    {
     "data": {
      "text/html": [
       "<div>\n",
       "<style scoped>\n",
       "    .dataframe tbody tr th:only-of-type {\n",
       "        vertical-align: middle;\n",
       "    }\n",
       "\n",
       "    .dataframe tbody tr th {\n",
       "        vertical-align: top;\n",
       "    }\n",
       "\n",
       "    .dataframe thead th {\n",
       "        text-align: right;\n",
       "    }\n",
       "</style>\n",
       "<table border=\"1\" class=\"dataframe\">\n",
       "  <thead>\n",
       "    <tr style=\"text-align: right;\">\n",
       "      <th></th>\n",
       "      <th>index</th>\n",
       "      <th>year</th>\n",
       "    </tr>\n",
       "  </thead>\n",
       "  <tbody>\n",
       "    <tr>\n",
       "      <th>0</th>\n",
       "      <td>2012</td>\n",
       "      <td>32482</td>\n",
       "    </tr>\n",
       "    <tr>\n",
       "      <th>2</th>\n",
       "      <td>2013</td>\n",
       "      <td>27666</td>\n",
       "    </tr>\n",
       "    <tr>\n",
       "      <th>5</th>\n",
       "      <td>2014</td>\n",
       "      <td>24948</td>\n",
       "    </tr>\n",
       "    <tr>\n",
       "      <th>4</th>\n",
       "      <td>2015</td>\n",
       "      <td>25639</td>\n",
       "    </tr>\n",
       "    <tr>\n",
       "      <th>1</th>\n",
       "      <td>2016</td>\n",
       "      <td>27673</td>\n",
       "    </tr>\n",
       "    <tr>\n",
       "      <th>3</th>\n",
       "      <td>2017</td>\n",
       "      <td>25717</td>\n",
       "    </tr>\n",
       "    <tr>\n",
       "      <th>6</th>\n",
       "      <td>2018</td>\n",
       "      <td>24560</td>\n",
       "    </tr>\n",
       "    <tr>\n",
       "      <th>7</th>\n",
       "      <td>2019</td>\n",
       "      <td>23480</td>\n",
       "    </tr>\n",
       "    <tr>\n",
       "      <th>8</th>\n",
       "      <td>2020</td>\n",
       "      <td>21191</td>\n",
       "    </tr>\n",
       "    <tr>\n",
       "      <th>9</th>\n",
       "      <td>2021</td>\n",
       "      <td>20750</td>\n",
       "    </tr>\n",
       "  </tbody>\n",
       "</table>\n",
       "</div>"
      ],
      "text/plain": [
       "  index   year\n",
       "0  2012  32482\n",
       "2  2013  27666\n",
       "5  2014  24948\n",
       "4  2015  25639\n",
       "1  2016  27673\n",
       "3  2017  25717\n",
       "6  2018  24560\n",
       "7  2019  23480\n",
       "8  2020  21191\n",
       "9  2021  20750"
      ]
     },
     "execution_count": 422,
     "metadata": {},
     "output_type": "execute_result"
    }
   ],
   "source": [
    "df_criminalDamage['year'].value_counts().reset_index().sort_values(by = 'index')"
   ]
  },
  {
   "cell_type": "code",
   "execution_count": 426,
   "id": "398850cb",
   "metadata": {},
   "outputs": [
    {
     "data": {
      "text/plain": [
       "2012    100.000000\n",
       "2016     85.194877\n",
       "2013     85.173327\n",
       "2017     79.173080\n",
       "2015     78.932947\n",
       "2014     76.805615\n",
       "2018     75.611108\n",
       "2019     72.286189\n",
       "2020     65.239209\n",
       "2021     63.881534\n",
       "Name: year, dtype: float64"
      ]
     },
     "execution_count": 426,
     "metadata": {},
     "output_type": "execute_result"
    }
   ],
   "source": [
    "df_criminalDamage['year'].value_counts() / 32482 *100"
   ]
  },
  {
   "cell_type": "code",
   "execution_count": 427,
   "id": "0dabee4e",
   "metadata": {},
   "outputs": [
    {
     "data": {
      "image/png": "[encoded data removed]",
      "text/plain": [
       "<Figure size 432x288 with 1 Axes>"
      ]
     },
     "metadata": {},
     "output_type": "display_data"
    }
   ],
   "source": [
    "sns.lineplot(data = df_criminalDamage['year'].value_counts().reset_index().sort_values(by = 'index'), x = 'index', y = 'year', color = 'tab:blue')\n",
    "plt.ylim(bottom = 0)\n",
    "plt.show()"
   ]
  },
  {
   "cell_type": "markdown",
   "id": "ef1c024e",
   "metadata": {},
   "source": [
    "- 우하향\n",
    "- 2016년도 잠시 증가했다가 다시 하락\n",
    "- 2021년 발생 건수는 2012년 발생 건수의 약 64%"
   ]
  },
  {
   "cell_type": "markdown",
   "id": "241f8de9",
   "metadata": {},
   "source": [
    "## 가장 많이 일어난 장소(location_description)"
   ]
  },
  {
   "cell_type": "code",
   "execution_count": 430,
   "id": "7d8f9a99",
   "metadata": {},
   "outputs": [
    {
     "data": {
      "text/plain": [
       "STREET                            92272\n",
       "RESIDENCE                         42690\n",
       "APARTMENT                         29815\n",
       "PARKING LOT/GARAGE(NON.RESID.)    10635\n",
       "RESIDENCE-GARAGE                   9504\n",
       "OTHER                              7278\n",
       "RESIDENTIAL YARD (FRONT/BACK)      6255\n",
       "VEHICLE NON-COMMERCIAL             4707\n",
       "ALLEY                              4058\n",
       "RESTAURANT                         3885\n",
       "Name: location_description, dtype: int64"
      ]
     },
     "execution_count": 430,
     "metadata": {},
     "output_type": "execute_result"
    }
   ],
   "source": [
    "df_criminalDamage['location_description'].value_counts().head(10)"
   ]
  },
  {
   "cell_type": "code",
   "execution_count": 429,
   "id": "9aa99756",
   "metadata": {},
   "outputs": [
    {
     "data": {
      "text/plain": [
       "STREET                            36.312405\n",
       "RESIDENCE                         16.800076\n",
       "APARTMENT                         11.733292\n",
       "PARKING LOT/GARAGE(NON.RESID.)     4.185261\n",
       "RESIDENCE-GARAGE                   3.740171\n",
       "OTHER                              2.864159\n",
       "RESIDENTIAL YARD (FRONT/BACK)      2.461571\n",
       "VEHICLE NON-COMMERCIAL             1.852377\n",
       "ALLEY                              1.596971\n",
       "RESTAURANT                         1.528890\n",
       "Name: location_description, dtype: float64"
      ]
     },
     "execution_count": 429,
     "metadata": {},
     "output_type": "execute_result"
    }
   ],
   "source": [
    "df_criminalDamage['location_description'].value_counts().head(10) / 254106 *100"
   ]
  },
  {
   "cell_type": "code",
   "execution_count": 523,
   "id": "d8f600de",
   "metadata": {},
   "outputs": [
    {
     "data": {
      "image/png": "[encoded data removed]",
      "text/plain": [
       "<Figure size 576x360 with 1 Axes>"
      ]
     },
     "metadata": {},
     "output_type": "display_data"
    }
   ],
   "source": [
    "plt.figure(figsize = (8,5))\n",
    "plt.bar(data = df_criminalDamage['location_description'].value_counts().head(10).reset_index(), x = 'index', height = 'location_description', color = 'tab:blue')\n",
    "plt.xticks(rotation = 45, ha = 'right')\n",
    "plt.show()"
   ]
  },
  {
   "cell_type": "markdown",
   "id": "25880540",
   "metadata": {},
   "source": [
    "- 손괴죄는 거리에서 가장 많이 일어난다. 전체의 약 36%\n",
    "- 절도는 여러 지역에서 고루 일어나는 반면, 손괴는 거리, 거주지 중심으로 50% 이상 일어났다.\n",
    "    > 아무래도 물건이 상주하는 곳이어야 해서 그런듯"
   ]
  },
  {
   "cell_type": "markdown",
   "id": "e4f1f730",
   "metadata": {},
   "source": [
    "## 가장 많이 일어난 구역 (community_area)"
   ]
  },
  {
   "cell_type": "code",
   "execution_count": 432,
   "id": "66856dfb",
   "metadata": {},
   "outputs": [
    {
     "data": {
      "text/plain": [
       "25.0    12749\n",
       "43.0     8834\n",
       "24.0     8227\n",
       "49.0     7375\n",
       "28.0     7320\n",
       "71.0     7053\n",
       "29.0     6684\n",
       "23.0     6591\n",
       "67.0     6416\n",
       "69.0     6224\n",
       "Name: community_area, dtype: int64"
      ]
     },
     "execution_count": 432,
     "metadata": {},
     "output_type": "execute_result"
    }
   ],
   "source": [
    "df_criminalDamage['community_area'].value_counts().head(10)"
   ]
  },
  {
   "cell_type": "code",
   "execution_count": 524,
   "id": "6618f431",
   "metadata": {},
   "outputs": [
    {
     "data": {
      "text/html": [
       "<div>\n",
       "<style scoped>\n",
       "    .dataframe tbody tr th:only-of-type {\n",
       "        vertical-align: middle;\n",
       "    }\n",
       "\n",
       "    .dataframe tbody tr th {\n",
       "        vertical-align: top;\n",
       "    }\n",
       "\n",
       "    .dataframe thead th {\n",
       "        text-align: right;\n",
       "    }\n",
       "</style>\n",
       "<table border=\"1\" class=\"dataframe\">\n",
       "  <thead>\n",
       "    <tr style=\"text-align: right;\">\n",
       "      <th></th>\n",
       "      <th>index</th>\n",
       "      <th>community_area</th>\n",
       "    </tr>\n",
       "  </thead>\n",
       "  <tbody>\n",
       "    <tr>\n",
       "      <th>0</th>\n",
       "      <td>25.0</td>\n",
       "      <td>12749</td>\n",
       "    </tr>\n",
       "    <tr>\n",
       "      <th>1</th>\n",
       "      <td>43.0</td>\n",
       "      <td>8834</td>\n",
       "    </tr>\n",
       "    <tr>\n",
       "      <th>2</th>\n",
       "      <td>24.0</td>\n",
       "      <td>8227</td>\n",
       "    </tr>\n",
       "    <tr>\n",
       "      <th>3</th>\n",
       "      <td>49.0</td>\n",
       "      <td>7375</td>\n",
       "    </tr>\n",
       "    <tr>\n",
       "      <th>4</th>\n",
       "      <td>28.0</td>\n",
       "      <td>7320</td>\n",
       "    </tr>\n",
       "    <tr>\n",
       "      <th>5</th>\n",
       "      <td>71.0</td>\n",
       "      <td>7053</td>\n",
       "    </tr>\n",
       "    <tr>\n",
       "      <th>6</th>\n",
       "      <td>29.0</td>\n",
       "      <td>6684</td>\n",
       "    </tr>\n",
       "    <tr>\n",
       "      <th>7</th>\n",
       "      <td>23.0</td>\n",
       "      <td>6591</td>\n",
       "    </tr>\n",
       "    <tr>\n",
       "      <th>8</th>\n",
       "      <td>67.0</td>\n",
       "      <td>6416</td>\n",
       "    </tr>\n",
       "    <tr>\n",
       "      <th>9</th>\n",
       "      <td>69.0</td>\n",
       "      <td>6224</td>\n",
       "    </tr>\n",
       "  </tbody>\n",
       "</table>\n",
       "</div>"
      ],
      "text/plain": [
       "   index  community_area\n",
       "0   25.0           12749\n",
       "1   43.0            8834\n",
       "2   24.0            8227\n",
       "3   49.0            7375\n",
       "4   28.0            7320\n",
       "5   71.0            7053\n",
       "6   29.0            6684\n",
       "7   23.0            6591\n",
       "8   67.0            6416\n",
       "9   69.0            6224"
      ]
     },
     "execution_count": 524,
     "metadata": {},
     "output_type": "execute_result"
    }
   ],
   "source": [
    "df_criminalDamage_commu = df_criminalDamage['community_area'].value_counts().head(10).reset_index()\n",
    "df_criminalDamage_commu"
   ]
  },
  {
   "cell_type": "code",
   "execution_count": 525,
   "id": "836c7ab0",
   "metadata": {},
   "outputs": [],
   "source": [
    "df_criminalDamage_commu['index'] = df_criminalDamage_commu['index'].astype('int32')\n",
    "df_criminalDamage_commu['index'] = df_criminalDamage_commu['index'].astype('str')"
   ]
  },
  {
   "cell_type": "code",
   "execution_count": 526,
   "id": "5e04eedf",
   "metadata": {},
   "outputs": [
    {
     "data": {
      "image/png": "[encoded data removed]",
      "text/plain": [
       "<Figure size 576x360 with 1 Axes>"
      ]
     },
     "metadata": {},
     "output_type": "display_data"
    }
   ],
   "source": [
    "plt.figure(figsize = (8,5))\n",
    "plt.bar(data = df_criminalDamage_commu, x = 'index', height = 'community_area', color = 'tab:blue')\n",
    "plt.show()"
   ]
  },
  {
   "cell_type": "markdown",
   "id": "87192409",
   "metadata": {},
   "source": [
    "- racial demographic을 보면 black이 대부분이다. (참고: http://www.energyjustice.net/justice/index.php?gsLayer=plural&gfLon=-87.68941177&gfLat=41.8774849&giZoom=12)\n",
    "- theft와는 다른 구역에서 주로 일어남"
   ]
  },
  {
   "cell_type": "markdown",
   "id": "48e9672f",
   "metadata": {},
   "source": [
    "## 관할 지구대"
   ]
  },
  {
   "cell_type": "code",
   "execution_count": 431,
   "id": "5a7fb735",
   "metadata": {},
   "outputs": [
    {
     "data": {
      "text/plain": [
       "511    2416\n",
       "423    2146\n",
       "813    2136\n",
       "421    1908\n",
       "823    1776\n",
       "414    1728\n",
       "523    1667\n",
       "631    1636\n",
       "624    1635\n",
       "432    1597\n",
       "Name: beat, dtype: int64"
      ]
     },
     "execution_count": 431,
     "metadata": {},
     "output_type": "execute_result"
    }
   ],
   "source": [
    "df_criminalDamage['beat'].value_counts().head(10)"
   ]
  },
  {
   "cell_type": "code",
   "execution_count": 527,
   "id": "aa4d53c2",
   "metadata": {},
   "outputs": [
    {
     "data": {
      "text/html": [
       "<div>\n",
       "<style scoped>\n",
       "    .dataframe tbody tr th:only-of-type {\n",
       "        vertical-align: middle;\n",
       "    }\n",
       "\n",
       "    .dataframe tbody tr th {\n",
       "        vertical-align: top;\n",
       "    }\n",
       "\n",
       "    .dataframe thead th {\n",
       "        text-align: right;\n",
       "    }\n",
       "</style>\n",
       "<table border=\"1\" class=\"dataframe\">\n",
       "  <thead>\n",
       "    <tr style=\"text-align: right;\">\n",
       "      <th></th>\n",
       "      <th>index</th>\n",
       "      <th>beat</th>\n",
       "    </tr>\n",
       "  </thead>\n",
       "  <tbody>\n",
       "    <tr>\n",
       "      <th>0</th>\n",
       "      <td>511</td>\n",
       "      <td>2416</td>\n",
       "    </tr>\n",
       "    <tr>\n",
       "      <th>1</th>\n",
       "      <td>423</td>\n",
       "      <td>2146</td>\n",
       "    </tr>\n",
       "    <tr>\n",
       "      <th>2</th>\n",
       "      <td>813</td>\n",
       "      <td>2136</td>\n",
       "    </tr>\n",
       "    <tr>\n",
       "      <th>3</th>\n",
       "      <td>421</td>\n",
       "      <td>1908</td>\n",
       "    </tr>\n",
       "    <tr>\n",
       "      <th>4</th>\n",
       "      <td>823</td>\n",
       "      <td>1776</td>\n",
       "    </tr>\n",
       "    <tr>\n",
       "      <th>5</th>\n",
       "      <td>414</td>\n",
       "      <td>1728</td>\n",
       "    </tr>\n",
       "    <tr>\n",
       "      <th>6</th>\n",
       "      <td>523</td>\n",
       "      <td>1667</td>\n",
       "    </tr>\n",
       "    <tr>\n",
       "      <th>7</th>\n",
       "      <td>631</td>\n",
       "      <td>1636</td>\n",
       "    </tr>\n",
       "    <tr>\n",
       "      <th>8</th>\n",
       "      <td>624</td>\n",
       "      <td>1635</td>\n",
       "    </tr>\n",
       "    <tr>\n",
       "      <th>9</th>\n",
       "      <td>432</td>\n",
       "      <td>1597</td>\n",
       "    </tr>\n",
       "  </tbody>\n",
       "</table>\n",
       "</div>"
      ],
      "text/plain": [
       "   index  beat\n",
       "0    511  2416\n",
       "1    423  2146\n",
       "2    813  2136\n",
       "3    421  1908\n",
       "4    823  1776\n",
       "5    414  1728\n",
       "6    523  1667\n",
       "7    631  1636\n",
       "8    624  1635\n",
       "9    432  1597"
      ]
     },
     "execution_count": 527,
     "metadata": {},
     "output_type": "execute_result"
    }
   ],
   "source": [
    "df_criminalDamage_beat = df_criminalDamage['beat'].value_counts().head(10).reset_index()\n",
    "df_criminalDamage_beat"
   ]
  },
  {
   "cell_type": "code",
   "execution_count": 528,
   "id": "b84d1274",
   "metadata": {},
   "outputs": [],
   "source": [
    "df_criminalDamage_beat['index'] = df_criminalDamage_beat['index'].astype('str')"
   ]
  },
  {
   "cell_type": "code",
   "execution_count": 529,
   "id": "3560d6d1",
   "metadata": {},
   "outputs": [
    {
     "data": {
      "image/png": "[encoded data removed]",
      "text/plain": [
       "<Figure size 576x360 with 1 Axes>"
      ]
     },
     "metadata": {},
     "output_type": "display_data"
    }
   ],
   "source": [
    "plt.figure(figsize = (8,5))\n",
    "plt.bar(data = df_criminalDamage_beat, x = 'index', height = 'beat', color = 'tab:blue')\n",
    "plt.show()"
   ]
  },
  {
   "cell_type": "markdown",
   "id": "5a1e7aeb",
   "metadata": {},
   "source": [
    "- 커뮤니티로 보면 25구역이 가장 많지만, 지구대 담당 비율로 보면 49구역(Roseland)이 1위\n",
    "- 46, 48구역 닿아있는 지구대 423이 2위이다. 심지어 건수로 봤을 때 순위권에 들어가지도 않음\n",
    "- 56, 62, 64, 65 한가운데 지키는 지구대 813이 3위\n",
    "    > 커뮤니티 건수랑 관할 지구대 담당 건수가 차이남\n",
    "    \n",
    "- 커뮤니티 1순위인 25구역은 약 12개의 관할 지구대로 나뉘어서 담당하기 때문에 지구대 기준 상대적으로 건수가 적게 보임"
   ]
  },
  {
   "cell_type": "markdown",
   "id": "d1f5f0bb",
   "metadata": {},
   "source": [
    "## 체포 여부 (arrest)"
   ]
  },
  {
   "cell_type": "code",
   "execution_count": 433,
   "id": "ea8441a5",
   "metadata": {},
   "outputs": [
    {
     "data": {
      "text/plain": [
       "False    94.724642\n",
       "True      5.275358\n",
       "Name: arrest, dtype: float64"
      ]
     },
     "execution_count": 433,
     "metadata": {},
     "output_type": "execute_result"
    }
   ],
   "source": [
    "df_criminalDamage['arrest'].value_counts().head(10) / 254106 *100"
   ]
  },
  {
   "cell_type": "code",
   "execution_count": 207,
   "id": "86442fe5",
   "metadata": {},
   "outputs": [
    {
     "data": {
      "image/png": "[encoded data removed]",
      "text/plain": [
       "<Figure size 432x288 with 1 Axes>"
      ]
     },
     "metadata": {},
     "output_type": "display_data"
    }
   ],
   "source": [
    "sns.countplot(data = df_criminalDamage, x = 'year', hue = 'arrest')\n",
    "plt.show()"
   ]
  },
  {
   "cell_type": "code",
   "execution_count": 434,
   "id": "ffde1113",
   "metadata": {},
   "outputs": [
    {
     "data": {
      "text/html": [
       "<div>\n",
       "<style scoped>\n",
       "    .dataframe tbody tr th:only-of-type {\n",
       "        vertical-align: middle;\n",
       "    }\n",
       "\n",
       "    .dataframe tbody tr th {\n",
       "        vertical-align: top;\n",
       "    }\n",
       "\n",
       "    .dataframe thead th {\n",
       "        text-align: right;\n",
       "    }\n",
       "</style>\n",
       "<table border=\"1\" class=\"dataframe\">\n",
       "  <thead>\n",
       "    <tr style=\"text-align: right;\">\n",
       "      <th></th>\n",
       "      <th>year</th>\n",
       "      <th>arrest</th>\n",
       "      <th>count</th>\n",
       "    </tr>\n",
       "  </thead>\n",
       "  <tbody>\n",
       "    <tr>\n",
       "      <th>0</th>\n",
       "      <td>2012</td>\n",
       "      <td>False</td>\n",
       "      <td>30459</td>\n",
       "    </tr>\n",
       "    <tr>\n",
       "      <th>1</th>\n",
       "      <td>2012</td>\n",
       "      <td>True</td>\n",
       "      <td>2023</td>\n",
       "    </tr>\n",
       "    <tr>\n",
       "      <th>2</th>\n",
       "      <td>2013</td>\n",
       "      <td>False</td>\n",
       "      <td>26002</td>\n",
       "    </tr>\n",
       "    <tr>\n",
       "      <th>3</th>\n",
       "      <td>2013</td>\n",
       "      <td>True</td>\n",
       "      <td>1664</td>\n",
       "    </tr>\n",
       "    <tr>\n",
       "      <th>4</th>\n",
       "      <td>2014</td>\n",
       "      <td>False</td>\n",
       "      <td>23311</td>\n",
       "    </tr>\n",
       "    <tr>\n",
       "      <th>5</th>\n",
       "      <td>2014</td>\n",
       "      <td>True</td>\n",
       "      <td>1637</td>\n",
       "    </tr>\n",
       "    <tr>\n",
       "      <th>6</th>\n",
       "      <td>2015</td>\n",
       "      <td>False</td>\n",
       "      <td>24241</td>\n",
       "    </tr>\n",
       "    <tr>\n",
       "      <th>7</th>\n",
       "      <td>2015</td>\n",
       "      <td>True</td>\n",
       "      <td>1398</td>\n",
       "    </tr>\n",
       "    <tr>\n",
       "      <th>8</th>\n",
       "      <td>2016</td>\n",
       "      <td>False</td>\n",
       "      <td>26407</td>\n",
       "    </tr>\n",
       "    <tr>\n",
       "      <th>9</th>\n",
       "      <td>2016</td>\n",
       "      <td>True</td>\n",
       "      <td>1266</td>\n",
       "    </tr>\n",
       "    <tr>\n",
       "      <th>10</th>\n",
       "      <td>2017</td>\n",
       "      <td>False</td>\n",
       "      <td>24385</td>\n",
       "    </tr>\n",
       "    <tr>\n",
       "      <th>11</th>\n",
       "      <td>2017</td>\n",
       "      <td>True</td>\n",
       "      <td>1332</td>\n",
       "    </tr>\n",
       "    <tr>\n",
       "      <th>12</th>\n",
       "      <td>2018</td>\n",
       "      <td>False</td>\n",
       "      <td>23272</td>\n",
       "    </tr>\n",
       "    <tr>\n",
       "      <th>13</th>\n",
       "      <td>2018</td>\n",
       "      <td>True</td>\n",
       "      <td>1288</td>\n",
       "    </tr>\n",
       "    <tr>\n",
       "      <th>14</th>\n",
       "      <td>2019</td>\n",
       "      <td>False</td>\n",
       "      <td>22173</td>\n",
       "    </tr>\n",
       "    <tr>\n",
       "      <th>15</th>\n",
       "      <td>2019</td>\n",
       "      <td>True</td>\n",
       "      <td>1307</td>\n",
       "    </tr>\n",
       "    <tr>\n",
       "      <th>16</th>\n",
       "      <td>2020</td>\n",
       "      <td>False</td>\n",
       "      <td>20311</td>\n",
       "    </tr>\n",
       "    <tr>\n",
       "      <th>17</th>\n",
       "      <td>2020</td>\n",
       "      <td>True</td>\n",
       "      <td>880</td>\n",
       "    </tr>\n",
       "    <tr>\n",
       "      <th>18</th>\n",
       "      <td>2021</td>\n",
       "      <td>False</td>\n",
       "      <td>20140</td>\n",
       "    </tr>\n",
       "    <tr>\n",
       "      <th>19</th>\n",
       "      <td>2021</td>\n",
       "      <td>True</td>\n",
       "      <td>610</td>\n",
       "    </tr>\n",
       "  </tbody>\n",
       "</table>\n",
       "</div>"
      ],
      "text/plain": [
       "    year  arrest  count\n",
       "0   2012   False  30459\n",
       "1   2012    True   2023\n",
       "2   2013   False  26002\n",
       "3   2013    True   1664\n",
       "4   2014   False  23311\n",
       "5   2014    True   1637\n",
       "6   2015   False  24241\n",
       "7   2015    True   1398\n",
       "8   2016   False  26407\n",
       "9   2016    True   1266\n",
       "10  2017   False  24385\n",
       "11  2017    True   1332\n",
       "12  2018   False  23272\n",
       "13  2018    True   1288\n",
       "14  2019   False  22173\n",
       "15  2019    True   1307\n",
       "16  2020   False  20311\n",
       "17  2020    True    880\n",
       "18  2021   False  20140\n",
       "19  2021    True    610"
      ]
     },
     "execution_count": 434,
     "metadata": {},
     "output_type": "execute_result"
    }
   ],
   "source": [
    "df_criminalDamage_arrest = pd.DataFrame(df_criminalDamage.groupby('year')['arrest'].value_counts())\n",
    "df_criminalDamage_arrest.columns = ['count']\n",
    "df_criminalDamage_arrest = df_criminalDamage_arrest.reset_index()\n",
    "df_criminalDamage_arrest"
   ]
  },
  {
   "cell_type": "code",
   "execution_count": 435,
   "id": "3bbe4c37",
   "metadata": {},
   "outputs": [
    {
     "name": "stdout",
     "output_type": "stream",
     "text": [
      "<class 'pandas.core.frame.DataFrame'>\n",
      "RangeIndex: 20 entries, 0 to 19\n",
      "Data columns (total 3 columns):\n",
      " #   Column  Non-Null Count  Dtype\n",
      "---  ------  --------------  -----\n",
      " 0   year    20 non-null     int32\n",
      " 1   arrest  20 non-null     bool \n",
      " 2   count   20 non-null     int64\n",
      "dtypes: bool(1), int32(1), int64(1)\n",
      "memory usage: 388.0 bytes\n"
     ]
    }
   ],
   "source": [
    "df_criminalDamage_arrest['year'] = df_criminalDamage_arrest['year'].astype('int32')\n",
    "df_criminalDamage_arrest.info()"
   ]
  },
  {
   "cell_type": "code",
   "execution_count": 436,
   "id": "aa0b8ffa",
   "metadata": {},
   "outputs": [
    {
     "data": {
      "text/html": [
       "<div>\n",
       "<style scoped>\n",
       "    .dataframe tbody tr th:only-of-type {\n",
       "        vertical-align: middle;\n",
       "    }\n",
       "\n",
       "    .dataframe tbody tr th {\n",
       "        vertical-align: top;\n",
       "    }\n",
       "\n",
       "    .dataframe thead th {\n",
       "        text-align: right;\n",
       "    }\n",
       "</style>\n",
       "<table border=\"1\" class=\"dataframe\">\n",
       "  <thead>\n",
       "    <tr style=\"text-align: right;\">\n",
       "      <th></th>\n",
       "      <th>year</th>\n",
       "      <th>ratio</th>\n",
       "    </tr>\n",
       "  </thead>\n",
       "  <tbody>\n",
       "  </tbody>\n",
       "</table>\n",
       "</div>"
      ],
      "text/plain": [
       "Empty DataFrame\n",
       "Columns: [year, ratio]\n",
       "Index: []"
      ]
     },
     "execution_count": 436,
     "metadata": {},
     "output_type": "execute_result"
    }
   ],
   "source": [
    "criminalDamage_arrest_ratio = pd.DataFrame(columns = ['year', 'ratio'])\n",
    "criminalDamage_arrest_ratio"
   ]
  },
  {
   "cell_type": "code",
   "execution_count": 437,
   "id": "95ec2dbb",
   "metadata": {
    "scrolled": true
   },
   "outputs": [
    {
     "data": {
      "text/html": [
       "<div>\n",
       "<style scoped>\n",
       "    .dataframe tbody tr th:only-of-type {\n",
       "        vertical-align: middle;\n",
       "    }\n",
       "\n",
       "    .dataframe tbody tr th {\n",
       "        vertical-align: top;\n",
       "    }\n",
       "\n",
       "    .dataframe thead th {\n",
       "        text-align: right;\n",
       "    }\n",
       "</style>\n",
       "<table border=\"1\" class=\"dataframe\">\n",
       "  <thead>\n",
       "    <tr style=\"text-align: right;\">\n",
       "      <th></th>\n",
       "      <th>year</th>\n",
       "      <th>ratio</th>\n",
       "    </tr>\n",
       "  </thead>\n",
       "  <tbody>\n",
       "    <tr>\n",
       "      <th>0</th>\n",
       "      <td>2012.0</td>\n",
       "      <td>6.23</td>\n",
       "    </tr>\n",
       "    <tr>\n",
       "      <th>1</th>\n",
       "      <td>2013.0</td>\n",
       "      <td>6.01</td>\n",
       "    </tr>\n",
       "    <tr>\n",
       "      <th>2</th>\n",
       "      <td>2014.0</td>\n",
       "      <td>6.56</td>\n",
       "    </tr>\n",
       "    <tr>\n",
       "      <th>3</th>\n",
       "      <td>2015.0</td>\n",
       "      <td>5.45</td>\n",
       "    </tr>\n",
       "    <tr>\n",
       "      <th>4</th>\n",
       "      <td>2016.0</td>\n",
       "      <td>4.57</td>\n",
       "    </tr>\n",
       "    <tr>\n",
       "      <th>5</th>\n",
       "      <td>2017.0</td>\n",
       "      <td>5.18</td>\n",
       "    </tr>\n",
       "    <tr>\n",
       "      <th>6</th>\n",
       "      <td>2018.0</td>\n",
       "      <td>5.24</td>\n",
       "    </tr>\n",
       "    <tr>\n",
       "      <th>7</th>\n",
       "      <td>2019.0</td>\n",
       "      <td>5.57</td>\n",
       "    </tr>\n",
       "    <tr>\n",
       "      <th>8</th>\n",
       "      <td>2020.0</td>\n",
       "      <td>4.15</td>\n",
       "    </tr>\n",
       "    <tr>\n",
       "      <th>9</th>\n",
       "      <td>2021.0</td>\n",
       "      <td>2.94</td>\n",
       "    </tr>\n",
       "  </tbody>\n",
       "</table>\n",
       "</div>"
      ],
      "text/plain": [
       "     year  ratio\n",
       "0  2012.0   6.23\n",
       "1  2013.0   6.01\n",
       "2  2014.0   6.56\n",
       "3  2015.0   5.45\n",
       "4  2016.0   4.57\n",
       "5  2017.0   5.18\n",
       "6  2018.0   5.24\n",
       "7  2019.0   5.57\n",
       "8  2020.0   4.15\n",
       "9  2021.0   2.94"
      ]
     },
     "execution_count": 437,
     "metadata": {},
     "output_type": "execute_result"
    }
   ],
   "source": [
    "arrest_ratio(2012, df_criminalDamage_arrest, criminalDamage_arrest_ratio)\n",
    "criminalDamage_arrest_ratio"
   ]
  },
  {
   "cell_type": "code",
   "execution_count": 439,
   "id": "95b14fe9",
   "metadata": {},
   "outputs": [
    {
     "data": {
      "image/png": "[encoded data removed]",
      "text/plain": [
       "<Figure size 432x288 with 1 Axes>"
      ]
     },
     "metadata": {},
     "output_type": "display_data"
    }
   ],
   "source": [
    "sns.lineplot(data = criminalDamage_arrest_ratio, x = 'year', y = 'ratio', color = 'tab:blue')\n",
    "plt.ylim(0,10)\n",
    "plt.show()"
   ]
  },
  {
   "cell_type": "markdown",
   "id": "3f053dc6",
   "metadata": {},
   "source": [
    "- 체포율은 약 6% 안팎이다.\n",
    "- 다른 범죄에 비해 체포율이 낮고, 최근으로 갈수록 체포율이 낮아진다."
   ]
  },
  {
   "cell_type": "markdown",
   "id": "003f7cb1",
   "metadata": {},
   "source": [
    "# BATTERY\n",
    "폭행"
   ]
  },
  {
   "cell_type": "code",
   "execution_count": 444,
   "id": "5557d071",
   "metadata": {},
   "outputs": [
    {
     "name": "stdout",
     "output_type": "stream",
     "text": [
      "<class 'pandas.core.frame.DataFrame'>\n",
      "Int64Index: 247581 entries, 13 to 2670252\n",
      "Data columns (total 11 columns):\n",
      " #   Column                Non-Null Count   Dtype              \n",
      "---  ------                --------------   -----              \n",
      " 0   unique_key            247581 non-null  int64              \n",
      " 1   date                  247581 non-null  datetime64[ns, UTC]\n",
      " 2   primary_type          247581 non-null  object             \n",
      " 3   location_description  247581 non-null  object             \n",
      " 4   arrest                247581 non-null  bool               \n",
      " 5   domestic              247581 non-null  bool               \n",
      " 6   beat                  247581 non-null  int64              \n",
      " 7   community_area        247581 non-null  float64            \n",
      " 8   month                 247581 non-null  object             \n",
      " 9   year                  247581 non-null  object             \n",
      " 10  only_month            247581 non-null  object             \n",
      "dtypes: bool(2), datetime64[ns, UTC](1), float64(1), int64(2), object(5)\n",
      "memory usage: 27.4+ MB\n"
     ]
    }
   ],
   "source": [
    "df_battery.info()"
   ]
  },
  {
   "cell_type": "markdown",
   "id": "e28c94a6",
   "metadata": {},
   "source": [
    "## 기간별 발생 수"
   ]
  },
  {
   "cell_type": "code",
   "execution_count": 440,
   "id": "7b1584ba",
   "metadata": {},
   "outputs": [
    {
     "data": {
      "text/plain": [
       "2012    30298\n",
       "2013    27419\n",
       "2016    25872\n",
       "2019    25650\n",
       "2018    25447\n",
       "2014    25439\n",
       "2017    25384\n",
       "2015    24633\n",
       "2020    19963\n",
       "2021    17476\n",
       "Name: year, dtype: int64"
      ]
     },
     "execution_count": 440,
     "metadata": {},
     "output_type": "execute_result"
    }
   ],
   "source": [
    "df_battery['year'].value_counts()"
   ]
  },
  {
   "cell_type": "code",
   "execution_count": 441,
   "id": "3a82d23e",
   "metadata": {},
   "outputs": [
    {
     "data": {
      "text/html": [
       "<div>\n",
       "<style scoped>\n",
       "    .dataframe tbody tr th:only-of-type {\n",
       "        vertical-align: middle;\n",
       "    }\n",
       "\n",
       "    .dataframe tbody tr th {\n",
       "        vertical-align: top;\n",
       "    }\n",
       "\n",
       "    .dataframe thead th {\n",
       "        text-align: right;\n",
       "    }\n",
       "</style>\n",
       "<table border=\"1\" class=\"dataframe\">\n",
       "  <thead>\n",
       "    <tr style=\"text-align: right;\">\n",
       "      <th></th>\n",
       "      <th>index</th>\n",
       "      <th>year</th>\n",
       "    </tr>\n",
       "  </thead>\n",
       "  <tbody>\n",
       "    <tr>\n",
       "      <th>0</th>\n",
       "      <td>2012</td>\n",
       "      <td>30298</td>\n",
       "    </tr>\n",
       "    <tr>\n",
       "      <th>1</th>\n",
       "      <td>2013</td>\n",
       "      <td>27419</td>\n",
       "    </tr>\n",
       "    <tr>\n",
       "      <th>5</th>\n",
       "      <td>2014</td>\n",
       "      <td>25439</td>\n",
       "    </tr>\n",
       "    <tr>\n",
       "      <th>7</th>\n",
       "      <td>2015</td>\n",
       "      <td>24633</td>\n",
       "    </tr>\n",
       "    <tr>\n",
       "      <th>2</th>\n",
       "      <td>2016</td>\n",
       "      <td>25872</td>\n",
       "    </tr>\n",
       "    <tr>\n",
       "      <th>6</th>\n",
       "      <td>2017</td>\n",
       "      <td>25384</td>\n",
       "    </tr>\n",
       "    <tr>\n",
       "      <th>4</th>\n",
       "      <td>2018</td>\n",
       "      <td>25447</td>\n",
       "    </tr>\n",
       "    <tr>\n",
       "      <th>3</th>\n",
       "      <td>2019</td>\n",
       "      <td>25650</td>\n",
       "    </tr>\n",
       "    <tr>\n",
       "      <th>8</th>\n",
       "      <td>2020</td>\n",
       "      <td>19963</td>\n",
       "    </tr>\n",
       "    <tr>\n",
       "      <th>9</th>\n",
       "      <td>2021</td>\n",
       "      <td>17476</td>\n",
       "    </tr>\n",
       "  </tbody>\n",
       "</table>\n",
       "</div>"
      ],
      "text/plain": [
       "  index   year\n",
       "0  2012  30298\n",
       "1  2013  27419\n",
       "5  2014  25439\n",
       "7  2015  24633\n",
       "2  2016  25872\n",
       "6  2017  25384\n",
       "4  2018  25447\n",
       "3  2019  25650\n",
       "8  2020  19963\n",
       "9  2021  17476"
      ]
     },
     "execution_count": 441,
     "metadata": {},
     "output_type": "execute_result"
    }
   ],
   "source": [
    "df_battery['year'].value_counts().reset_index().sort_values(by = 'index')"
   ]
  },
  {
   "cell_type": "code",
   "execution_count": 442,
   "id": "0b139934",
   "metadata": {},
   "outputs": [
    {
     "data": {
      "text/plain": [
       "2012    100.000000\n",
       "2013     90.497723\n",
       "2016     85.391775\n",
       "2019     84.659053\n",
       "2018     83.989042\n",
       "2014     83.962638\n",
       "2017     83.781108\n",
       "2015     81.302396\n",
       "2020     65.888838\n",
       "2021     57.680375\n",
       "Name: year, dtype: float64"
      ]
     },
     "execution_count": 442,
     "metadata": {},
     "output_type": "execute_result"
    }
   ],
   "source": [
    "df_battery['year'].value_counts() / 30298 *100"
   ]
  },
  {
   "cell_type": "code",
   "execution_count": 443,
   "id": "73fe04fa",
   "metadata": {},
   "outputs": [
    {
     "data": {
      "image/png": "[encoded data removed]",
      "text/plain": [
       "<Figure size 432x288 with 1 Axes>"
      ]
     },
     "metadata": {},
     "output_type": "display_data"
    }
   ],
   "source": [
    "sns.lineplot(data = df_battery['year'].value_counts().reset_index().sort_values(by = 'index'), x = 'index', y = 'year', color = 'tab:blue')\n",
    "plt.ylim(bottom = 0)\n",
    "plt.show()"
   ]
  },
  {
   "cell_type": "markdown",
   "id": "8b23cd36",
   "metadata": {},
   "source": [
    "- 우하향\n",
    "- 2019~2020 급감\n",
    "- 2021년 발생 건수는 2012년 발생 건수의 약 57%"
   ]
  },
  {
   "cell_type": "markdown",
   "id": "22c23312",
   "metadata": {},
   "source": [
    "## 가장 많이 일어난 장소(location_description)"
   ]
  },
  {
   "cell_type": "code",
   "execution_count": 209,
   "id": "a8d6db2a",
   "metadata": {},
   "outputs": [
    {
     "data": {
      "text/plain": [
       "SIDEWALK                    52453\n",
       "STREET                      44292\n",
       "APARTMENT                   26843\n",
       "RESIDENCE                   21702\n",
       "SCHOOL, PUBLIC, BUILDING    12086\n",
       "ALLEY                        6986\n",
       "OTHER                        6874\n",
       "RESIDENCE PORCH/HALLWAY      5542\n",
       "RESTAURANT                   5293\n",
       "BAR OR TAVERN                4718\n",
       "Name: location_description, dtype: int64"
      ]
     },
     "execution_count": 209,
     "metadata": {},
     "output_type": "execute_result"
    }
   ],
   "source": [
    "df_battery['location_description'].value_counts().head(10)"
   ]
  },
  {
   "cell_type": "code",
   "execution_count": 445,
   "id": "2716f281",
   "metadata": {},
   "outputs": [
    {
     "data": {
      "text/plain": [
       "SIDEWALK                    21.186198\n",
       "STREET                      17.889903\n",
       "APARTMENT                   10.842108\n",
       "RESIDENCE                    8.765616\n",
       "SCHOOL, PUBLIC, BUILDING     4.881635\n",
       "ALLEY                        2.821703\n",
       "OTHER                        2.776465\n",
       "RESIDENCE PORCH/HALLWAY      2.238459\n",
       "RESTAURANT                   2.137886\n",
       "BAR OR TAVERN                1.905639\n",
       "Name: location_description, dtype: float64"
      ]
     },
     "execution_count": 445,
     "metadata": {},
     "output_type": "execute_result"
    }
   ],
   "source": [
    "df_battery['location_description'].value_counts().head(10) / 247581 *100"
   ]
  },
  {
   "cell_type": "code",
   "execution_count": 530,
   "id": "7822c7fd",
   "metadata": {},
   "outputs": [
    {
     "data": {
      "image/png": "[encoded data removed]",
      "text/plain": [
       "<Figure size 576x360 with 1 Axes>"
      ]
     },
     "metadata": {},
     "output_type": "display_data"
    }
   ],
   "source": [
    "plt.figure(figsize = (8,5))\n",
    "plt.bar(data = df_battery['location_description'].value_counts().head(10).reset_index(), x = 'index', height = 'location_description', color = 'tab:blue')\n",
    "plt.xticks(rotation = 45, ha = 'right')\n",
    "plt.show()"
   ]
  },
  {
   "cell_type": "markdown",
   "id": "ccc14828",
   "metadata": {},
   "source": [
    "- 폭행은 인도(사람이 걸어다니는 길)에서 가장 많이 일어난다. 전체의 약 21%\n",
    "- 인도, 거리, 거주지(아파트 및 레지던스) 중심으로 50% 이상 일어났다.\n",
    "- 특이하게 '학교'/공공장소/건물 이 5위.. 레스토랑, 술집도 10위 안에 올라왔다."
   ]
  },
  {
   "cell_type": "markdown",
   "id": "25df3d2f",
   "metadata": {},
   "source": [
    "## 가장 많이 일어난 구역 (community_area)"
   ]
  },
  {
   "cell_type": "code",
   "execution_count": 210,
   "id": "92303b5c",
   "metadata": {},
   "outputs": [
    {
     "data": {
      "text/plain": [
       "25.0    15465\n",
       "8.0      9848\n",
       "29.0     8896\n",
       "43.0     8346\n",
       "23.0     7881\n",
       "28.0     7618\n",
       "67.0     7448\n",
       "68.0     7092\n",
       "69.0     6989\n",
       "71.0     6933\n",
       "Name: community_area, dtype: int64"
      ]
     },
     "execution_count": 210,
     "metadata": {},
     "output_type": "execute_result"
    }
   ],
   "source": [
    "df_battery['community_area'].value_counts().head(10)"
   ]
  },
  {
   "cell_type": "code",
   "execution_count": 531,
   "id": "af7026ac",
   "metadata": {},
   "outputs": [
    {
     "data": {
      "text/html": [
       "<div>\n",
       "<style scoped>\n",
       "    .dataframe tbody tr th:only-of-type {\n",
       "        vertical-align: middle;\n",
       "    }\n",
       "\n",
       "    .dataframe tbody tr th {\n",
       "        vertical-align: top;\n",
       "    }\n",
       "\n",
       "    .dataframe thead th {\n",
       "        text-align: right;\n",
       "    }\n",
       "</style>\n",
       "<table border=\"1\" class=\"dataframe\">\n",
       "  <thead>\n",
       "    <tr style=\"text-align: right;\">\n",
       "      <th></th>\n",
       "      <th>index</th>\n",
       "      <th>community_area</th>\n",
       "    </tr>\n",
       "  </thead>\n",
       "  <tbody>\n",
       "    <tr>\n",
       "      <th>0</th>\n",
       "      <td>25.0</td>\n",
       "      <td>15465</td>\n",
       "    </tr>\n",
       "    <tr>\n",
       "      <th>1</th>\n",
       "      <td>8.0</td>\n",
       "      <td>9848</td>\n",
       "    </tr>\n",
       "    <tr>\n",
       "      <th>2</th>\n",
       "      <td>29.0</td>\n",
       "      <td>8896</td>\n",
       "    </tr>\n",
       "    <tr>\n",
       "      <th>3</th>\n",
       "      <td>43.0</td>\n",
       "      <td>8346</td>\n",
       "    </tr>\n",
       "    <tr>\n",
       "      <th>4</th>\n",
       "      <td>23.0</td>\n",
       "      <td>7881</td>\n",
       "    </tr>\n",
       "    <tr>\n",
       "      <th>5</th>\n",
       "      <td>28.0</td>\n",
       "      <td>7618</td>\n",
       "    </tr>\n",
       "    <tr>\n",
       "      <th>6</th>\n",
       "      <td>67.0</td>\n",
       "      <td>7448</td>\n",
       "    </tr>\n",
       "    <tr>\n",
       "      <th>7</th>\n",
       "      <td>68.0</td>\n",
       "      <td>7092</td>\n",
       "    </tr>\n",
       "    <tr>\n",
       "      <th>8</th>\n",
       "      <td>69.0</td>\n",
       "      <td>6989</td>\n",
       "    </tr>\n",
       "    <tr>\n",
       "      <th>9</th>\n",
       "      <td>71.0</td>\n",
       "      <td>6933</td>\n",
       "    </tr>\n",
       "  </tbody>\n",
       "</table>\n",
       "</div>"
      ],
      "text/plain": [
       "   index  community_area\n",
       "0   25.0           15465\n",
       "1    8.0            9848\n",
       "2   29.0            8896\n",
       "3   43.0            8346\n",
       "4   23.0            7881\n",
       "5   28.0            7618\n",
       "6   67.0            7448\n",
       "7   68.0            7092\n",
       "8   69.0            6989\n",
       "9   71.0            6933"
      ]
     },
     "execution_count": 531,
     "metadata": {},
     "output_type": "execute_result"
    }
   ],
   "source": [
    "df_battery_commu = df_battery['community_area'].value_counts().head(10).reset_index()\n",
    "df_battery_commu"
   ]
  },
  {
   "cell_type": "code",
   "execution_count": 532,
   "id": "476bf214",
   "metadata": {},
   "outputs": [],
   "source": [
    "df_battery_commu['index'] = df_battery_commu['index'].astype('int32')\n",
    "df_battery_commu['index'] = df_battery_commu['index'].astype('str')"
   ]
  },
  {
   "cell_type": "code",
   "execution_count": 533,
   "id": "091c6e21",
   "metadata": {},
   "outputs": [
    {
     "data": {
      "image/png": "[encoded data removed]",
      "text/plain": [
       "<Figure size 576x360 with 1 Axes>"
      ]
     },
     "metadata": {},
     "output_type": "display_data"
    }
   ],
   "source": [
    "plt.figure(figsize = (8,5))\n",
    "plt.bar(data = df_battery_commu, x = 'index', height = 'community_area', color = 'tab:blue')\n",
    "plt.show()"
   ]
  },
  {
   "cell_type": "markdown",
   "id": "2b33095e",
   "metadata": {},
   "source": [
    "## 관할 지구대"
   ]
  },
  {
   "cell_type": "code",
   "execution_count": 446,
   "id": "bc843e6a",
   "metadata": {},
   "outputs": [
    {
     "data": {
      "text/plain": [
       "1831    2404\n",
       "421     2243\n",
       "1533    2113\n",
       "624     2091\n",
       "423     1992\n",
       "1924    1921\n",
       "511     1853\n",
       "533     1792\n",
       "1112    1790\n",
       "1834    1770\n",
       "Name: beat, dtype: int64"
      ]
     },
     "execution_count": 446,
     "metadata": {},
     "output_type": "execute_result"
    }
   ],
   "source": [
    "df_battery['beat'].value_counts().head(10)"
   ]
  },
  {
   "cell_type": "code",
   "execution_count": 534,
   "id": "13f18b6f",
   "metadata": {},
   "outputs": [
    {
     "data": {
      "text/html": [
       "<div>\n",
       "<style scoped>\n",
       "    .dataframe tbody tr th:only-of-type {\n",
       "        vertical-align: middle;\n",
       "    }\n",
       "\n",
       "    .dataframe tbody tr th {\n",
       "        vertical-align: top;\n",
       "    }\n",
       "\n",
       "    .dataframe thead th {\n",
       "        text-align: right;\n",
       "    }\n",
       "</style>\n",
       "<table border=\"1\" class=\"dataframe\">\n",
       "  <thead>\n",
       "    <tr style=\"text-align: right;\">\n",
       "      <th></th>\n",
       "      <th>index</th>\n",
       "      <th>beat</th>\n",
       "    </tr>\n",
       "  </thead>\n",
       "  <tbody>\n",
       "    <tr>\n",
       "      <th>0</th>\n",
       "      <td>1831</td>\n",
       "      <td>2404</td>\n",
       "    </tr>\n",
       "    <tr>\n",
       "      <th>1</th>\n",
       "      <td>421</td>\n",
       "      <td>2243</td>\n",
       "    </tr>\n",
       "    <tr>\n",
       "      <th>2</th>\n",
       "      <td>1533</td>\n",
       "      <td>2113</td>\n",
       "    </tr>\n",
       "    <tr>\n",
       "      <th>3</th>\n",
       "      <td>624</td>\n",
       "      <td>2091</td>\n",
       "    </tr>\n",
       "    <tr>\n",
       "      <th>4</th>\n",
       "      <td>423</td>\n",
       "      <td>1992</td>\n",
       "    </tr>\n",
       "    <tr>\n",
       "      <th>5</th>\n",
       "      <td>1924</td>\n",
       "      <td>1921</td>\n",
       "    </tr>\n",
       "    <tr>\n",
       "      <th>6</th>\n",
       "      <td>511</td>\n",
       "      <td>1853</td>\n",
       "    </tr>\n",
       "    <tr>\n",
       "      <th>7</th>\n",
       "      <td>533</td>\n",
       "      <td>1792</td>\n",
       "    </tr>\n",
       "    <tr>\n",
       "      <th>8</th>\n",
       "      <td>1112</td>\n",
       "      <td>1790</td>\n",
       "    </tr>\n",
       "    <tr>\n",
       "      <th>9</th>\n",
       "      <td>1834</td>\n",
       "      <td>1770</td>\n",
       "    </tr>\n",
       "  </tbody>\n",
       "</table>\n",
       "</div>"
      ],
      "text/plain": [
       "   index  beat\n",
       "0   1831  2404\n",
       "1    421  2243\n",
       "2   1533  2113\n",
       "3    624  2091\n",
       "4    423  1992\n",
       "5   1924  1921\n",
       "6    511  1853\n",
       "7    533  1792\n",
       "8   1112  1790\n",
       "9   1834  1770"
      ]
     },
     "execution_count": 534,
     "metadata": {},
     "output_type": "execute_result"
    }
   ],
   "source": [
    "df_battery_beat = df_battery['beat'].value_counts().head(10).reset_index()\n",
    "df_battery_beat"
   ]
  },
  {
   "cell_type": "code",
   "execution_count": 535,
   "id": "c8432b3d",
   "metadata": {},
   "outputs": [],
   "source": [
    "df_battery_beat['index'] = df_battery_beat['index'].astype('str')"
   ]
  },
  {
   "cell_type": "code",
   "execution_count": 536,
   "id": "619e15b5",
   "metadata": {},
   "outputs": [
    {
     "data": {
      "image/png": "[encoded data removed]",
      "text/plain": [
       "<Figure size 576x360 with 1 Axes>"
      ]
     },
     "metadata": {},
     "output_type": "display_data"
    }
   ],
   "source": [
    "plt.figure(figsize = (8,5))\n",
    "plt.bar(data = df_battery_beat, x = 'index', height = 'beat', color = 'tab:blue')\n",
    "plt.show()"
   ]
  },
  {
   "cell_type": "markdown",
   "id": "b83c8b48",
   "metadata": {},
   "source": [
    "- 지구대는 8구역 맡는 1831이 1등\n",
    "- 43구역 레인보우비치 주변 담당 421번 지구대 2등 \n",
    "- 25구역 가장 우하단 담당 1533번 지구대 3등\n",
    "- 46, 48구역 닿아있는 지구대 423 이번에도 순위권이다. \n",
    "\n",
    "    \n",
    "- 커뮤니티 1순위인 25구역은 약 12개의 관할 지구대로 나뉘어서 담당하기 때문에 지구대 기준 상대적으로 건수가 적게 보임. 그 와중에 1533번 담당 구역은..\n",
    "\n",
    "- 지금까지 범죄가 일어나는 지역이 비슷비슷하다."
   ]
  },
  {
   "cell_type": "markdown",
   "id": "eba2f8fb",
   "metadata": {},
   "source": [
    "## 체포 여부 (arrest)"
   ]
  },
  {
   "cell_type": "code",
   "execution_count": 447,
   "id": "1b9cdb68",
   "metadata": {},
   "outputs": [
    {
     "data": {
      "text/plain": [
       "False    78.687783\n",
       "True     21.312217\n",
       "Name: arrest, dtype: float64"
      ]
     },
     "execution_count": 447,
     "metadata": {},
     "output_type": "execute_result"
    }
   ],
   "source": [
    "df_battery['arrest'].value_counts().head(10) / 247581*100"
   ]
  },
  {
   "cell_type": "code",
   "execution_count": 212,
   "id": "f57a54cf",
   "metadata": {},
   "outputs": [
    {
     "data": {
      "image/png": "[encoded data removed]",
      "text/plain": [
       "<Figure size 432x288 with 1 Axes>"
      ]
     },
     "metadata": {},
     "output_type": "display_data"
    }
   ],
   "source": [
    "sns.countplot(data = df_battery, x = 'year', hue = 'arrest')\n",
    "plt.show()"
   ]
  },
  {
   "cell_type": "code",
   "execution_count": 448,
   "id": "fe523401",
   "metadata": {},
   "outputs": [
    {
     "data": {
      "text/html": [
       "<div>\n",
       "<style scoped>\n",
       "    .dataframe tbody tr th:only-of-type {\n",
       "        vertical-align: middle;\n",
       "    }\n",
       "\n",
       "    .dataframe tbody tr th {\n",
       "        vertical-align: top;\n",
       "    }\n",
       "\n",
       "    .dataframe thead th {\n",
       "        text-align: right;\n",
       "    }\n",
       "</style>\n",
       "<table border=\"1\" class=\"dataframe\">\n",
       "  <thead>\n",
       "    <tr style=\"text-align: right;\">\n",
       "      <th></th>\n",
       "      <th>year</th>\n",
       "      <th>arrest</th>\n",
       "      <th>count</th>\n",
       "    </tr>\n",
       "  </thead>\n",
       "  <tbody>\n",
       "    <tr>\n",
       "      <th>0</th>\n",
       "      <td>2012</td>\n",
       "      <td>False</td>\n",
       "      <td>23151</td>\n",
       "    </tr>\n",
       "    <tr>\n",
       "      <th>1</th>\n",
       "      <td>2012</td>\n",
       "      <td>True</td>\n",
       "      <td>7147</td>\n",
       "    </tr>\n",
       "    <tr>\n",
       "      <th>2</th>\n",
       "      <td>2013</td>\n",
       "      <td>False</td>\n",
       "      <td>20597</td>\n",
       "    </tr>\n",
       "    <tr>\n",
       "      <th>3</th>\n",
       "      <td>2013</td>\n",
       "      <td>True</td>\n",
       "      <td>6822</td>\n",
       "    </tr>\n",
       "    <tr>\n",
       "      <th>4</th>\n",
       "      <td>2014</td>\n",
       "      <td>False</td>\n",
       "      <td>18881</td>\n",
       "    </tr>\n",
       "    <tr>\n",
       "      <th>5</th>\n",
       "      <td>2014</td>\n",
       "      <td>True</td>\n",
       "      <td>6558</td>\n",
       "    </tr>\n",
       "    <tr>\n",
       "      <th>6</th>\n",
       "      <td>2015</td>\n",
       "      <td>False</td>\n",
       "      <td>18825</td>\n",
       "    </tr>\n",
       "    <tr>\n",
       "      <th>7</th>\n",
       "      <td>2015</td>\n",
       "      <td>True</td>\n",
       "      <td>5808</td>\n",
       "    </tr>\n",
       "    <tr>\n",
       "      <th>8</th>\n",
       "      <td>2016</td>\n",
       "      <td>False</td>\n",
       "      <td>20582</td>\n",
       "    </tr>\n",
       "    <tr>\n",
       "      <th>9</th>\n",
       "      <td>2016</td>\n",
       "      <td>True</td>\n",
       "      <td>5290</td>\n",
       "    </tr>\n",
       "    <tr>\n",
       "      <th>10</th>\n",
       "      <td>2017</td>\n",
       "      <td>False</td>\n",
       "      <td>20174</td>\n",
       "    </tr>\n",
       "    <tr>\n",
       "      <th>11</th>\n",
       "      <td>2017</td>\n",
       "      <td>True</td>\n",
       "      <td>5210</td>\n",
       "    </tr>\n",
       "    <tr>\n",
       "      <th>12</th>\n",
       "      <td>2018</td>\n",
       "      <td>False</td>\n",
       "      <td>20226</td>\n",
       "    </tr>\n",
       "    <tr>\n",
       "      <th>13</th>\n",
       "      <td>2018</td>\n",
       "      <td>True</td>\n",
       "      <td>5221</td>\n",
       "    </tr>\n",
       "    <tr>\n",
       "      <th>14</th>\n",
       "      <td>2019</td>\n",
       "      <td>False</td>\n",
       "      <td>20281</td>\n",
       "    </tr>\n",
       "    <tr>\n",
       "      <th>15</th>\n",
       "      <td>2019</td>\n",
       "      <td>True</td>\n",
       "      <td>5369</td>\n",
       "    </tr>\n",
       "    <tr>\n",
       "      <th>16</th>\n",
       "      <td>2020</td>\n",
       "      <td>False</td>\n",
       "      <td>16700</td>\n",
       "    </tr>\n",
       "    <tr>\n",
       "      <th>17</th>\n",
       "      <td>2020</td>\n",
       "      <td>True</td>\n",
       "      <td>3263</td>\n",
       "    </tr>\n",
       "    <tr>\n",
       "      <th>18</th>\n",
       "      <td>2021</td>\n",
       "      <td>False</td>\n",
       "      <td>15399</td>\n",
       "    </tr>\n",
       "    <tr>\n",
       "      <th>19</th>\n",
       "      <td>2021</td>\n",
       "      <td>True</td>\n",
       "      <td>2077</td>\n",
       "    </tr>\n",
       "  </tbody>\n",
       "</table>\n",
       "</div>"
      ],
      "text/plain": [
       "    year  arrest  count\n",
       "0   2012   False  23151\n",
       "1   2012    True   7147\n",
       "2   2013   False  20597\n",
       "3   2013    True   6822\n",
       "4   2014   False  18881\n",
       "5   2014    True   6558\n",
       "6   2015   False  18825\n",
       "7   2015    True   5808\n",
       "8   2016   False  20582\n",
       "9   2016    True   5290\n",
       "10  2017   False  20174\n",
       "11  2017    True   5210\n",
       "12  2018   False  20226\n",
       "13  2018    True   5221\n",
       "14  2019   False  20281\n",
       "15  2019    True   5369\n",
       "16  2020   False  16700\n",
       "17  2020    True   3263\n",
       "18  2021   False  15399\n",
       "19  2021    True   2077"
      ]
     },
     "execution_count": 448,
     "metadata": {},
     "output_type": "execute_result"
    }
   ],
   "source": [
    "df_battery_arrest = pd.DataFrame(df_battery.groupby('year')['arrest'].value_counts())\n",
    "df_battery_arrest.columns = ['count']\n",
    "df_battery_arrest = df_battery_arrest.reset_index()\n",
    "df_battery_arrest"
   ]
  },
  {
   "cell_type": "code",
   "execution_count": 449,
   "id": "d60f9ba4",
   "metadata": {},
   "outputs": [
    {
     "name": "stdout",
     "output_type": "stream",
     "text": [
      "<class 'pandas.core.frame.DataFrame'>\n",
      "RangeIndex: 20 entries, 0 to 19\n",
      "Data columns (total 3 columns):\n",
      " #   Column  Non-Null Count  Dtype\n",
      "---  ------  --------------  -----\n",
      " 0   year    20 non-null     int32\n",
      " 1   arrest  20 non-null     bool \n",
      " 2   count   20 non-null     int64\n",
      "dtypes: bool(1), int32(1), int64(1)\n",
      "memory usage: 388.0 bytes\n"
     ]
    }
   ],
   "source": [
    "df_battery_arrest['year'] = df_battery_arrest['year'].astype('int32')\n",
    "df_battery_arrest.info()"
   ]
  },
  {
   "cell_type": "code",
   "execution_count": 450,
   "id": "fc3da2d4",
   "metadata": {},
   "outputs": [
    {
     "data": {
      "text/html": [
       "<div>\n",
       "<style scoped>\n",
       "    .dataframe tbody tr th:only-of-type {\n",
       "        vertical-align: middle;\n",
       "    }\n",
       "\n",
       "    .dataframe tbody tr th {\n",
       "        vertical-align: top;\n",
       "    }\n",
       "\n",
       "    .dataframe thead th {\n",
       "        text-align: right;\n",
       "    }\n",
       "</style>\n",
       "<table border=\"1\" class=\"dataframe\">\n",
       "  <thead>\n",
       "    <tr style=\"text-align: right;\">\n",
       "      <th></th>\n",
       "      <th>year</th>\n",
       "      <th>ratio</th>\n",
       "    </tr>\n",
       "  </thead>\n",
       "  <tbody>\n",
       "  </tbody>\n",
       "</table>\n",
       "</div>"
      ],
      "text/plain": [
       "Empty DataFrame\n",
       "Columns: [year, ratio]\n",
       "Index: []"
      ]
     },
     "execution_count": 450,
     "metadata": {},
     "output_type": "execute_result"
    }
   ],
   "source": [
    "battery_arrest_ratio = pd.DataFrame(columns = ['year', 'ratio'])\n",
    "battery_arrest_ratio"
   ]
  },
  {
   "cell_type": "code",
   "execution_count": 451,
   "id": "a1497486",
   "metadata": {
    "scrolled": true
   },
   "outputs": [
    {
     "data": {
      "text/html": [
       "<div>\n",
       "<style scoped>\n",
       "    .dataframe tbody tr th:only-of-type {\n",
       "        vertical-align: middle;\n",
       "    }\n",
       "\n",
       "    .dataframe tbody tr th {\n",
       "        vertical-align: top;\n",
       "    }\n",
       "\n",
       "    .dataframe thead th {\n",
       "        text-align: right;\n",
       "    }\n",
       "</style>\n",
       "<table border=\"1\" class=\"dataframe\">\n",
       "  <thead>\n",
       "    <tr style=\"text-align: right;\">\n",
       "      <th></th>\n",
       "      <th>year</th>\n",
       "      <th>ratio</th>\n",
       "    </tr>\n",
       "  </thead>\n",
       "  <tbody>\n",
       "    <tr>\n",
       "      <th>0</th>\n",
       "      <td>2012.0</td>\n",
       "      <td>23.59</td>\n",
       "    </tr>\n",
       "    <tr>\n",
       "      <th>1</th>\n",
       "      <td>2013.0</td>\n",
       "      <td>24.88</td>\n",
       "    </tr>\n",
       "    <tr>\n",
       "      <th>2</th>\n",
       "      <td>2014.0</td>\n",
       "      <td>25.78</td>\n",
       "    </tr>\n",
       "    <tr>\n",
       "      <th>3</th>\n",
       "      <td>2015.0</td>\n",
       "      <td>23.58</td>\n",
       "    </tr>\n",
       "    <tr>\n",
       "      <th>4</th>\n",
       "      <td>2016.0</td>\n",
       "      <td>20.45</td>\n",
       "    </tr>\n",
       "    <tr>\n",
       "      <th>5</th>\n",
       "      <td>2017.0</td>\n",
       "      <td>20.52</td>\n",
       "    </tr>\n",
       "    <tr>\n",
       "      <th>6</th>\n",
       "      <td>2018.0</td>\n",
       "      <td>20.52</td>\n",
       "    </tr>\n",
       "    <tr>\n",
       "      <th>7</th>\n",
       "      <td>2019.0</td>\n",
       "      <td>20.93</td>\n",
       "    </tr>\n",
       "    <tr>\n",
       "      <th>8</th>\n",
       "      <td>2020.0</td>\n",
       "      <td>16.35</td>\n",
       "    </tr>\n",
       "    <tr>\n",
       "      <th>9</th>\n",
       "      <td>2021.0</td>\n",
       "      <td>11.88</td>\n",
       "    </tr>\n",
       "  </tbody>\n",
       "</table>\n",
       "</div>"
      ],
      "text/plain": [
       "     year  ratio\n",
       "0  2012.0  23.59\n",
       "1  2013.0  24.88\n",
       "2  2014.0  25.78\n",
       "3  2015.0  23.58\n",
       "4  2016.0  20.45\n",
       "5  2017.0  20.52\n",
       "6  2018.0  20.52\n",
       "7  2019.0  20.93\n",
       "8  2020.0  16.35\n",
       "9  2021.0  11.88"
      ]
     },
     "execution_count": 451,
     "metadata": {},
     "output_type": "execute_result"
    }
   ],
   "source": [
    "arrest_ratio(2012, df_battery_arrest, battery_arrest_ratio)\n",
    "battery_arrest_ratio"
   ]
  },
  {
   "cell_type": "code",
   "execution_count": 453,
   "id": "fe3269e2",
   "metadata": {},
   "outputs": [
    {
     "data": {
      "image/png": "[encoded data removed]",
      "text/plain": [
       "<Figure size 432x288 with 1 Axes>"
      ]
     },
     "metadata": {},
     "output_type": "display_data"
    }
   ],
   "source": [
    "sns.lineplot(data = battery_arrest_ratio, x = 'year', y = 'ratio', color = 'tab:blue')\n",
    "plt.ylim(0,30)\n",
    "plt.show()"
   ]
  },
  {
   "cell_type": "markdown",
   "id": "359f93ad",
   "metadata": {},
   "source": [
    "- 체포율은 약 20% 안팎이다.\n",
    "- 다른 범죄에 비해 상대적으로 체포율이 높고, 최근으로 갈수록 체포율이 낮아진다."
   ]
  },
  {
   "cell_type": "markdown",
   "id": "13461210",
   "metadata": {},
   "source": [
    "# NARCOTICS\n",
    "마약 범죄"
   ]
  },
  {
   "cell_type": "code",
   "execution_count": 454,
   "id": "233fd658",
   "metadata": {},
   "outputs": [
    {
     "name": "stdout",
     "output_type": "stream",
     "text": [
      "<class 'pandas.core.frame.DataFrame'>\n",
      "Int64Index: 188126 entries, 72 to 2670102\n",
      "Data columns (total 11 columns):\n",
      " #   Column                Non-Null Count   Dtype              \n",
      "---  ------                --------------   -----              \n",
      " 0   unique_key            188126 non-null  int64              \n",
      " 1   date                  188126 non-null  datetime64[ns, UTC]\n",
      " 2   primary_type          188126 non-null  object             \n",
      " 3   location_description  188126 non-null  object             \n",
      " 4   arrest                188126 non-null  bool               \n",
      " 5   domestic              188126 non-null  bool               \n",
      " 6   beat                  188126 non-null  int64              \n",
      " 7   community_area        188126 non-null  float64            \n",
      " 8   month                 188126 non-null  object             \n",
      " 9   year                  188126 non-null  object             \n",
      " 10  only_month            188126 non-null  object             \n",
      "dtypes: bool(2), datetime64[ns, UTC](1), float64(1), int64(2), object(5)\n",
      "memory usage: 18.7+ MB\n"
     ]
    }
   ],
   "source": [
    "df_narcotics.info()"
   ]
  },
  {
   "cell_type": "markdown",
   "id": "a4c2887a",
   "metadata": {},
   "source": [
    "## 기간별 발생 수"
   ]
  },
  {
   "cell_type": "code",
   "execution_count": 456,
   "id": "c4816f64",
   "metadata": {},
   "outputs": [
    {
     "data": {
      "text/html": [
       "<div>\n",
       "<style scoped>\n",
       "    .dataframe tbody tr th:only-of-type {\n",
       "        vertical-align: middle;\n",
       "    }\n",
       "\n",
       "    .dataframe tbody tr th {\n",
       "        vertical-align: top;\n",
       "    }\n",
       "\n",
       "    .dataframe thead th {\n",
       "        text-align: right;\n",
       "    }\n",
       "</style>\n",
       "<table border=\"1\" class=\"dataframe\">\n",
       "  <thead>\n",
       "    <tr style=\"text-align: right;\">\n",
       "      <th></th>\n",
       "      <th>index</th>\n",
       "      <th>year</th>\n",
       "    </tr>\n",
       "  </thead>\n",
       "  <tbody>\n",
       "    <tr>\n",
       "      <th>0</th>\n",
       "      <td>2012</td>\n",
       "      <td>35465</td>\n",
       "    </tr>\n",
       "    <tr>\n",
       "      <th>1</th>\n",
       "      <td>2013</td>\n",
       "      <td>34110</td>\n",
       "    </tr>\n",
       "    <tr>\n",
       "      <th>2</th>\n",
       "      <td>2014</td>\n",
       "      <td>29104</td>\n",
       "    </tr>\n",
       "    <tr>\n",
       "      <th>3</th>\n",
       "      <td>2015</td>\n",
       "      <td>23932</td>\n",
       "    </tr>\n",
       "    <tr>\n",
       "      <th>6</th>\n",
       "      <td>2016</td>\n",
       "      <td>13324</td>\n",
       "    </tr>\n",
       "    <tr>\n",
       "      <th>7</th>\n",
       "      <td>2017</td>\n",
       "      <td>11669</td>\n",
       "    </tr>\n",
       "    <tr>\n",
       "      <th>5</th>\n",
       "      <td>2018</td>\n",
       "      <td>13567</td>\n",
       "    </tr>\n",
       "    <tr>\n",
       "      <th>4</th>\n",
       "      <td>2019</td>\n",
       "      <td>15055</td>\n",
       "    </tr>\n",
       "    <tr>\n",
       "      <th>8</th>\n",
       "      <td>2020</td>\n",
       "      <td>7476</td>\n",
       "    </tr>\n",
       "    <tr>\n",
       "      <th>9</th>\n",
       "      <td>2021</td>\n",
       "      <td>4424</td>\n",
       "    </tr>\n",
       "  </tbody>\n",
       "</table>\n",
       "</div>"
      ],
      "text/plain": [
       "  index   year\n",
       "0  2012  35465\n",
       "1  2013  34110\n",
       "2  2014  29104\n",
       "3  2015  23932\n",
       "6  2016  13324\n",
       "7  2017  11669\n",
       "5  2018  13567\n",
       "4  2019  15055\n",
       "8  2020   7476\n",
       "9  2021   4424"
      ]
     },
     "execution_count": 456,
     "metadata": {},
     "output_type": "execute_result"
    }
   ],
   "source": [
    "df_narcotics['year'].value_counts().reset_index().sort_values(by = 'index')"
   ]
  },
  {
   "cell_type": "code",
   "execution_count": 457,
   "id": "e4aa4fee",
   "metadata": {},
   "outputs": [
    {
     "data": {
      "text/plain": [
       "2012    100.000000\n",
       "2013     96.179332\n",
       "2014     82.064007\n",
       "2015     67.480615\n",
       "2019     42.450303\n",
       "2018     38.254617\n",
       "2016     37.569435\n",
       "2017     32.902862\n",
       "2020     21.079938\n",
       "2021     12.474270\n",
       "Name: year, dtype: float64"
      ]
     },
     "execution_count": 457,
     "metadata": {},
     "output_type": "execute_result"
    }
   ],
   "source": [
    "df_narcotics['year'].value_counts() / 35465 *100"
   ]
  },
  {
   "cell_type": "code",
   "execution_count": 458,
   "id": "7c8041a0",
   "metadata": {},
   "outputs": [
    {
     "data": {
      "image/png": "[encoded data removed]",
      "text/plain": [
       "<Figure size 432x288 with 1 Axes>"
      ]
     },
     "metadata": {},
     "output_type": "display_data"
    }
   ],
   "source": [
    "sns.lineplot(data = df_narcotics['year'].value_counts().reset_index().sort_values(by = 'index'), x = 'index', y = 'year', color = 'tab:blue')\n",
    "plt.ylim(bottom = 0)\n",
    "plt.show()"
   ]
  },
  {
   "cell_type": "markdown",
   "id": "1384f42c",
   "metadata": {},
   "source": [
    "- 우하향\n",
    "- 2015~6 급감\n",
    "- 2017~9 다시 약간 상승했다가 20년도 감소\n",
    "- 2021년 발생 건수는 2012년 발생 건수의 약 12%"
   ]
  },
  {
   "cell_type": "markdown",
   "id": "89f68b83",
   "metadata": {},
   "source": [
    "## 가장 많이 일어난 장소(location_description)"
   ]
  },
  {
   "cell_type": "code",
   "execution_count": 459,
   "id": "0ce59d8c",
   "metadata": {},
   "outputs": [
    {
     "data": {
      "text/plain": [
       "SIDEWALK                           61003\n",
       "STREET                             55481\n",
       "ALLEY                              12703\n",
       "VEHICLE NON-COMMERCIAL              8810\n",
       "RESIDENCE                           7207\n",
       "APARTMENT                           6003\n",
       "PARKING LOT/GARAGE(NON.RESID.)      5257\n",
       "RESIDENTIAL YARD (FRONT/BACK)       2920\n",
       "POLICE FACILITY/VEH PARKING LOT     2686\n",
       "PARK PROPERTY                       2506\n",
       "Name: location_description, dtype: int64"
      ]
     },
     "execution_count": 459,
     "metadata": {},
     "output_type": "execute_result"
    }
   ],
   "source": [
    "df_narcotics['location_description'].value_counts().head(10)"
   ]
  },
  {
   "cell_type": "code",
   "execution_count": 460,
   "id": "c05478d1",
   "metadata": {},
   "outputs": [
    {
     "data": {
      "text/plain": [
       "SIDEWALK                           32.426671\n",
       "STREET                             29.491405\n",
       "ALLEY                               6.752389\n",
       "VEHICLE NON-COMMERCIAL              4.683032\n",
       "RESIDENCE                           3.830943\n",
       "APARTMENT                           3.190946\n",
       "PARKING LOT/GARAGE(NON.RESID.)      2.794404\n",
       "RESIDENTIAL YARD (FRONT/BACK)       1.552151\n",
       "POLICE FACILITY/VEH PARKING LOT     1.427766\n",
       "PARK PROPERTY                       1.332086\n",
       "Name: location_description, dtype: float64"
      ]
     },
     "execution_count": 460,
     "metadata": {},
     "output_type": "execute_result"
    }
   ],
   "source": [
    "df_narcotics['location_description'].value_counts().head(10) / 188126 *100"
   ]
  },
  {
   "cell_type": "code",
   "execution_count": 537,
   "id": "34b30176",
   "metadata": {},
   "outputs": [
    {
     "data": {
      "image/png": "[encoded data removed]",
      "text/plain": [
       "<Figure size 576x360 with 1 Axes>"
      ]
     },
     "metadata": {},
     "output_type": "display_data"
    }
   ],
   "source": [
    "plt.figure(figsize = (8,5))\n",
    "plt.bar(data = df_narcotics['location_description'].value_counts().head(10).reset_index(), x = 'index', height = 'location_description', color = 'tab:blue')\n",
    "plt.xticks(rotation = 45, ha = 'right')\n",
    "plt.show()"
   ]
  },
  {
   "cell_type": "markdown",
   "id": "8744ffa5",
   "metadata": {},
   "source": [
    "- 마약은 인도(사람이 걸어다니는 길)에서 가장 많이 일어난다. 전체의 약 32%\n",
    "- 인도, 거리 중심으로 약 60% 일어났다."
   ]
  },
  {
   "cell_type": "markdown",
   "id": "afad0143",
   "metadata": {},
   "source": [
    "## 가장 많이 일어난 구역 (community_area)"
   ]
  },
  {
   "cell_type": "code",
   "execution_count": 215,
   "id": "7cdef303",
   "metadata": {},
   "outputs": [
    {
     "data": {
      "text/plain": [
       "25.0    23846\n",
       "29.0    17375\n",
       "23.0    17277\n",
       "26.0    15016\n",
       "27.0     9618\n",
       "67.0     6961\n",
       "68.0     5536\n",
       "71.0     5486\n",
       "43.0     5070\n",
       "49.0     4960\n",
       "Name: community_area, dtype: int64"
      ]
     },
     "execution_count": 215,
     "metadata": {},
     "output_type": "execute_result"
    }
   ],
   "source": [
    "df_narcotics['community_area'].value_counts().head(10)"
   ]
  },
  {
   "cell_type": "code",
   "execution_count": 538,
   "id": "80a32710",
   "metadata": {},
   "outputs": [
    {
     "data": {
      "text/html": [
       "<div>\n",
       "<style scoped>\n",
       "    .dataframe tbody tr th:only-of-type {\n",
       "        vertical-align: middle;\n",
       "    }\n",
       "\n",
       "    .dataframe tbody tr th {\n",
       "        vertical-align: top;\n",
       "    }\n",
       "\n",
       "    .dataframe thead th {\n",
       "        text-align: right;\n",
       "    }\n",
       "</style>\n",
       "<table border=\"1\" class=\"dataframe\">\n",
       "  <thead>\n",
       "    <tr style=\"text-align: right;\">\n",
       "      <th></th>\n",
       "      <th>index</th>\n",
       "      <th>community_area</th>\n",
       "    </tr>\n",
       "  </thead>\n",
       "  <tbody>\n",
       "    <tr>\n",
       "      <th>0</th>\n",
       "      <td>25.0</td>\n",
       "      <td>23846</td>\n",
       "    </tr>\n",
       "    <tr>\n",
       "      <th>1</th>\n",
       "      <td>29.0</td>\n",
       "      <td>17375</td>\n",
       "    </tr>\n",
       "    <tr>\n",
       "      <th>2</th>\n",
       "      <td>23.0</td>\n",
       "      <td>17277</td>\n",
       "    </tr>\n",
       "    <tr>\n",
       "      <th>3</th>\n",
       "      <td>26.0</td>\n",
       "      <td>15016</td>\n",
       "    </tr>\n",
       "    <tr>\n",
       "      <th>4</th>\n",
       "      <td>27.0</td>\n",
       "      <td>9618</td>\n",
       "    </tr>\n",
       "    <tr>\n",
       "      <th>5</th>\n",
       "      <td>67.0</td>\n",
       "      <td>6961</td>\n",
       "    </tr>\n",
       "    <tr>\n",
       "      <th>6</th>\n",
       "      <td>68.0</td>\n",
       "      <td>5536</td>\n",
       "    </tr>\n",
       "    <tr>\n",
       "      <th>7</th>\n",
       "      <td>71.0</td>\n",
       "      <td>5486</td>\n",
       "    </tr>\n",
       "    <tr>\n",
       "      <th>8</th>\n",
       "      <td>43.0</td>\n",
       "      <td>5070</td>\n",
       "    </tr>\n",
       "    <tr>\n",
       "      <th>9</th>\n",
       "      <td>49.0</td>\n",
       "      <td>4960</td>\n",
       "    </tr>\n",
       "  </tbody>\n",
       "</table>\n",
       "</div>"
      ],
      "text/plain": [
       "   index  community_area\n",
       "0   25.0           23846\n",
       "1   29.0           17375\n",
       "2   23.0           17277\n",
       "3   26.0           15016\n",
       "4   27.0            9618\n",
       "5   67.0            6961\n",
       "6   68.0            5536\n",
       "7   71.0            5486\n",
       "8   43.0            5070\n",
       "9   49.0            4960"
      ]
     },
     "execution_count": 538,
     "metadata": {},
     "output_type": "execute_result"
    }
   ],
   "source": [
    "df_narcotics_commu = df_narcotics['community_area'].value_counts().head(10).reset_index()\n",
    "df_narcotics_commu"
   ]
  },
  {
   "cell_type": "code",
   "execution_count": 539,
   "id": "b0ea6623",
   "metadata": {},
   "outputs": [],
   "source": [
    "df_narcotics_commu['index'] = df_narcotics_commu['index'].astype('int32')\n",
    "df_narcotics_commu['index'] = df_narcotics_commu['index'].astype('str')"
   ]
  },
  {
   "cell_type": "code",
   "execution_count": 540,
   "id": "254f766e",
   "metadata": {},
   "outputs": [
    {
     "data": {
      "image/png": "[encoded data removed]",
      "text/plain": [
       "<Figure size 576x360 with 1 Axes>"
      ]
     },
     "metadata": {},
     "output_type": "display_data"
    }
   ],
   "source": [
    "plt.figure(figsize = (8,5))\n",
    "plt.bar(data = df_narcotics_commu, x = 'index', height = 'community_area', color = 'tab:blue')\n",
    "plt.show()"
   ]
  },
  {
   "cell_type": "markdown",
   "id": "ea4624da",
   "metadata": {},
   "source": [
    "- 25구역 또 1위 등극!"
   ]
  },
  {
   "cell_type": "markdown",
   "id": "46ba7e58",
   "metadata": {},
   "source": [
    "## 관할 지구대"
   ]
  },
  {
   "cell_type": "code",
   "execution_count": 471,
   "id": "d7ef688e",
   "metadata": {},
   "outputs": [
    {
     "data": {
      "text/plain": [
       "1112    6244\n",
       "1121    5362\n",
       "1134    4708\n",
       "1533    4708\n",
       "1132    4691\n",
       "1122    4503\n",
       "1011    4020\n",
       "1115    3905\n",
       "1133    3281\n",
       "1532    3173\n",
       "Name: beat, dtype: int64"
      ]
     },
     "execution_count": 471,
     "metadata": {},
     "output_type": "execute_result"
    }
   ],
   "source": [
    "df_narcotics['beat'].value_counts().head(10)"
   ]
  },
  {
   "cell_type": "code",
   "execution_count": 541,
   "id": "b325fc13",
   "metadata": {},
   "outputs": [
    {
     "data": {
      "text/html": [
       "<div>\n",
       "<style scoped>\n",
       "    .dataframe tbody tr th:only-of-type {\n",
       "        vertical-align: middle;\n",
       "    }\n",
       "\n",
       "    .dataframe tbody tr th {\n",
       "        vertical-align: top;\n",
       "    }\n",
       "\n",
       "    .dataframe thead th {\n",
       "        text-align: right;\n",
       "    }\n",
       "</style>\n",
       "<table border=\"1\" class=\"dataframe\">\n",
       "  <thead>\n",
       "    <tr style=\"text-align: right;\">\n",
       "      <th></th>\n",
       "      <th>index</th>\n",
       "      <th>beat</th>\n",
       "    </tr>\n",
       "  </thead>\n",
       "  <tbody>\n",
       "    <tr>\n",
       "      <th>0</th>\n",
       "      <td>1112</td>\n",
       "      <td>6244</td>\n",
       "    </tr>\n",
       "    <tr>\n",
       "      <th>1</th>\n",
       "      <td>1121</td>\n",
       "      <td>5362</td>\n",
       "    </tr>\n",
       "    <tr>\n",
       "      <th>2</th>\n",
       "      <td>1134</td>\n",
       "      <td>4708</td>\n",
       "    </tr>\n",
       "    <tr>\n",
       "      <th>3</th>\n",
       "      <td>1533</td>\n",
       "      <td>4708</td>\n",
       "    </tr>\n",
       "    <tr>\n",
       "      <th>4</th>\n",
       "      <td>1132</td>\n",
       "      <td>4691</td>\n",
       "    </tr>\n",
       "    <tr>\n",
       "      <th>5</th>\n",
       "      <td>1122</td>\n",
       "      <td>4503</td>\n",
       "    </tr>\n",
       "    <tr>\n",
       "      <th>6</th>\n",
       "      <td>1011</td>\n",
       "      <td>4020</td>\n",
       "    </tr>\n",
       "    <tr>\n",
       "      <th>7</th>\n",
       "      <td>1115</td>\n",
       "      <td>3905</td>\n",
       "    </tr>\n",
       "    <tr>\n",
       "      <th>8</th>\n",
       "      <td>1133</td>\n",
       "      <td>3281</td>\n",
       "    </tr>\n",
       "    <tr>\n",
       "      <th>9</th>\n",
       "      <td>1532</td>\n",
       "      <td>3173</td>\n",
       "    </tr>\n",
       "  </tbody>\n",
       "</table>\n",
       "</div>"
      ],
      "text/plain": [
       "   index  beat\n",
       "0   1112  6244\n",
       "1   1121  5362\n",
       "2   1134  4708\n",
       "3   1533  4708\n",
       "4   1132  4691\n",
       "5   1122  4503\n",
       "6   1011  4020\n",
       "7   1115  3905\n",
       "8   1133  3281\n",
       "9   1532  3173"
      ]
     },
     "execution_count": 541,
     "metadata": {},
     "output_type": "execute_result"
    }
   ],
   "source": [
    "df_narcotics_beat = df_narcotics['beat'].value_counts().head(10).reset_index()\n",
    "df_narcotics_beat"
   ]
  },
  {
   "cell_type": "code",
   "execution_count": 542,
   "id": "c1a09d0d",
   "metadata": {},
   "outputs": [],
   "source": [
    "df_narcotics_beat['index'] = df_narcotics_beat['index'].astype('str')"
   ]
  },
  {
   "cell_type": "code",
   "execution_count": 543,
   "id": "8278d383",
   "metadata": {},
   "outputs": [
    {
     "data": {
      "image/png": "[encoded data removed]",
      "text/plain": [
       "<Figure size 576x360 with 1 Axes>"
      ]
     },
     "metadata": {},
     "output_type": "display_data"
    }
   ],
   "source": [
    "plt.figure(figsize = (8,5))\n",
    "plt.bar(data = df_narcotics_beat, x = 'index', height = 'beat', color = 'tab:blue')\n",
    "plt.show()"
   ]
  },
  {
   "cell_type": "markdown",
   "id": "b41b2ff8",
   "metadata": {},
   "source": [
    "- 왜 계속 비슷한 지역에서 범죄가 일어나나요 ㅠ\n",
    "- 25구역 가장 우하단 담당 1533번 지구대 4등\n"
   ]
  },
  {
   "cell_type": "markdown",
   "id": "24e656bf",
   "metadata": {},
   "source": [
    "## 체포 여부 (arrest)"
   ]
  },
  {
   "cell_type": "code",
   "execution_count": 461,
   "id": "8afe3bf8",
   "metadata": {},
   "outputs": [
    {
     "data": {
      "text/plain": [
       "True     99.547644\n",
       "False     0.452356\n",
       "Name: arrest, dtype: float64"
      ]
     },
     "execution_count": 461,
     "metadata": {},
     "output_type": "execute_result"
    }
   ],
   "source": [
    "df_narcotics['arrest'].value_counts().head(10) / 188126*100"
   ]
  },
  {
   "cell_type": "code",
   "execution_count": 217,
   "id": "3c9e36ac",
   "metadata": {},
   "outputs": [
    {
     "data": {
      "image/png": "[encoded data removed]",
      "text/plain": [
       "<Figure size 432x288 with 1 Axes>"
      ]
     },
     "metadata": {},
     "output_type": "display_data"
    }
   ],
   "source": [
    "sns.countplot(data = df_narcotics, x = 'year', hue = 'arrest')\n",
    "plt.show()"
   ]
  },
  {
   "cell_type": "markdown",
   "id": "3ad0ec0c",
   "metadata": {},
   "source": [
    "- 검거율이 99%"
   ]
  },
  {
   "cell_type": "code",
   "execution_count": 462,
   "id": "11457086",
   "metadata": {},
   "outputs": [
    {
     "data": {
      "text/html": [
       "<div>\n",
       "<style scoped>\n",
       "    .dataframe tbody tr th:only-of-type {\n",
       "        vertical-align: middle;\n",
       "    }\n",
       "\n",
       "    .dataframe tbody tr th {\n",
       "        vertical-align: top;\n",
       "    }\n",
       "\n",
       "    .dataframe thead th {\n",
       "        text-align: right;\n",
       "    }\n",
       "</style>\n",
       "<table border=\"1\" class=\"dataframe\">\n",
       "  <thead>\n",
       "    <tr style=\"text-align: right;\">\n",
       "      <th></th>\n",
       "      <th>year</th>\n",
       "      <th>arrest</th>\n",
       "      <th>count</th>\n",
       "    </tr>\n",
       "  </thead>\n",
       "  <tbody>\n",
       "    <tr>\n",
       "      <th>0</th>\n",
       "      <td>2012</td>\n",
       "      <td>True</td>\n",
       "      <td>35208</td>\n",
       "    </tr>\n",
       "    <tr>\n",
       "      <th>1</th>\n",
       "      <td>2012</td>\n",
       "      <td>False</td>\n",
       "      <td>257</td>\n",
       "    </tr>\n",
       "    <tr>\n",
       "      <th>2</th>\n",
       "      <td>2013</td>\n",
       "      <td>True</td>\n",
       "      <td>33805</td>\n",
       "    </tr>\n",
       "    <tr>\n",
       "      <th>3</th>\n",
       "      <td>2013</td>\n",
       "      <td>False</td>\n",
       "      <td>305</td>\n",
       "    </tr>\n",
       "    <tr>\n",
       "      <th>4</th>\n",
       "      <td>2014</td>\n",
       "      <td>True</td>\n",
       "      <td>28990</td>\n",
       "    </tr>\n",
       "    <tr>\n",
       "      <th>5</th>\n",
       "      <td>2014</td>\n",
       "      <td>False</td>\n",
       "      <td>114</td>\n",
       "    </tr>\n",
       "    <tr>\n",
       "      <th>6</th>\n",
       "      <td>2015</td>\n",
       "      <td>True</td>\n",
       "      <td>23924</td>\n",
       "    </tr>\n",
       "    <tr>\n",
       "      <th>7</th>\n",
       "      <td>2015</td>\n",
       "      <td>False</td>\n",
       "      <td>8</td>\n",
       "    </tr>\n",
       "    <tr>\n",
       "      <th>8</th>\n",
       "      <td>2016</td>\n",
       "      <td>True</td>\n",
       "      <td>13318</td>\n",
       "    </tr>\n",
       "    <tr>\n",
       "      <th>9</th>\n",
       "      <td>2016</td>\n",
       "      <td>False</td>\n",
       "      <td>6</td>\n",
       "    </tr>\n",
       "    <tr>\n",
       "      <th>10</th>\n",
       "      <td>2017</td>\n",
       "      <td>True</td>\n",
       "      <td>11663</td>\n",
       "    </tr>\n",
       "    <tr>\n",
       "      <th>11</th>\n",
       "      <td>2017</td>\n",
       "      <td>False</td>\n",
       "      <td>6</td>\n",
       "    </tr>\n",
       "    <tr>\n",
       "      <th>12</th>\n",
       "      <td>2018</td>\n",
       "      <td>True</td>\n",
       "      <td>13561</td>\n",
       "    </tr>\n",
       "    <tr>\n",
       "      <th>13</th>\n",
       "      <td>2018</td>\n",
       "      <td>False</td>\n",
       "      <td>6</td>\n",
       "    </tr>\n",
       "    <tr>\n",
       "      <th>14</th>\n",
       "      <td>2019</td>\n",
       "      <td>True</td>\n",
       "      <td>15050</td>\n",
       "    </tr>\n",
       "    <tr>\n",
       "      <th>15</th>\n",
       "      <td>2019</td>\n",
       "      <td>False</td>\n",
       "      <td>5</td>\n",
       "    </tr>\n",
       "    <tr>\n",
       "      <th>16</th>\n",
       "      <td>2020</td>\n",
       "      <td>True</td>\n",
       "      <td>7473</td>\n",
       "    </tr>\n",
       "    <tr>\n",
       "      <th>17</th>\n",
       "      <td>2020</td>\n",
       "      <td>False</td>\n",
       "      <td>3</td>\n",
       "    </tr>\n",
       "    <tr>\n",
       "      <th>18</th>\n",
       "      <td>2021</td>\n",
       "      <td>True</td>\n",
       "      <td>4283</td>\n",
       "    </tr>\n",
       "    <tr>\n",
       "      <th>19</th>\n",
       "      <td>2021</td>\n",
       "      <td>False</td>\n",
       "      <td>141</td>\n",
       "    </tr>\n",
       "  </tbody>\n",
       "</table>\n",
       "</div>"
      ],
      "text/plain": [
       "    year  arrest  count\n",
       "0   2012    True  35208\n",
       "1   2012   False    257\n",
       "2   2013    True  33805\n",
       "3   2013   False    305\n",
       "4   2014    True  28990\n",
       "5   2014   False    114\n",
       "6   2015    True  23924\n",
       "7   2015   False      8\n",
       "8   2016    True  13318\n",
       "9   2016   False      6\n",
       "10  2017    True  11663\n",
       "11  2017   False      6\n",
       "12  2018    True  13561\n",
       "13  2018   False      6\n",
       "14  2019    True  15050\n",
       "15  2019   False      5\n",
       "16  2020    True   7473\n",
       "17  2020   False      3\n",
       "18  2021    True   4283\n",
       "19  2021   False    141"
      ]
     },
     "execution_count": 462,
     "metadata": {},
     "output_type": "execute_result"
    }
   ],
   "source": [
    "df_narcotics_arrest = pd.DataFrame(df_narcotics.groupby('year')['arrest'].value_counts())\n",
    "df_narcotics_arrest.columns = ['count']\n",
    "df_narcotics_arrest = df_narcotics_arrest.reset_index()\n",
    "df_narcotics_arrest"
   ]
  },
  {
   "cell_type": "code",
   "execution_count": 463,
   "id": "60aa8a81",
   "metadata": {},
   "outputs": [
    {
     "name": "stdout",
     "output_type": "stream",
     "text": [
      "<class 'pandas.core.frame.DataFrame'>\n",
      "RangeIndex: 20 entries, 0 to 19\n",
      "Data columns (total 3 columns):\n",
      " #   Column  Non-Null Count  Dtype\n",
      "---  ------  --------------  -----\n",
      " 0   year    20 non-null     int32\n",
      " 1   arrest  20 non-null     bool \n",
      " 2   count   20 non-null     int64\n",
      "dtypes: bool(1), int32(1), int64(1)\n",
      "memory usage: 388.0 bytes\n"
     ]
    }
   ],
   "source": [
    "df_narcotics_arrest['year'] = df_narcotics_arrest['year'].astype('int32')\n",
    "df_narcotics_arrest.info()"
   ]
  },
  {
   "cell_type": "code",
   "execution_count": 464,
   "id": "275bc81d",
   "metadata": {},
   "outputs": [
    {
     "data": {
      "text/html": [
       "<div>\n",
       "<style scoped>\n",
       "    .dataframe tbody tr th:only-of-type {\n",
       "        vertical-align: middle;\n",
       "    }\n",
       "\n",
       "    .dataframe tbody tr th {\n",
       "        vertical-align: top;\n",
       "    }\n",
       "\n",
       "    .dataframe thead th {\n",
       "        text-align: right;\n",
       "    }\n",
       "</style>\n",
       "<table border=\"1\" class=\"dataframe\">\n",
       "  <thead>\n",
       "    <tr style=\"text-align: right;\">\n",
       "      <th></th>\n",
       "      <th>year</th>\n",
       "      <th>ratio</th>\n",
       "    </tr>\n",
       "  </thead>\n",
       "  <tbody>\n",
       "  </tbody>\n",
       "</table>\n",
       "</div>"
      ],
      "text/plain": [
       "Empty DataFrame\n",
       "Columns: [year, ratio]\n",
       "Index: []"
      ]
     },
     "execution_count": 464,
     "metadata": {},
     "output_type": "execute_result"
    }
   ],
   "source": [
    "narcotics_arrest_ratio = pd.DataFrame(columns = ['year', 'ratio'])\n",
    "narcotics_arrest_ratio"
   ]
  },
  {
   "cell_type": "code",
   "execution_count": 465,
   "id": "36eaf375",
   "metadata": {
    "scrolled": true
   },
   "outputs": [
    {
     "data": {
      "text/html": [
       "<div>\n",
       "<style scoped>\n",
       "    .dataframe tbody tr th:only-of-type {\n",
       "        vertical-align: middle;\n",
       "    }\n",
       "\n",
       "    .dataframe tbody tr th {\n",
       "        vertical-align: top;\n",
       "    }\n",
       "\n",
       "    .dataframe thead th {\n",
       "        text-align: right;\n",
       "    }\n",
       "</style>\n",
       "<table border=\"1\" class=\"dataframe\">\n",
       "  <thead>\n",
       "    <tr style=\"text-align: right;\">\n",
       "      <th></th>\n",
       "      <th>year</th>\n",
       "      <th>ratio</th>\n",
       "    </tr>\n",
       "  </thead>\n",
       "  <tbody>\n",
       "    <tr>\n",
       "      <th>0</th>\n",
       "      <td>2012.0</td>\n",
       "      <td>99.28</td>\n",
       "    </tr>\n",
       "    <tr>\n",
       "      <th>1</th>\n",
       "      <td>2013.0</td>\n",
       "      <td>99.11</td>\n",
       "    </tr>\n",
       "    <tr>\n",
       "      <th>2</th>\n",
       "      <td>2014.0</td>\n",
       "      <td>99.61</td>\n",
       "    </tr>\n",
       "    <tr>\n",
       "      <th>3</th>\n",
       "      <td>2015.0</td>\n",
       "      <td>99.97</td>\n",
       "    </tr>\n",
       "    <tr>\n",
       "      <th>4</th>\n",
       "      <td>2016.0</td>\n",
       "      <td>99.95</td>\n",
       "    </tr>\n",
       "    <tr>\n",
       "      <th>5</th>\n",
       "      <td>2017.0</td>\n",
       "      <td>99.95</td>\n",
       "    </tr>\n",
       "    <tr>\n",
       "      <th>6</th>\n",
       "      <td>2018.0</td>\n",
       "      <td>99.96</td>\n",
       "    </tr>\n",
       "    <tr>\n",
       "      <th>7</th>\n",
       "      <td>2019.0</td>\n",
       "      <td>99.97</td>\n",
       "    </tr>\n",
       "    <tr>\n",
       "      <th>8</th>\n",
       "      <td>2020.0</td>\n",
       "      <td>99.96</td>\n",
       "    </tr>\n",
       "    <tr>\n",
       "      <th>9</th>\n",
       "      <td>2021.0</td>\n",
       "      <td>96.81</td>\n",
       "    </tr>\n",
       "  </tbody>\n",
       "</table>\n",
       "</div>"
      ],
      "text/plain": [
       "     year  ratio\n",
       "0  2012.0  99.28\n",
       "1  2013.0  99.11\n",
       "2  2014.0  99.61\n",
       "3  2015.0  99.97\n",
       "4  2016.0  99.95\n",
       "5  2017.0  99.95\n",
       "6  2018.0  99.96\n",
       "7  2019.0  99.97\n",
       "8  2020.0  99.96\n",
       "9  2021.0  96.81"
      ]
     },
     "execution_count": 465,
     "metadata": {},
     "output_type": "execute_result"
    }
   ],
   "source": [
    "arrest_ratio(2012, df_narcotics_arrest, narcotics_arrest_ratio)\n",
    "narcotics_arrest_ratio"
   ]
  },
  {
   "cell_type": "code",
   "execution_count": 470,
   "id": "93d7ae16",
   "metadata": {},
   "outputs": [
    {
     "data": {
      "image/png": "[encoded data removed]",
      "text/plain": [
       "<Figure size 432x288 with 1 Axes>"
      ]
     },
     "metadata": {},
     "output_type": "display_data"
    }
   ],
   "source": [
    "sns.lineplot(data = narcotics_arrest_ratio, x = 'year', y = 'ratio', color = 'tab:blue')\n",
    "plt.ylim(90,100)\n",
    "plt.show()"
   ]
  },
  {
   "cell_type": "markdown",
   "id": "afec98ad",
   "metadata": {},
   "source": [
    "- 체포율은 약 99% 안팎이다.\n",
    "- 다른 범죄에 비해 압도적으로 체포율이 높고, 최근에는 체포율이 조금 낮아졌다."
   ]
  },
  {
   "cell_type": "markdown",
   "id": "24a1a66e",
   "metadata": {},
   "source": [
    "# DECEPTIVE PRACTICE\n",
    "부정경쟁, 기만적 거래\n",
    "\n",
    "A deceptive trade practice is activity by an individual or business that is meant to mislead or lure the public into purchasing a product or service. False advertising and odometer tampering are two of the most blatant examples of commercial fraud."
   ]
  },
  {
   "cell_type": "code",
   "execution_count": 472,
   "id": "e8a639eb",
   "metadata": {},
   "outputs": [
    {
     "name": "stdout",
     "output_type": "stream",
     "text": [
      "<class 'pandas.core.frame.DataFrame'>\n",
      "Int64Index: 162246 entries, 0 to 2670251\n",
      "Data columns (total 11 columns):\n",
      " #   Column                Non-Null Count   Dtype              \n",
      "---  ------                --------------   -----              \n",
      " 0   unique_key            162246 non-null  int64              \n",
      " 1   date                  162246 non-null  datetime64[ns, UTC]\n",
      " 2   primary_type          162246 non-null  object             \n",
      " 3   location_description  162246 non-null  object             \n",
      " 4   arrest                162246 non-null  bool               \n",
      " 5   domestic              162246 non-null  bool               \n",
      " 6   beat                  162246 non-null  int64              \n",
      " 7   community_area        162246 non-null  float64            \n",
      " 8   month                 162246 non-null  object             \n",
      " 9   year                  162246 non-null  object             \n",
      " 10  only_month            162246 non-null  object             \n",
      "dtypes: bool(2), datetime64[ns, UTC](1), float64(1), int64(2), object(5)\n",
      "memory usage: 16.7+ MB\n"
     ]
    }
   ],
   "source": [
    "df_deceptivePractice.info()"
   ]
  },
  {
   "cell_type": "markdown",
   "id": "027d7f0f",
   "metadata": {},
   "source": [
    "## 기간별 발생 수"
   ]
  },
  {
   "cell_type": "code",
   "execution_count": 473,
   "id": "7c3ad40c",
   "metadata": {},
   "outputs": [
    {
     "data": {
      "text/html": [
       "<div>\n",
       "<style scoped>\n",
       "    .dataframe tbody tr th:only-of-type {\n",
       "        vertical-align: middle;\n",
       "    }\n",
       "\n",
       "    .dataframe tbody tr th {\n",
       "        vertical-align: top;\n",
       "    }\n",
       "\n",
       "    .dataframe thead th {\n",
       "        text-align: right;\n",
       "    }\n",
       "</style>\n",
       "<table border=\"1\" class=\"dataframe\">\n",
       "  <thead>\n",
       "    <tr style=\"text-align: right;\">\n",
       "      <th></th>\n",
       "      <th>index</th>\n",
       "      <th>year</th>\n",
       "    </tr>\n",
       "  </thead>\n",
       "  <tbody>\n",
       "    <tr>\n",
       "      <th>9</th>\n",
       "      <td>2012</td>\n",
       "      <td>13475</td>\n",
       "    </tr>\n",
       "    <tr>\n",
       "      <th>8</th>\n",
       "      <td>2013</td>\n",
       "      <td>13590</td>\n",
       "    </tr>\n",
       "    <tr>\n",
       "      <th>7</th>\n",
       "      <td>2014</td>\n",
       "      <td>15496</td>\n",
       "    </tr>\n",
       "    <tr>\n",
       "      <th>5</th>\n",
       "      <td>2015</td>\n",
       "      <td>15654</td>\n",
       "    </tr>\n",
       "    <tr>\n",
       "      <th>2</th>\n",
       "      <td>2016</td>\n",
       "      <td>17837</td>\n",
       "    </tr>\n",
       "    <tr>\n",
       "      <th>1</th>\n",
       "      <td>2017</td>\n",
       "      <td>18136</td>\n",
       "    </tr>\n",
       "    <tr>\n",
       "      <th>0</th>\n",
       "      <td>2018</td>\n",
       "      <td>18453</td>\n",
       "    </tr>\n",
       "    <tr>\n",
       "      <th>3</th>\n",
       "      <td>2019</td>\n",
       "      <td>17478</td>\n",
       "    </tr>\n",
       "    <tr>\n",
       "      <th>4</th>\n",
       "      <td>2020</td>\n",
       "      <td>16561</td>\n",
       "    </tr>\n",
       "    <tr>\n",
       "      <th>6</th>\n",
       "      <td>2021</td>\n",
       "      <td>15566</td>\n",
       "    </tr>\n",
       "  </tbody>\n",
       "</table>\n",
       "</div>"
      ],
      "text/plain": [
       "  index   year\n",
       "9  2012  13475\n",
       "8  2013  13590\n",
       "7  2014  15496\n",
       "5  2015  15654\n",
       "2  2016  17837\n",
       "1  2017  18136\n",
       "0  2018  18453\n",
       "3  2019  17478\n",
       "4  2020  16561\n",
       "6  2021  15566"
      ]
     },
     "execution_count": 473,
     "metadata": {},
     "output_type": "execute_result"
    }
   ],
   "source": [
    "df_deceptivePractice['year'].value_counts().reset_index().sort_values(by = 'index')"
   ]
  },
  {
   "cell_type": "code",
   "execution_count": 474,
   "id": "3a96f90c",
   "metadata": {},
   "outputs": [
    {
     "data": {
      "text/plain": [
       "2018    136.942486\n",
       "2017    134.589981\n",
       "2016    132.371058\n",
       "2019    129.706865\n",
       "2020    122.901670\n",
       "2015    116.170686\n",
       "2021    115.517625\n",
       "2014    114.998145\n",
       "2013    100.853432\n",
       "2012    100.000000\n",
       "Name: year, dtype: float64"
      ]
     },
     "execution_count": 474,
     "metadata": {},
     "output_type": "execute_result"
    }
   ],
   "source": [
    "df_deceptivePractice['year'].value_counts() / 13475 *100"
   ]
  },
  {
   "cell_type": "code",
   "execution_count": 478,
   "id": "26c02bea",
   "metadata": {},
   "outputs": [
    {
     "data": {
      "image/png": "[encoded data removed]",
      "text/plain": [
       "<Figure size 432x288 with 1 Axes>"
      ]
     },
     "metadata": {},
     "output_type": "display_data"
    }
   ],
   "source": [
    "sns.lineplot(data = df_deceptivePractice['year'].value_counts().reset_index().sort_values(by = 'index'), x = 'index', y = 'year', color = 'tab:blue')\n",
    "plt.ylim(bottom = 0)\n",
    "plt.show()"
   ]
  },
  {
   "cell_type": "markdown",
   "id": "4874ef02",
   "metadata": {},
   "source": [
    "- 다른 범죄와는 다르게 우상향인 편\n",
    "- 2021년 발생 건수는 2012년 발생 건수의 약 115%"
   ]
  },
  {
   "cell_type": "markdown",
   "id": "fc639fc6",
   "metadata": {},
   "source": [
    "## 가장 많이 일어난 장소(location_description)"
   ]
  },
  {
   "cell_type": "code",
   "execution_count": 219,
   "id": "529b5af0",
   "metadata": {},
   "outputs": [
    {
     "data": {
      "text/plain": [
       "RESIDENCE                         56340\n",
       "APARTMENT                         21022\n",
       "OTHER                             15437\n",
       "STREET                             7934\n",
       "BANK                               6465\n",
       "RESTAURANT                         6310\n",
       "SMALL RETAIL STORE                 4656\n",
       "DEPARTMENT STORE                   4081\n",
       "ATM (AUTOMATIC TELLER MACHINE)     3576\n",
       "CTA PLATFORM                       3347\n",
       "Name: location_description, dtype: int64"
      ]
     },
     "execution_count": 219,
     "metadata": {},
     "output_type": "execute_result"
    }
   ],
   "source": [
    "df_deceptivePractice['location_description'].value_counts().head(10)"
   ]
  },
  {
   "cell_type": "code",
   "execution_count": 479,
   "id": "3a3f8cc2",
   "metadata": {},
   "outputs": [
    {
     "data": {
      "text/plain": [
       "RESIDENCE                         34.725047\n",
       "APARTMENT                         12.956868\n",
       "OTHER                              9.514564\n",
       "STREET                             4.890105\n",
       "BANK                               3.984690\n",
       "RESTAURANT                         3.889156\n",
       "SMALL RETAIL STORE                 2.869716\n",
       "DEPARTMENT STORE                   2.515316\n",
       "ATM (AUTOMATIC TELLER MACHINE)     2.204061\n",
       "CTA PLATFORM                       2.062917\n",
       "Name: location_description, dtype: float64"
      ]
     },
     "execution_count": 479,
     "metadata": {},
     "output_type": "execute_result"
    }
   ],
   "source": [
    "df_deceptivePractice['location_description'].value_counts().head(10) / 162246 *100"
   ]
  },
  {
   "cell_type": "code",
   "execution_count": 544,
   "id": "e308e8f7",
   "metadata": {},
   "outputs": [
    {
     "data": {
      "image/png": "[encoded data removed]",
      "text/plain": [
       "<Figure size 576x360 with 1 Axes>"
      ]
     },
     "metadata": {},
     "output_type": "display_data"
    }
   ],
   "source": [
    "plt.figure(figsize = (8,5))\n",
    "plt.bar(data = df_deceptivePractice['location_description'].value_counts().head(10).reset_index(), x = 'index', height = 'location_description', color = 'tab:blue')\n",
    "plt.xticks(rotation = 45, ha = 'right')\n",
    "plt.show()"
   ]
  },
  {
   "cell_type": "markdown",
   "id": "9a719cbc",
   "metadata": {},
   "source": [
    "- 부당거래는 거주지에서 가장 많이 일어난다. 전체의 약 35%\n",
    "- 주택, 아파트 중심으로 약 50% 가까이 일어났다."
   ]
  },
  {
   "cell_type": "markdown",
   "id": "dd4d3b4c",
   "metadata": {},
   "source": [
    "## 가장 많이 일어난 구역 (community_area)"
   ]
  },
  {
   "cell_type": "code",
   "execution_count": 220,
   "id": "7a96d78d",
   "metadata": {},
   "outputs": [
    {
     "data": {
      "text/plain": [
       "8.0     13460\n",
       "32.0    11280\n",
       "25.0     6882\n",
       "28.0     6455\n",
       "6.0      5932\n",
       "24.0     4448\n",
       "43.0     3955\n",
       "7.0      3836\n",
       "44.0     3569\n",
       "71.0     3493\n",
       "Name: community_area, dtype: int64"
      ]
     },
     "execution_count": 220,
     "metadata": {},
     "output_type": "execute_result"
    }
   ],
   "source": [
    "df_deceptivePractice['community_area'].value_counts().head(10)"
   ]
  },
  {
   "cell_type": "code",
   "execution_count": 545,
   "id": "0b9eae4d",
   "metadata": {},
   "outputs": [
    {
     "data": {
      "text/html": [
       "<div>\n",
       "<style scoped>\n",
       "    .dataframe tbody tr th:only-of-type {\n",
       "        vertical-align: middle;\n",
       "    }\n",
       "\n",
       "    .dataframe tbody tr th {\n",
       "        vertical-align: top;\n",
       "    }\n",
       "\n",
       "    .dataframe thead th {\n",
       "        text-align: right;\n",
       "    }\n",
       "</style>\n",
       "<table border=\"1\" class=\"dataframe\">\n",
       "  <thead>\n",
       "    <tr style=\"text-align: right;\">\n",
       "      <th></th>\n",
       "      <th>index</th>\n",
       "      <th>community_area</th>\n",
       "    </tr>\n",
       "  </thead>\n",
       "  <tbody>\n",
       "    <tr>\n",
       "      <th>0</th>\n",
       "      <td>8.0</td>\n",
       "      <td>13460</td>\n",
       "    </tr>\n",
       "    <tr>\n",
       "      <th>1</th>\n",
       "      <td>32.0</td>\n",
       "      <td>11280</td>\n",
       "    </tr>\n",
       "    <tr>\n",
       "      <th>2</th>\n",
       "      <td>25.0</td>\n",
       "      <td>6882</td>\n",
       "    </tr>\n",
       "    <tr>\n",
       "      <th>3</th>\n",
       "      <td>28.0</td>\n",
       "      <td>6455</td>\n",
       "    </tr>\n",
       "    <tr>\n",
       "      <th>4</th>\n",
       "      <td>6.0</td>\n",
       "      <td>5932</td>\n",
       "    </tr>\n",
       "    <tr>\n",
       "      <th>5</th>\n",
       "      <td>24.0</td>\n",
       "      <td>4448</td>\n",
       "    </tr>\n",
       "    <tr>\n",
       "      <th>6</th>\n",
       "      <td>43.0</td>\n",
       "      <td>3955</td>\n",
       "    </tr>\n",
       "    <tr>\n",
       "      <th>7</th>\n",
       "      <td>7.0</td>\n",
       "      <td>3836</td>\n",
       "    </tr>\n",
       "    <tr>\n",
       "      <th>8</th>\n",
       "      <td>44.0</td>\n",
       "      <td>3569</td>\n",
       "    </tr>\n",
       "    <tr>\n",
       "      <th>9</th>\n",
       "      <td>71.0</td>\n",
       "      <td>3493</td>\n",
       "    </tr>\n",
       "  </tbody>\n",
       "</table>\n",
       "</div>"
      ],
      "text/plain": [
       "   index  community_area\n",
       "0    8.0           13460\n",
       "1   32.0           11280\n",
       "2   25.0            6882\n",
       "3   28.0            6455\n",
       "4    6.0            5932\n",
       "5   24.0            4448\n",
       "6   43.0            3955\n",
       "7    7.0            3836\n",
       "8   44.0            3569\n",
       "9   71.0            3493"
      ]
     },
     "execution_count": 545,
     "metadata": {},
     "output_type": "execute_result"
    }
   ],
   "source": [
    "df_deceptivePractice_commu = df_deceptivePractice['community_area'].value_counts().head(10).reset_index()\n",
    "df_deceptivePractice_commu"
   ]
  },
  {
   "cell_type": "code",
   "execution_count": 546,
   "id": "d760315c",
   "metadata": {},
   "outputs": [],
   "source": [
    "df_deceptivePractice_commu['index'] = df_deceptivePractice_commu['index'].astype('int32')\n",
    "df_deceptivePractice_commu['index'] = df_deceptivePractice_commu['index'].astype('str')"
   ]
  },
  {
   "cell_type": "code",
   "execution_count": 547,
   "id": "a20caf00",
   "metadata": {},
   "outputs": [
    {
     "data": {
      "image/png": "[encoded data removed]",
      "text/plain": [
       "<Figure size 576x360 with 1 Axes>"
      ]
     },
     "metadata": {},
     "output_type": "display_data"
    }
   ],
   "source": [
    "plt.figure(figsize = (8,5))\n",
    "plt.bar(data = df_deceptivePractice_commu, x = 'index', height = 'community_area', color = 'tab:blue')\n",
    "plt.show()"
   ]
  },
  {
   "cell_type": "markdown",
   "id": "7a3fe465",
   "metadata": {},
   "source": [
    "## 관할 지구대"
   ]
  },
  {
   "cell_type": "code",
   "execution_count": 480,
   "id": "983f88fb",
   "metadata": {},
   "outputs": [
    {
     "data": {
      "text/plain": [
       "1834    3911\n",
       "122     2681\n",
       "112     2349\n",
       "111     2153\n",
       "1831    2148\n",
       "1833    2116\n",
       "123     1915\n",
       "1832    1807\n",
       "1824    1517\n",
       "1925    1270\n",
       "Name: beat, dtype: int64"
      ]
     },
     "execution_count": 480,
     "metadata": {},
     "output_type": "execute_result"
    }
   ],
   "source": [
    "df_deceptivePractice['beat'].value_counts().head(10)"
   ]
  },
  {
   "cell_type": "code",
   "execution_count": 548,
   "id": "019c8578",
   "metadata": {},
   "outputs": [
    {
     "data": {
      "text/html": [
       "<div>\n",
       "<style scoped>\n",
       "    .dataframe tbody tr th:only-of-type {\n",
       "        vertical-align: middle;\n",
       "    }\n",
       "\n",
       "    .dataframe tbody tr th {\n",
       "        vertical-align: top;\n",
       "    }\n",
       "\n",
       "    .dataframe thead th {\n",
       "        text-align: right;\n",
       "    }\n",
       "</style>\n",
       "<table border=\"1\" class=\"dataframe\">\n",
       "  <thead>\n",
       "    <tr style=\"text-align: right;\">\n",
       "      <th></th>\n",
       "      <th>index</th>\n",
       "      <th>beat</th>\n",
       "    </tr>\n",
       "  </thead>\n",
       "  <tbody>\n",
       "    <tr>\n",
       "      <th>0</th>\n",
       "      <td>1834</td>\n",
       "      <td>3911</td>\n",
       "    </tr>\n",
       "    <tr>\n",
       "      <th>1</th>\n",
       "      <td>122</td>\n",
       "      <td>2681</td>\n",
       "    </tr>\n",
       "    <tr>\n",
       "      <th>2</th>\n",
       "      <td>112</td>\n",
       "      <td>2349</td>\n",
       "    </tr>\n",
       "    <tr>\n",
       "      <th>3</th>\n",
       "      <td>111</td>\n",
       "      <td>2153</td>\n",
       "    </tr>\n",
       "    <tr>\n",
       "      <th>4</th>\n",
       "      <td>1831</td>\n",
       "      <td>2148</td>\n",
       "    </tr>\n",
       "    <tr>\n",
       "      <th>5</th>\n",
       "      <td>1833</td>\n",
       "      <td>2116</td>\n",
       "    </tr>\n",
       "    <tr>\n",
       "      <th>6</th>\n",
       "      <td>123</td>\n",
       "      <td>1915</td>\n",
       "    </tr>\n",
       "    <tr>\n",
       "      <th>7</th>\n",
       "      <td>1832</td>\n",
       "      <td>1807</td>\n",
       "    </tr>\n",
       "    <tr>\n",
       "      <th>8</th>\n",
       "      <td>1824</td>\n",
       "      <td>1517</td>\n",
       "    </tr>\n",
       "    <tr>\n",
       "      <th>9</th>\n",
       "      <td>1925</td>\n",
       "      <td>1270</td>\n",
       "    </tr>\n",
       "  </tbody>\n",
       "</table>\n",
       "</div>"
      ],
      "text/plain": [
       "   index  beat\n",
       "0   1834  3911\n",
       "1    122  2681\n",
       "2    112  2349\n",
       "3    111  2153\n",
       "4   1831  2148\n",
       "5   1833  2116\n",
       "6    123  1915\n",
       "7   1832  1807\n",
       "8   1824  1517\n",
       "9   1925  1270"
      ]
     },
     "execution_count": 548,
     "metadata": {},
     "output_type": "execute_result"
    }
   ],
   "source": [
    "df_deceptivePractice_beat = df_deceptivePractice['beat'].value_counts().head(10).reset_index()\n",
    "df_deceptivePractice_beat"
   ]
  },
  {
   "cell_type": "code",
   "execution_count": 549,
   "id": "1d9438ec",
   "metadata": {},
   "outputs": [],
   "source": [
    "df_deceptivePractice_beat['index'] = df_deceptivePractice_beat['index'].astype('str')"
   ]
  },
  {
   "cell_type": "code",
   "execution_count": 550,
   "id": "cabceadf",
   "metadata": {},
   "outputs": [
    {
     "data": {
      "image/png": "[encoded data removed]",
      "text/plain": [
       "<Figure size 576x360 with 1 Axes>"
      ]
     },
     "metadata": {},
     "output_type": "display_data"
    }
   ],
   "source": [
    "plt.figure(figsize = (8,5))\n",
    "plt.bar(data = df_deceptivePractice_beat, x = 'index', height = 'beat', color = 'tab:blue')\n",
    "plt.show()"
   ]
  },
  {
   "cell_type": "markdown",
   "id": "f0595ce6",
   "metadata": {},
   "source": [
    "- 왜 계속 비슷한 지역에서 범죄가 일어나나요 ㅠ\n"
   ]
  },
  {
   "cell_type": "markdown",
   "id": "6a3c1cd8",
   "metadata": {},
   "source": [
    "## 체포 여부 (arrest)"
   ]
  },
  {
   "cell_type": "code",
   "execution_count": 481,
   "id": "3bd6ba22",
   "metadata": {},
   "outputs": [
    {
     "data": {
      "text/plain": [
       "False    92.441108\n",
       "True      7.558892\n",
       "Name: arrest, dtype: float64"
      ]
     },
     "execution_count": 481,
     "metadata": {},
     "output_type": "execute_result"
    }
   ],
   "source": [
    "df_deceptivePractice['arrest'].value_counts().head(10) / 162246 *100"
   ]
  },
  {
   "cell_type": "code",
   "execution_count": 222,
   "id": "ce2642ea",
   "metadata": {},
   "outputs": [
    {
     "data": {
      "image/png": "[encoded data removed]",
      "text/plain": [
       "<Figure size 432x288 with 1 Axes>"
      ]
     },
     "metadata": {},
     "output_type": "display_data"
    }
   ],
   "source": [
    "sns.countplot(data = df_deceptivePractice, x = 'year', hue = 'arrest')\n",
    "plt.show()"
   ]
  },
  {
   "cell_type": "code",
   "execution_count": 482,
   "id": "7c63cd33",
   "metadata": {},
   "outputs": [
    {
     "data": {
      "text/html": [
       "<div>\n",
       "<style scoped>\n",
       "    .dataframe tbody tr th:only-of-type {\n",
       "        vertical-align: middle;\n",
       "    }\n",
       "\n",
       "    .dataframe tbody tr th {\n",
       "        vertical-align: top;\n",
       "    }\n",
       "\n",
       "    .dataframe thead th {\n",
       "        text-align: right;\n",
       "    }\n",
       "</style>\n",
       "<table border=\"1\" class=\"dataframe\">\n",
       "  <thead>\n",
       "    <tr style=\"text-align: right;\">\n",
       "      <th></th>\n",
       "      <th>year</th>\n",
       "      <th>arrest</th>\n",
       "      <th>count</th>\n",
       "    </tr>\n",
       "  </thead>\n",
       "  <tbody>\n",
       "    <tr>\n",
       "      <th>0</th>\n",
       "      <td>2012</td>\n",
       "      <td>False</td>\n",
       "      <td>10506</td>\n",
       "    </tr>\n",
       "    <tr>\n",
       "      <th>1</th>\n",
       "      <td>2012</td>\n",
       "      <td>True</td>\n",
       "      <td>2969</td>\n",
       "    </tr>\n",
       "    <tr>\n",
       "      <th>2</th>\n",
       "      <td>2013</td>\n",
       "      <td>False</td>\n",
       "      <td>11077</td>\n",
       "    </tr>\n",
       "    <tr>\n",
       "      <th>3</th>\n",
       "      <td>2013</td>\n",
       "      <td>True</td>\n",
       "      <td>2513</td>\n",
       "    </tr>\n",
       "    <tr>\n",
       "      <th>4</th>\n",
       "      <td>2014</td>\n",
       "      <td>False</td>\n",
       "      <td>13726</td>\n",
       "    </tr>\n",
       "    <tr>\n",
       "      <th>5</th>\n",
       "      <td>2014</td>\n",
       "      <td>True</td>\n",
       "      <td>1770</td>\n",
       "    </tr>\n",
       "    <tr>\n",
       "      <th>6</th>\n",
       "      <td>2015</td>\n",
       "      <td>False</td>\n",
       "      <td>14638</td>\n",
       "    </tr>\n",
       "    <tr>\n",
       "      <th>7</th>\n",
       "      <td>2015</td>\n",
       "      <td>True</td>\n",
       "      <td>1016</td>\n",
       "    </tr>\n",
       "    <tr>\n",
       "      <th>8</th>\n",
       "      <td>2016</td>\n",
       "      <td>False</td>\n",
       "      <td>17012</td>\n",
       "    </tr>\n",
       "    <tr>\n",
       "      <th>9</th>\n",
       "      <td>2016</td>\n",
       "      <td>True</td>\n",
       "      <td>825</td>\n",
       "    </tr>\n",
       "    <tr>\n",
       "      <th>10</th>\n",
       "      <td>2017</td>\n",
       "      <td>False</td>\n",
       "      <td>17296</td>\n",
       "    </tr>\n",
       "    <tr>\n",
       "      <th>11</th>\n",
       "      <td>2017</td>\n",
       "      <td>True</td>\n",
       "      <td>840</td>\n",
       "    </tr>\n",
       "    <tr>\n",
       "      <th>12</th>\n",
       "      <td>2018</td>\n",
       "      <td>False</td>\n",
       "      <td>17566</td>\n",
       "    </tr>\n",
       "    <tr>\n",
       "      <th>13</th>\n",
       "      <td>2018</td>\n",
       "      <td>True</td>\n",
       "      <td>887</td>\n",
       "    </tr>\n",
       "    <tr>\n",
       "      <th>14</th>\n",
       "      <td>2019</td>\n",
       "      <td>False</td>\n",
       "      <td>16600</td>\n",
       "    </tr>\n",
       "    <tr>\n",
       "      <th>15</th>\n",
       "      <td>2019</td>\n",
       "      <td>True</td>\n",
       "      <td>878</td>\n",
       "    </tr>\n",
       "    <tr>\n",
       "      <th>16</th>\n",
       "      <td>2020</td>\n",
       "      <td>False</td>\n",
       "      <td>16194</td>\n",
       "    </tr>\n",
       "    <tr>\n",
       "      <th>17</th>\n",
       "      <td>2020</td>\n",
       "      <td>True</td>\n",
       "      <td>367</td>\n",
       "    </tr>\n",
       "    <tr>\n",
       "      <th>18</th>\n",
       "      <td>2021</td>\n",
       "      <td>False</td>\n",
       "      <td>15367</td>\n",
       "    </tr>\n",
       "    <tr>\n",
       "      <th>19</th>\n",
       "      <td>2021</td>\n",
       "      <td>True</td>\n",
       "      <td>199</td>\n",
       "    </tr>\n",
       "  </tbody>\n",
       "</table>\n",
       "</div>"
      ],
      "text/plain": [
       "    year  arrest  count\n",
       "0   2012   False  10506\n",
       "1   2012    True   2969\n",
       "2   2013   False  11077\n",
       "3   2013    True   2513\n",
       "4   2014   False  13726\n",
       "5   2014    True   1770\n",
       "6   2015   False  14638\n",
       "7   2015    True   1016\n",
       "8   2016   False  17012\n",
       "9   2016    True    825\n",
       "10  2017   False  17296\n",
       "11  2017    True    840\n",
       "12  2018   False  17566\n",
       "13  2018    True    887\n",
       "14  2019   False  16600\n",
       "15  2019    True    878\n",
       "16  2020   False  16194\n",
       "17  2020    True    367\n",
       "18  2021   False  15367\n",
       "19  2021    True    199"
      ]
     },
     "execution_count": 482,
     "metadata": {},
     "output_type": "execute_result"
    }
   ],
   "source": [
    "df_deceptivePractice_arrest = pd.DataFrame(df_deceptivePractice.groupby('year')['arrest'].value_counts())\n",
    "df_deceptivePractice_arrest.columns = ['count']\n",
    "df_deceptivePractice_arrest = df_deceptivePractice_arrest.reset_index()\n",
    "df_deceptivePractice_arrest"
   ]
  },
  {
   "cell_type": "code",
   "execution_count": 483,
   "id": "416d1750",
   "metadata": {},
   "outputs": [
    {
     "name": "stdout",
     "output_type": "stream",
     "text": [
      "<class 'pandas.core.frame.DataFrame'>\n",
      "RangeIndex: 20 entries, 0 to 19\n",
      "Data columns (total 3 columns):\n",
      " #   Column  Non-Null Count  Dtype\n",
      "---  ------  --------------  -----\n",
      " 0   year    20 non-null     int32\n",
      " 1   arrest  20 non-null     bool \n",
      " 2   count   20 non-null     int64\n",
      "dtypes: bool(1), int32(1), int64(1)\n",
      "memory usage: 388.0 bytes\n"
     ]
    }
   ],
   "source": [
    "df_deceptivePractice_arrest['year'] = df_deceptivePractice_arrest['year'].astype('int32')\n",
    "df_deceptivePractice_arrest.info()"
   ]
  },
  {
   "cell_type": "code",
   "execution_count": 484,
   "id": "b59b7f33",
   "metadata": {},
   "outputs": [
    {
     "data": {
      "text/html": [
       "<div>\n",
       "<style scoped>\n",
       "    .dataframe tbody tr th:only-of-type {\n",
       "        vertical-align: middle;\n",
       "    }\n",
       "\n",
       "    .dataframe tbody tr th {\n",
       "        vertical-align: top;\n",
       "    }\n",
       "\n",
       "    .dataframe thead th {\n",
       "        text-align: right;\n",
       "    }\n",
       "</style>\n",
       "<table border=\"1\" class=\"dataframe\">\n",
       "  <thead>\n",
       "    <tr style=\"text-align: right;\">\n",
       "      <th></th>\n",
       "      <th>year</th>\n",
       "      <th>ratio</th>\n",
       "    </tr>\n",
       "  </thead>\n",
       "  <tbody>\n",
       "  </tbody>\n",
       "</table>\n",
       "</div>"
      ],
      "text/plain": [
       "Empty DataFrame\n",
       "Columns: [year, ratio]\n",
       "Index: []"
      ]
     },
     "execution_count": 484,
     "metadata": {},
     "output_type": "execute_result"
    }
   ],
   "source": [
    "deceptivePractice_arrest_ratio = pd.DataFrame(columns = ['year', 'ratio'])\n",
    "deceptivePractice_arrest_ratio"
   ]
  },
  {
   "cell_type": "code",
   "execution_count": 485,
   "id": "33fa6bc7",
   "metadata": {
    "scrolled": true
   },
   "outputs": [
    {
     "data": {
      "text/html": [
       "<div>\n",
       "<style scoped>\n",
       "    .dataframe tbody tr th:only-of-type {\n",
       "        vertical-align: middle;\n",
       "    }\n",
       "\n",
       "    .dataframe tbody tr th {\n",
       "        vertical-align: top;\n",
       "    }\n",
       "\n",
       "    .dataframe thead th {\n",
       "        text-align: right;\n",
       "    }\n",
       "</style>\n",
       "<table border=\"1\" class=\"dataframe\">\n",
       "  <thead>\n",
       "    <tr style=\"text-align: right;\">\n",
       "      <th></th>\n",
       "      <th>year</th>\n",
       "      <th>ratio</th>\n",
       "    </tr>\n",
       "  </thead>\n",
       "  <tbody>\n",
       "    <tr>\n",
       "      <th>0</th>\n",
       "      <td>2012.0</td>\n",
       "      <td>22.03</td>\n",
       "    </tr>\n",
       "    <tr>\n",
       "      <th>1</th>\n",
       "      <td>2013.0</td>\n",
       "      <td>18.49</td>\n",
       "    </tr>\n",
       "    <tr>\n",
       "      <th>2</th>\n",
       "      <td>2014.0</td>\n",
       "      <td>11.42</td>\n",
       "    </tr>\n",
       "    <tr>\n",
       "      <th>3</th>\n",
       "      <td>2015.0</td>\n",
       "      <td>6.49</td>\n",
       "    </tr>\n",
       "    <tr>\n",
       "      <th>4</th>\n",
       "      <td>2016.0</td>\n",
       "      <td>4.63</td>\n",
       "    </tr>\n",
       "    <tr>\n",
       "      <th>5</th>\n",
       "      <td>2017.0</td>\n",
       "      <td>4.63</td>\n",
       "    </tr>\n",
       "    <tr>\n",
       "      <th>6</th>\n",
       "      <td>2018.0</td>\n",
       "      <td>4.81</td>\n",
       "    </tr>\n",
       "    <tr>\n",
       "      <th>7</th>\n",
       "      <td>2019.0</td>\n",
       "      <td>5.02</td>\n",
       "    </tr>\n",
       "    <tr>\n",
       "      <th>8</th>\n",
       "      <td>2020.0</td>\n",
       "      <td>2.22</td>\n",
       "    </tr>\n",
       "    <tr>\n",
       "      <th>9</th>\n",
       "      <td>2021.0</td>\n",
       "      <td>1.28</td>\n",
       "    </tr>\n",
       "  </tbody>\n",
       "</table>\n",
       "</div>"
      ],
      "text/plain": [
       "     year  ratio\n",
       "0  2012.0  22.03\n",
       "1  2013.0  18.49\n",
       "2  2014.0  11.42\n",
       "3  2015.0   6.49\n",
       "4  2016.0   4.63\n",
       "5  2017.0   4.63\n",
       "6  2018.0   4.81\n",
       "7  2019.0   5.02\n",
       "8  2020.0   2.22\n",
       "9  2021.0   1.28"
      ]
     },
     "execution_count": 485,
     "metadata": {},
     "output_type": "execute_result"
    }
   ],
   "source": [
    "arrest_ratio(2012, df_deceptivePractice_arrest, deceptivePractice_arrest_ratio)\n",
    "deceptivePractice_arrest_ratio"
   ]
  },
  {
   "cell_type": "code",
   "execution_count": 487,
   "id": "632c3b99",
   "metadata": {},
   "outputs": [
    {
     "data": {
      "text/html": [
       "<div>\n",
       "<style scoped>\n",
       "    .dataframe tbody tr th:only-of-type {\n",
       "        vertical-align: middle;\n",
       "    }\n",
       "\n",
       "    .dataframe tbody tr th {\n",
       "        vertical-align: top;\n",
       "    }\n",
       "\n",
       "    .dataframe thead th {\n",
       "        text-align: right;\n",
       "    }\n",
       "</style>\n",
       "<table border=\"1\" class=\"dataframe\">\n",
       "  <thead>\n",
       "    <tr style=\"text-align: right;\">\n",
       "      <th></th>\n",
       "      <th>year</th>\n",
       "      <th>ratio</th>\n",
       "    </tr>\n",
       "  </thead>\n",
       "  <tbody>\n",
       "    <tr>\n",
       "      <th>count</th>\n",
       "      <td>10.00000</td>\n",
       "      <td>10.000000</td>\n",
       "    </tr>\n",
       "    <tr>\n",
       "      <th>mean</th>\n",
       "      <td>2016.50000</td>\n",
       "      <td>8.102000</td>\n",
       "    </tr>\n",
       "    <tr>\n",
       "      <th>std</th>\n",
       "      <td>3.02765</td>\n",
       "      <td>7.000719</td>\n",
       "    </tr>\n",
       "    <tr>\n",
       "      <th>min</th>\n",
       "      <td>2012.00000</td>\n",
       "      <td>1.280000</td>\n",
       "    </tr>\n",
       "    <tr>\n",
       "      <th>25%</th>\n",
       "      <td>2014.25000</td>\n",
       "      <td>4.630000</td>\n",
       "    </tr>\n",
       "    <tr>\n",
       "      <th>50%</th>\n",
       "      <td>2016.50000</td>\n",
       "      <td>4.915000</td>\n",
       "    </tr>\n",
       "    <tr>\n",
       "      <th>75%</th>\n",
       "      <td>2018.75000</td>\n",
       "      <td>10.187500</td>\n",
       "    </tr>\n",
       "    <tr>\n",
       "      <th>max</th>\n",
       "      <td>2021.00000</td>\n",
       "      <td>22.030000</td>\n",
       "    </tr>\n",
       "  </tbody>\n",
       "</table>\n",
       "</div>"
      ],
      "text/plain": [
       "             year      ratio\n",
       "count    10.00000  10.000000\n",
       "mean   2016.50000   8.102000\n",
       "std       3.02765   7.000719\n",
       "min    2012.00000   1.280000\n",
       "25%    2014.25000   4.630000\n",
       "50%    2016.50000   4.915000\n",
       "75%    2018.75000  10.187500\n",
       "max    2021.00000  22.030000"
      ]
     },
     "execution_count": 487,
     "metadata": {},
     "output_type": "execute_result"
    }
   ],
   "source": [
    "deceptivePractice_arrest_ratio.describe()"
   ]
  },
  {
   "cell_type": "code",
   "execution_count": 486,
   "id": "d411f0ce",
   "metadata": {},
   "outputs": [
    {
     "data": {
      "image/png": "[encoded data removed]",
      "text/plain": [
       "<Figure size 432x288 with 1 Axes>"
      ]
     },
     "metadata": {},
     "output_type": "display_data"
    }
   ],
   "source": [
    "sns.lineplot(data = deceptivePractice_arrest_ratio, x = 'year', y = 'ratio', color = 'tab:blue')\n",
    "plt.ylim(0,30)\n",
    "plt.show()"
   ]
  },
  {
   "cell_type": "markdown",
   "id": "41a6a17b",
   "metadata": {},
   "source": [
    "- 체포율이 최근 10년간 평균 약 8%로 낮다. 우하향을 그린다.\n",
    "- 2013~15년 사이 체포율이 급감하면서 나아지지 않고 있다."
   ]
  }
 ],
 "metadata": {
  "kernelspec": {
   "display_name": "Python 3 (ipykernel)",
   "language": "python",
   "name": "python3"
  },
  "language_info": {
   "codemirror_mode": {
    "name": "ipython",
    "version": 3
   },
   "file_extension": ".py",
   "mimetype": "text/x-python",
   "name": "python",
   "nbconvert_exporter": "python",
   "pygments_lexer": "ipython3",
   "version": "3.9.7"
  }
 },
 "nbformat": 4,
 "nbformat_minor": 5
}
