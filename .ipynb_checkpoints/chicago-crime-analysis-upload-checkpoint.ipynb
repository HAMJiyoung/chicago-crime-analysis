{
 "cells": [
  {
   "cell_type": "code",
   "execution_count": 1,
   "id": "4274a9d1",
   "metadata": {},
   "outputs": [],
   "source": [
    "import pandas as pd\n",
    "import numpy as np\n",
    "import matplotlib.pyplot as plt\n",
    "import seaborn as sns\n",
    "\n",
    "plt.style.use(\"ggplot\")"
   ]
  },
  {
   "cell_type": "markdown",
   "id": "2b0fa283",
   "metadata": {},
   "source": [
    "# 시카고의 안전을 위해\n",
    "\n",
    "최근 10년간의 데이터를 분석, 보완할 부분을 파악한다."
   ]
  },
  {
   "cell_type": "code",
   "execution_count": 6,
   "id": "4b27a0f3",
   "metadata": {
    "scrolled": true
   },
   "outputs": [
    {
     "data": {
      "text/html": [
       "<div>\n",
       "<style scoped>\n",
       "    .dataframe tbody tr th:only-of-type {\n",
       "        vertical-align: middle;\n",
       "    }\n",
       "\n",
       "    .dataframe tbody tr th {\n",
       "        vertical-align: top;\n",
       "    }\n",
       "\n",
       "    .dataframe thead th {\n",
       "        text-align: right;\n",
       "    }\n",
       "</style>\n",
       "<table border=\"1\" class=\"dataframe\">\n",
       "  <thead>\n",
       "    <tr style=\"text-align: right;\">\n",
       "      <th></th>\n",
       "      <th>unique_key</th>\n",
       "      <th>date</th>\n",
       "      <th>primary_type</th>\n",
       "      <th>location_description</th>\n",
       "      <th>arrest</th>\n",
       "      <th>domestic</th>\n",
       "      <th>beat</th>\n",
       "      <th>community_area</th>\n",
       "    </tr>\n",
       "  </thead>\n",
       "  <tbody>\n",
       "    <tr>\n",
       "      <th>0</th>\n",
       "      <td>8429131</td>\n",
       "      <td>2012-01-01 01:00:00+00:00</td>\n",
       "      <td>DECEPTIVE PRACTICE</td>\n",
       "      <td>ATM (AUTOMATIC TELLER MACHINE)</td>\n",
       "      <td>False</td>\n",
       "      <td>False</td>\n",
       "      <td>1834</td>\n",
       "      <td>8.0</td>\n",
       "    </tr>\n",
       "    <tr>\n",
       "      <th>1</th>\n",
       "      <td>8452622</td>\n",
       "      <td>2012-01-01 01:00:00+00:00</td>\n",
       "      <td>THEFT</td>\n",
       "      <td>TAVERN/LIQUOR STORE</td>\n",
       "      <td>False</td>\n",
       "      <td>False</td>\n",
       "      <td>1832</td>\n",
       "      <td>8.0</td>\n",
       "    </tr>\n",
       "    <tr>\n",
       "      <th>2</th>\n",
       "      <td>8608264</td>\n",
       "      <td>2012-01-01 01:00:00+00:00</td>\n",
       "      <td>THEFT</td>\n",
       "      <td>MEDICAL/DENTAL OFFICE</td>\n",
       "      <td>False</td>\n",
       "      <td>False</td>\n",
       "      <td>1423</td>\n",
       "      <td>24.0</td>\n",
       "    </tr>\n",
       "    <tr>\n",
       "      <th>3</th>\n",
       "      <td>9142576</td>\n",
       "      <td>2012-01-01 01:00:00+00:00</td>\n",
       "      <td>THEFT</td>\n",
       "      <td>SCHOOL, PUBLIC, BUILDING</td>\n",
       "      <td>False</td>\n",
       "      <td>False</td>\n",
       "      <td>1523</td>\n",
       "      <td>25.0</td>\n",
       "    </tr>\n",
       "    <tr>\n",
       "      <th>4</th>\n",
       "      <td>8421988</td>\n",
       "      <td>2012-01-01 01:00:00+00:00</td>\n",
       "      <td>BATTERY</td>\n",
       "      <td>PARK PROPERTY</td>\n",
       "      <td>True</td>\n",
       "      <td>True</td>\n",
       "      <td>1123</td>\n",
       "      <td>27.0</td>\n",
       "    </tr>\n",
       "  </tbody>\n",
       "</table>\n",
       "</div>"
      ],
      "text/plain": [
       "   unique_key                      date        primary_type  \\\n",
       "0     8429131 2012-01-01 01:00:00+00:00  DECEPTIVE PRACTICE   \n",
       "1     8452622 2012-01-01 01:00:00+00:00               THEFT   \n",
       "2     8608264 2012-01-01 01:00:00+00:00               THEFT   \n",
       "3     9142576 2012-01-01 01:00:00+00:00               THEFT   \n",
       "4     8421988 2012-01-01 01:00:00+00:00             BATTERY   \n",
       "\n",
       "             location_description  arrest  domestic  beat  community_area  \n",
       "0  ATM (AUTOMATIC TELLER MACHINE)   False     False  1834             8.0  \n",
       "1             TAVERN/LIQUOR STORE   False     False  1832             8.0  \n",
       "2           MEDICAL/DENTAL OFFICE   False     False  1423            24.0  \n",
       "3        SCHOOL, PUBLIC, BUILDING   False     False  1523            25.0  \n",
       "4                   PARK PROPERTY    True      True  1123            27.0  "
      ]
     },
     "execution_count": 6,
     "metadata": {},
     "output_type": "execute_result"
    }
   ],
   "source": [
    "query_string = \"\"\"\n",
    "SELECT unique_key,\n",
    "        date,\n",
    "        primary_type,\n",
    "        location_description,\n",
    "        arrest,\n",
    "        domestic,\n",
    "        beat,\n",
    "        community_area\n",
    "FROM `bigquery-public-data.chicago_crime.crime`\n",
    "where year between 2012 and 2021\n",
    "order by date ;\n",
    "\"\"\"\n",
    "\n",
    "df = client.query(query_string).to_dataframe()\n",
    "df.head()"
   ]
  },
  {
   "cell_type": "code",
   "execution_count": 7,
   "id": "a209dcee",
   "metadata": {},
   "outputs": [
    {
     "name": "stdout",
     "output_type": "stream",
     "text": [
      "<class 'pandas.core.frame.DataFrame'>\n",
      "RangeIndex: 2670253 entries, 0 to 2670252\n",
      "Data columns (total 8 columns):\n",
      " #   Column                Dtype              \n",
      "---  ------                -----              \n",
      " 0   unique_key            int64              \n",
      " 1   date                  datetime64[ns, UTC]\n",
      " 2   primary_type          object             \n",
      " 3   location_description  object             \n",
      " 4   arrest                bool               \n",
      " 5   domestic              bool               \n",
      " 6   beat                  int64              \n",
      " 7   community_area        float64            \n",
      "dtypes: bool(2), datetime64[ns, UTC](1), float64(1), int64(2), object(2)\n",
      "memory usage: 127.3+ MB\n"
     ]
    }
   ],
   "source": [
    "df.info()"
   ]
  },
  {
   "cell_type": "code",
   "execution_count": 44,
   "id": "6c41e8c8",
   "metadata": {},
   "outputs": [
    {
     "data": {
      "text/plain": [
       "unique_key                 0\n",
       "date                       0\n",
       "primary_type               0\n",
       "location_description    8442\n",
       "arrest                     0\n",
       "domestic                   0\n",
       "beat                       0\n",
       "community_area            32\n",
       "dtype: int64"
      ]
     },
     "execution_count": 44,
     "metadata": {},
     "output_type": "execute_result"
    }
   ],
   "source": [
    "# 결측치 제거\n",
    "df.isna().sum()"
   ]
  },
  {
   "cell_type": "code",
   "execution_count": 179,
   "id": "3e4dd98e",
   "metadata": {},
   "outputs": [
    {
     "data": {
      "text/html": [
       "<div>\n",
       "<style scoped>\n",
       "    .dataframe tbody tr th:only-of-type {\n",
       "        vertical-align: middle;\n",
       "    }\n",
       "\n",
       "    .dataframe tbody tr th {\n",
       "        vertical-align: top;\n",
       "    }\n",
       "\n",
       "    .dataframe thead th {\n",
       "        text-align: right;\n",
       "    }\n",
       "</style>\n",
       "<table border=\"1\" class=\"dataframe\">\n",
       "  <thead>\n",
       "    <tr style=\"text-align: right;\">\n",
       "      <th></th>\n",
       "      <th>unique_key</th>\n",
       "      <th>date</th>\n",
       "      <th>primary_type</th>\n",
       "      <th>location_description</th>\n",
       "      <th>arrest</th>\n",
       "      <th>domestic</th>\n",
       "      <th>beat</th>\n",
       "      <th>community_area</th>\n",
       "    </tr>\n",
       "  </thead>\n",
       "  <tbody>\n",
       "    <tr>\n",
       "      <th>0</th>\n",
       "      <td>8429131</td>\n",
       "      <td>2012-01-01 01:00:00+00:00</td>\n",
       "      <td>DECEPTIVE PRACTICE</td>\n",
       "      <td>ATM (AUTOMATIC TELLER MACHINE)</td>\n",
       "      <td>False</td>\n",
       "      <td>False</td>\n",
       "      <td>1834</td>\n",
       "      <td>8.0</td>\n",
       "    </tr>\n",
       "    <tr>\n",
       "      <th>1</th>\n",
       "      <td>8452622</td>\n",
       "      <td>2012-01-01 01:00:00+00:00</td>\n",
       "      <td>THEFT</td>\n",
       "      <td>TAVERN/LIQUOR STORE</td>\n",
       "      <td>False</td>\n",
       "      <td>False</td>\n",
       "      <td>1832</td>\n",
       "      <td>8.0</td>\n",
       "    </tr>\n",
       "    <tr>\n",
       "      <th>2</th>\n",
       "      <td>8608264</td>\n",
       "      <td>2012-01-01 01:00:00+00:00</td>\n",
       "      <td>THEFT</td>\n",
       "      <td>MEDICAL/DENTAL OFFICE</td>\n",
       "      <td>False</td>\n",
       "      <td>False</td>\n",
       "      <td>1423</td>\n",
       "      <td>24.0</td>\n",
       "    </tr>\n",
       "    <tr>\n",
       "      <th>3</th>\n",
       "      <td>9142576</td>\n",
       "      <td>2012-01-01 01:00:00+00:00</td>\n",
       "      <td>THEFT</td>\n",
       "      <td>SCHOOL, PUBLIC, BUILDING</td>\n",
       "      <td>False</td>\n",
       "      <td>False</td>\n",
       "      <td>1523</td>\n",
       "      <td>25.0</td>\n",
       "    </tr>\n",
       "    <tr>\n",
       "      <th>4</th>\n",
       "      <td>8421988</td>\n",
       "      <td>2012-01-01 01:00:00+00:00</td>\n",
       "      <td>BATTERY</td>\n",
       "      <td>PARK PROPERTY</td>\n",
       "      <td>True</td>\n",
       "      <td>True</td>\n",
       "      <td>1123</td>\n",
       "      <td>27.0</td>\n",
       "    </tr>\n",
       "    <tr>\n",
       "      <th>...</th>\n",
       "      <td>...</td>\n",
       "      <td>...</td>\n",
       "      <td>...</td>\n",
       "      <td>...</td>\n",
       "      <td>...</td>\n",
       "      <td>...</td>\n",
       "      <td>...</td>\n",
       "      <td>...</td>\n",
       "    </tr>\n",
       "    <tr>\n",
       "      <th>2670248</th>\n",
       "      <td>12581388</td>\n",
       "      <td>2021-12-31 12:45:00+00:00</td>\n",
       "      <td>ASSAULT</td>\n",
       "      <td>APARTMENT</td>\n",
       "      <td>False</td>\n",
       "      <td>False</td>\n",
       "      <td>221</td>\n",
       "      <td>39.0</td>\n",
       "    </tr>\n",
       "    <tr>\n",
       "      <th>2670249</th>\n",
       "      <td>12581450</td>\n",
       "      <td>2021-12-31 12:45:00+00:00</td>\n",
       "      <td>CONCEALED CARRY LICENSE VIOLATION</td>\n",
       "      <td>STREET</td>\n",
       "      <td>True</td>\n",
       "      <td>False</td>\n",
       "      <td>614</td>\n",
       "      <td>71.0</td>\n",
       "    </tr>\n",
       "    <tr>\n",
       "      <th>2670250</th>\n",
       "      <td>12581977</td>\n",
       "      <td>2021-12-31 12:46:00+00:00</td>\n",
       "      <td>ASSAULT</td>\n",
       "      <td>COMMERCIAL / BUSINESS OFFICE</td>\n",
       "      <td>False</td>\n",
       "      <td>False</td>\n",
       "      <td>623</td>\n",
       "      <td>44.0</td>\n",
       "    </tr>\n",
       "    <tr>\n",
       "      <th>2670251</th>\n",
       "      <td>12582396</td>\n",
       "      <td>2021-12-31 12:49:00+00:00</td>\n",
       "      <td>DECEPTIVE PRACTICE</td>\n",
       "      <td>RESIDENCE</td>\n",
       "      <td>False</td>\n",
       "      <td>False</td>\n",
       "      <td>611</td>\n",
       "      <td>71.0</td>\n",
       "    </tr>\n",
       "    <tr>\n",
       "      <th>2670252</th>\n",
       "      <td>12581002</td>\n",
       "      <td>2021-12-31 12:55:00+00:00</td>\n",
       "      <td>BATTERY</td>\n",
       "      <td>BAR OR TAVERN</td>\n",
       "      <td>False</td>\n",
       "      <td>False</td>\n",
       "      <td>1424</td>\n",
       "      <td>24.0</td>\n",
       "    </tr>\n",
       "  </tbody>\n",
       "</table>\n",
       "<p>2661779 rows × 8 columns</p>\n",
       "</div>"
      ],
      "text/plain": [
       "         unique_key                      date  \\\n",
       "0           8429131 2012-01-01 01:00:00+00:00   \n",
       "1           8452622 2012-01-01 01:00:00+00:00   \n",
       "2           8608264 2012-01-01 01:00:00+00:00   \n",
       "3           9142576 2012-01-01 01:00:00+00:00   \n",
       "4           8421988 2012-01-01 01:00:00+00:00   \n",
       "...             ...                       ...   \n",
       "2670248    12581388 2021-12-31 12:45:00+00:00   \n",
       "2670249    12581450 2021-12-31 12:45:00+00:00   \n",
       "2670250    12581977 2021-12-31 12:46:00+00:00   \n",
       "2670251    12582396 2021-12-31 12:49:00+00:00   \n",
       "2670252    12581002 2021-12-31 12:55:00+00:00   \n",
       "\n",
       "                              primary_type            location_description  \\\n",
       "0                       DECEPTIVE PRACTICE  ATM (AUTOMATIC TELLER MACHINE)   \n",
       "1                                    THEFT             TAVERN/LIQUOR STORE   \n",
       "2                                    THEFT           MEDICAL/DENTAL OFFICE   \n",
       "3                                    THEFT        SCHOOL, PUBLIC, BUILDING   \n",
       "4                                  BATTERY                   PARK PROPERTY   \n",
       "...                                    ...                             ...   \n",
       "2670248                            ASSAULT                       APARTMENT   \n",
       "2670249  CONCEALED CARRY LICENSE VIOLATION                          STREET   \n",
       "2670250                            ASSAULT    COMMERCIAL / BUSINESS OFFICE   \n",
       "2670251                 DECEPTIVE PRACTICE                       RESIDENCE   \n",
       "2670252                            BATTERY                   BAR OR TAVERN   \n",
       "\n",
       "         arrest  domestic  beat  community_area  \n",
       "0         False     False  1834             8.0  \n",
       "1         False     False  1832             8.0  \n",
       "2         False     False  1423            24.0  \n",
       "3         False     False  1523            25.0  \n",
       "4          True      True  1123            27.0  \n",
       "...         ...       ...   ...             ...  \n",
       "2670248   False     False   221            39.0  \n",
       "2670249    True     False   614            71.0  \n",
       "2670250   False     False   623            44.0  \n",
       "2670251   False     False   611            71.0  \n",
       "2670252   False     False  1424            24.0  \n",
       "\n",
       "[2661779 rows x 8 columns]"
      ]
     },
     "execution_count": 179,
     "metadata": {},
     "output_type": "execute_result"
    }
   ],
   "source": [
    "df = df.dropna()\n",
    "df"
   ]
  },
  {
   "cell_type": "code",
   "execution_count": 180,
   "id": "97e9131d",
   "metadata": {},
   "outputs": [
    {
     "data": {
      "text/html": [
       "<div>\n",
       "<style scoped>\n",
       "    .dataframe tbody tr th:only-of-type {\n",
       "        vertical-align: middle;\n",
       "    }\n",
       "\n",
       "    .dataframe tbody tr th {\n",
       "        vertical-align: top;\n",
       "    }\n",
       "\n",
       "    .dataframe thead th {\n",
       "        text-align: right;\n",
       "    }\n",
       "</style>\n",
       "<table border=\"1\" class=\"dataframe\">\n",
       "  <thead>\n",
       "    <tr style=\"text-align: right;\">\n",
       "      <th></th>\n",
       "      <th>unique_key</th>\n",
       "      <th>date</th>\n",
       "      <th>primary_type</th>\n",
       "      <th>location_description</th>\n",
       "      <th>arrest</th>\n",
       "      <th>domestic</th>\n",
       "      <th>beat</th>\n",
       "      <th>community_area</th>\n",
       "    </tr>\n",
       "  </thead>\n",
       "  <tbody>\n",
       "    <tr>\n",
       "      <th>0</th>\n",
       "      <td>8429131</td>\n",
       "      <td>2012-01-01 01:00:00+00:00</td>\n",
       "      <td>DECEPTIVE PRACTICE</td>\n",
       "      <td>ATM (AUTOMATIC TELLER MACHINE)</td>\n",
       "      <td>False</td>\n",
       "      <td>False</td>\n",
       "      <td>1834</td>\n",
       "      <td>8.0</td>\n",
       "    </tr>\n",
       "    <tr>\n",
       "      <th>1</th>\n",
       "      <td>8452622</td>\n",
       "      <td>2012-01-01 01:00:00+00:00</td>\n",
       "      <td>THEFT</td>\n",
       "      <td>TAVERN/LIQUOR STORE</td>\n",
       "      <td>False</td>\n",
       "      <td>False</td>\n",
       "      <td>1832</td>\n",
       "      <td>8.0</td>\n",
       "    </tr>\n",
       "    <tr>\n",
       "      <th>2</th>\n",
       "      <td>8608264</td>\n",
       "      <td>2012-01-01 01:00:00+00:00</td>\n",
       "      <td>THEFT</td>\n",
       "      <td>MEDICAL/DENTAL OFFICE</td>\n",
       "      <td>False</td>\n",
       "      <td>False</td>\n",
       "      <td>1423</td>\n",
       "      <td>24.0</td>\n",
       "    </tr>\n",
       "    <tr>\n",
       "      <th>3</th>\n",
       "      <td>9142576</td>\n",
       "      <td>2012-01-01 01:00:00+00:00</td>\n",
       "      <td>THEFT</td>\n",
       "      <td>SCHOOL, PUBLIC, BUILDING</td>\n",
       "      <td>False</td>\n",
       "      <td>False</td>\n",
       "      <td>1523</td>\n",
       "      <td>25.0</td>\n",
       "    </tr>\n",
       "    <tr>\n",
       "      <th>5</th>\n",
       "      <td>9049473</td>\n",
       "      <td>2012-01-01 01:00:00+00:00</td>\n",
       "      <td>OFFENSE INVOLVING CHILDREN</td>\n",
       "      <td>RESIDENCE</td>\n",
       "      <td>False</td>\n",
       "      <td>False</td>\n",
       "      <td>332</td>\n",
       "      <td>43.0</td>\n",
       "    </tr>\n",
       "    <tr>\n",
       "      <th>...</th>\n",
       "      <td>...</td>\n",
       "      <td>...</td>\n",
       "      <td>...</td>\n",
       "      <td>...</td>\n",
       "      <td>...</td>\n",
       "      <td>...</td>\n",
       "      <td>...</td>\n",
       "      <td>...</td>\n",
       "    </tr>\n",
       "    <tr>\n",
       "      <th>2670248</th>\n",
       "      <td>12581388</td>\n",
       "      <td>2021-12-31 12:45:00+00:00</td>\n",
       "      <td>ASSAULT</td>\n",
       "      <td>APARTMENT</td>\n",
       "      <td>False</td>\n",
       "      <td>False</td>\n",
       "      <td>221</td>\n",
       "      <td>39.0</td>\n",
       "    </tr>\n",
       "    <tr>\n",
       "      <th>2670249</th>\n",
       "      <td>12581450</td>\n",
       "      <td>2021-12-31 12:45:00+00:00</td>\n",
       "      <td>CONCEALED CARRY LICENSE VIOLATION</td>\n",
       "      <td>STREET</td>\n",
       "      <td>True</td>\n",
       "      <td>False</td>\n",
       "      <td>614</td>\n",
       "      <td>71.0</td>\n",
       "    </tr>\n",
       "    <tr>\n",
       "      <th>2670250</th>\n",
       "      <td>12581977</td>\n",
       "      <td>2021-12-31 12:46:00+00:00</td>\n",
       "      <td>ASSAULT</td>\n",
       "      <td>COMMERCIAL / BUSINESS OFFICE</td>\n",
       "      <td>False</td>\n",
       "      <td>False</td>\n",
       "      <td>623</td>\n",
       "      <td>44.0</td>\n",
       "    </tr>\n",
       "    <tr>\n",
       "      <th>2670251</th>\n",
       "      <td>12582396</td>\n",
       "      <td>2021-12-31 12:49:00+00:00</td>\n",
       "      <td>DECEPTIVE PRACTICE</td>\n",
       "      <td>RESIDENCE</td>\n",
       "      <td>False</td>\n",
       "      <td>False</td>\n",
       "      <td>611</td>\n",
       "      <td>71.0</td>\n",
       "    </tr>\n",
       "    <tr>\n",
       "      <th>2670252</th>\n",
       "      <td>12581002</td>\n",
       "      <td>2021-12-31 12:55:00+00:00</td>\n",
       "      <td>BATTERY</td>\n",
       "      <td>BAR OR TAVERN</td>\n",
       "      <td>False</td>\n",
       "      <td>False</td>\n",
       "      <td>1424</td>\n",
       "      <td>24.0</td>\n",
       "    </tr>\n",
       "  </tbody>\n",
       "</table>\n",
       "<p>2227518 rows × 8 columns</p>\n",
       "</div>"
      ],
      "text/plain": [
       "         unique_key                      date  \\\n",
       "0           8429131 2012-01-01 01:00:00+00:00   \n",
       "1           8452622 2012-01-01 01:00:00+00:00   \n",
       "2           8608264 2012-01-01 01:00:00+00:00   \n",
       "3           9142576 2012-01-01 01:00:00+00:00   \n",
       "5           9049473 2012-01-01 01:00:00+00:00   \n",
       "...             ...                       ...   \n",
       "2670248    12581388 2021-12-31 12:45:00+00:00   \n",
       "2670249    12581450 2021-12-31 12:45:00+00:00   \n",
       "2670250    12581977 2021-12-31 12:46:00+00:00   \n",
       "2670251    12582396 2021-12-31 12:49:00+00:00   \n",
       "2670252    12581002 2021-12-31 12:55:00+00:00   \n",
       "\n",
       "                              primary_type            location_description  \\\n",
       "0                       DECEPTIVE PRACTICE  ATM (AUTOMATIC TELLER MACHINE)   \n",
       "1                                    THEFT             TAVERN/LIQUOR STORE   \n",
       "2                                    THEFT           MEDICAL/DENTAL OFFICE   \n",
       "3                                    THEFT        SCHOOL, PUBLIC, BUILDING   \n",
       "5               OFFENSE INVOLVING CHILDREN                       RESIDENCE   \n",
       "...                                    ...                             ...   \n",
       "2670248                            ASSAULT                       APARTMENT   \n",
       "2670249  CONCEALED CARRY LICENSE VIOLATION                          STREET   \n",
       "2670250                            ASSAULT    COMMERCIAL / BUSINESS OFFICE   \n",
       "2670251                 DECEPTIVE PRACTICE                       RESIDENCE   \n",
       "2670252                            BATTERY                   BAR OR TAVERN   \n",
       "\n",
       "         arrest  domestic  beat  community_area  \n",
       "0         False     False  1834             8.0  \n",
       "1         False     False  1832             8.0  \n",
       "2         False     False  1423            24.0  \n",
       "3         False     False  1523            25.0  \n",
       "5         False     False   332            43.0  \n",
       "...         ...       ...   ...             ...  \n",
       "2670248   False     False   221            39.0  \n",
       "2670249    True     False   614            71.0  \n",
       "2670250   False     False   623            44.0  \n",
       "2670251   False     False   611            71.0  \n",
       "2670252   False     False  1424            24.0  \n",
       "\n",
       "[2227518 rows x 8 columns]"
      ]
     },
     "execution_count": 180,
     "metadata": {},
     "output_type": "execute_result"
    }
   ],
   "source": [
    "# 가정 관련 범죄는 제외\n",
    "df1 = df.loc[df['domestic'] == False]\n",
    "df1"
   ]
  },
  {
   "cell_type": "code",
   "execution_count": 181,
   "id": "a0b884cb",
   "metadata": {
    "scrolled": true
   },
   "outputs": [
    {
     "name": "stderr",
     "output_type": "stream",
     "text": [
      "/var/folders/j2/qvzy45bn0l71dytmdq4v9r6r0000gn/T/ipykernel_35602/2014687281.py:2: SettingWithCopyWarning: \n",
      "A value is trying to be set on a copy of a slice from a DataFrame.\n",
      "Try using .loc[row_indexer,col_indexer] = value instead\n",
      "\n",
      "See the caveats in the documentation: https://pandas.pydata.org/pandas-docs/stable/user_guide/indexing.html#returning-a-view-versus-a-copy\n",
      "  df1['month'] = df1['date'].dt.strftime('%Y-%m')\n",
      "/var/folders/j2/qvzy45bn0l71dytmdq4v9r6r0000gn/T/ipykernel_35602/2014687281.py:3: SettingWithCopyWarning: \n",
      "A value is trying to be set on a copy of a slice from a DataFrame.\n",
      "Try using .loc[row_indexer,col_indexer] = value instead\n",
      "\n",
      "See the caveats in the documentation: https://pandas.pydata.org/pandas-docs/stable/user_guide/indexing.html#returning-a-view-versus-a-copy\n",
      "  df1['year'] = df1['date'].dt.strftime('%Y')\n"
     ]
    },
    {
     "data": {
      "text/html": [
       "<div>\n",
       "<style scoped>\n",
       "    .dataframe tbody tr th:only-of-type {\n",
       "        vertical-align: middle;\n",
       "    }\n",
       "\n",
       "    .dataframe tbody tr th {\n",
       "        vertical-align: top;\n",
       "    }\n",
       "\n",
       "    .dataframe thead th {\n",
       "        text-align: right;\n",
       "    }\n",
       "</style>\n",
       "<table border=\"1\" class=\"dataframe\">\n",
       "  <thead>\n",
       "    <tr style=\"text-align: right;\">\n",
       "      <th></th>\n",
       "      <th>unique_key</th>\n",
       "      <th>date</th>\n",
       "      <th>primary_type</th>\n",
       "      <th>location_description</th>\n",
       "      <th>arrest</th>\n",
       "      <th>domestic</th>\n",
       "      <th>beat</th>\n",
       "      <th>community_area</th>\n",
       "      <th>month</th>\n",
       "      <th>year</th>\n",
       "    </tr>\n",
       "  </thead>\n",
       "  <tbody>\n",
       "    <tr>\n",
       "      <th>0</th>\n",
       "      <td>8429131</td>\n",
       "      <td>2012-01-01 01:00:00+00:00</td>\n",
       "      <td>DECEPTIVE PRACTICE</td>\n",
       "      <td>ATM (AUTOMATIC TELLER MACHINE)</td>\n",
       "      <td>False</td>\n",
       "      <td>False</td>\n",
       "      <td>1834</td>\n",
       "      <td>8.0</td>\n",
       "      <td>2012-01</td>\n",
       "      <td>2012</td>\n",
       "    </tr>\n",
       "    <tr>\n",
       "      <th>1</th>\n",
       "      <td>8452622</td>\n",
       "      <td>2012-01-01 01:00:00+00:00</td>\n",
       "      <td>THEFT</td>\n",
       "      <td>TAVERN/LIQUOR STORE</td>\n",
       "      <td>False</td>\n",
       "      <td>False</td>\n",
       "      <td>1832</td>\n",
       "      <td>8.0</td>\n",
       "      <td>2012-01</td>\n",
       "      <td>2012</td>\n",
       "    </tr>\n",
       "    <tr>\n",
       "      <th>2</th>\n",
       "      <td>8608264</td>\n",
       "      <td>2012-01-01 01:00:00+00:00</td>\n",
       "      <td>THEFT</td>\n",
       "      <td>MEDICAL/DENTAL OFFICE</td>\n",
       "      <td>False</td>\n",
       "      <td>False</td>\n",
       "      <td>1423</td>\n",
       "      <td>24.0</td>\n",
       "      <td>2012-01</td>\n",
       "      <td>2012</td>\n",
       "    </tr>\n",
       "    <tr>\n",
       "      <th>3</th>\n",
       "      <td>9142576</td>\n",
       "      <td>2012-01-01 01:00:00+00:00</td>\n",
       "      <td>THEFT</td>\n",
       "      <td>SCHOOL, PUBLIC, BUILDING</td>\n",
       "      <td>False</td>\n",
       "      <td>False</td>\n",
       "      <td>1523</td>\n",
       "      <td>25.0</td>\n",
       "      <td>2012-01</td>\n",
       "      <td>2012</td>\n",
       "    </tr>\n",
       "    <tr>\n",
       "      <th>5</th>\n",
       "      <td>9049473</td>\n",
       "      <td>2012-01-01 01:00:00+00:00</td>\n",
       "      <td>OFFENSE INVOLVING CHILDREN</td>\n",
       "      <td>RESIDENCE</td>\n",
       "      <td>False</td>\n",
       "      <td>False</td>\n",
       "      <td>332</td>\n",
       "      <td>43.0</td>\n",
       "      <td>2012-01</td>\n",
       "      <td>2012</td>\n",
       "    </tr>\n",
       "    <tr>\n",
       "      <th>...</th>\n",
       "      <td>...</td>\n",
       "      <td>...</td>\n",
       "      <td>...</td>\n",
       "      <td>...</td>\n",
       "      <td>...</td>\n",
       "      <td>...</td>\n",
       "      <td>...</td>\n",
       "      <td>...</td>\n",
       "      <td>...</td>\n",
       "      <td>...</td>\n",
       "    </tr>\n",
       "    <tr>\n",
       "      <th>2670248</th>\n",
       "      <td>12581388</td>\n",
       "      <td>2021-12-31 12:45:00+00:00</td>\n",
       "      <td>ASSAULT</td>\n",
       "      <td>APARTMENT</td>\n",
       "      <td>False</td>\n",
       "      <td>False</td>\n",
       "      <td>221</td>\n",
       "      <td>39.0</td>\n",
       "      <td>2021-12</td>\n",
       "      <td>2021</td>\n",
       "    </tr>\n",
       "    <tr>\n",
       "      <th>2670249</th>\n",
       "      <td>12581450</td>\n",
       "      <td>2021-12-31 12:45:00+00:00</td>\n",
       "      <td>CONCEALED CARRY LICENSE VIOLATION</td>\n",
       "      <td>STREET</td>\n",
       "      <td>True</td>\n",
       "      <td>False</td>\n",
       "      <td>614</td>\n",
       "      <td>71.0</td>\n",
       "      <td>2021-12</td>\n",
       "      <td>2021</td>\n",
       "    </tr>\n",
       "    <tr>\n",
       "      <th>2670250</th>\n",
       "      <td>12581977</td>\n",
       "      <td>2021-12-31 12:46:00+00:00</td>\n",
       "      <td>ASSAULT</td>\n",
       "      <td>COMMERCIAL / BUSINESS OFFICE</td>\n",
       "      <td>False</td>\n",
       "      <td>False</td>\n",
       "      <td>623</td>\n",
       "      <td>44.0</td>\n",
       "      <td>2021-12</td>\n",
       "      <td>2021</td>\n",
       "    </tr>\n",
       "    <tr>\n",
       "      <th>2670251</th>\n",
       "      <td>12582396</td>\n",
       "      <td>2021-12-31 12:49:00+00:00</td>\n",
       "      <td>DECEPTIVE PRACTICE</td>\n",
       "      <td>RESIDENCE</td>\n",
       "      <td>False</td>\n",
       "      <td>False</td>\n",
       "      <td>611</td>\n",
       "      <td>71.0</td>\n",
       "      <td>2021-12</td>\n",
       "      <td>2021</td>\n",
       "    </tr>\n",
       "    <tr>\n",
       "      <th>2670252</th>\n",
       "      <td>12581002</td>\n",
       "      <td>2021-12-31 12:55:00+00:00</td>\n",
       "      <td>BATTERY</td>\n",
       "      <td>BAR OR TAVERN</td>\n",
       "      <td>False</td>\n",
       "      <td>False</td>\n",
       "      <td>1424</td>\n",
       "      <td>24.0</td>\n",
       "      <td>2021-12</td>\n",
       "      <td>2021</td>\n",
       "    </tr>\n",
       "  </tbody>\n",
       "</table>\n",
       "<p>2227518 rows × 10 columns</p>\n",
       "</div>"
      ],
      "text/plain": [
       "         unique_key                      date  \\\n",
       "0           8429131 2012-01-01 01:00:00+00:00   \n",
       "1           8452622 2012-01-01 01:00:00+00:00   \n",
       "2           8608264 2012-01-01 01:00:00+00:00   \n",
       "3           9142576 2012-01-01 01:00:00+00:00   \n",
       "5           9049473 2012-01-01 01:00:00+00:00   \n",
       "...             ...                       ...   \n",
       "2670248    12581388 2021-12-31 12:45:00+00:00   \n",
       "2670249    12581450 2021-12-31 12:45:00+00:00   \n",
       "2670250    12581977 2021-12-31 12:46:00+00:00   \n",
       "2670251    12582396 2021-12-31 12:49:00+00:00   \n",
       "2670252    12581002 2021-12-31 12:55:00+00:00   \n",
       "\n",
       "                              primary_type            location_description  \\\n",
       "0                       DECEPTIVE PRACTICE  ATM (AUTOMATIC TELLER MACHINE)   \n",
       "1                                    THEFT             TAVERN/LIQUOR STORE   \n",
       "2                                    THEFT           MEDICAL/DENTAL OFFICE   \n",
       "3                                    THEFT        SCHOOL, PUBLIC, BUILDING   \n",
       "5               OFFENSE INVOLVING CHILDREN                       RESIDENCE   \n",
       "...                                    ...                             ...   \n",
       "2670248                            ASSAULT                       APARTMENT   \n",
       "2670249  CONCEALED CARRY LICENSE VIOLATION                          STREET   \n",
       "2670250                            ASSAULT    COMMERCIAL / BUSINESS OFFICE   \n",
       "2670251                 DECEPTIVE PRACTICE                       RESIDENCE   \n",
       "2670252                            BATTERY                   BAR OR TAVERN   \n",
       "\n",
       "         arrest  domestic  beat  community_area    month  year  \n",
       "0         False     False  1834             8.0  2012-01  2012  \n",
       "1         False     False  1832             8.0  2012-01  2012  \n",
       "2         False     False  1423            24.0  2012-01  2012  \n",
       "3         False     False  1523            25.0  2012-01  2012  \n",
       "5         False     False   332            43.0  2012-01  2012  \n",
       "...         ...       ...   ...             ...      ...   ...  \n",
       "2670248   False     False   221            39.0  2021-12  2021  \n",
       "2670249    True     False   614            71.0  2021-12  2021  \n",
       "2670250   False     False   623            44.0  2021-12  2021  \n",
       "2670251   False     False   611            71.0  2021-12  2021  \n",
       "2670252   False     False  1424            24.0  2021-12  2021  \n",
       "\n",
       "[2227518 rows x 10 columns]"
      ]
     },
     "execution_count": 181,
     "metadata": {},
     "output_type": "execute_result"
    }
   ],
   "source": [
    "# 년, 월 별도 설정\n",
    "df1['month'] = df1['date'].dt.strftime('%Y-%m')\n",
    "df1['year'] = df1['date'].dt.strftime('%Y')\n",
    "df1"
   ]
  },
  {
   "cell_type": "code",
   "execution_count": 182,
   "id": "1490353d",
   "metadata": {},
   "outputs": [
    {
     "data": {
      "text/html": [
       "<div>\n",
       "<style scoped>\n",
       "    .dataframe tbody tr th:only-of-type {\n",
       "        vertical-align: middle;\n",
       "    }\n",
       "\n",
       "    .dataframe tbody tr th {\n",
       "        vertical-align: top;\n",
       "    }\n",
       "\n",
       "    .dataframe thead th {\n",
       "        text-align: right;\n",
       "    }\n",
       "</style>\n",
       "<table border=\"1\" class=\"dataframe\">\n",
       "  <thead>\n",
       "    <tr style=\"text-align: right;\">\n",
       "      <th></th>\n",
       "      <th>index</th>\n",
       "      <th>year</th>\n",
       "    </tr>\n",
       "  </thead>\n",
       "  <tbody>\n",
       "    <tr>\n",
       "      <th>0</th>\n",
       "      <td>2012</td>\n",
       "      <td>287084</td>\n",
       "    </tr>\n",
       "    <tr>\n",
       "      <th>1</th>\n",
       "      <td>2013</td>\n",
       "      <td>262175</td>\n",
       "    </tr>\n",
       "    <tr>\n",
       "      <th>2</th>\n",
       "      <td>2014</td>\n",
       "      <td>234695</td>\n",
       "    </tr>\n",
       "    <tr>\n",
       "      <th>6</th>\n",
       "      <td>2015</td>\n",
       "      <td>222138</td>\n",
       "    </tr>\n",
       "    <tr>\n",
       "      <th>3</th>\n",
       "      <td>2016</td>\n",
       "      <td>225203</td>\n",
       "    </tr>\n",
       "    <tr>\n",
       "      <th>4</th>\n",
       "      <td>2017</td>\n",
       "      <td>224797</td>\n",
       "    </tr>\n",
       "    <tr>\n",
       "      <th>5</th>\n",
       "      <td>2018</td>\n",
       "      <td>223487</td>\n",
       "    </tr>\n",
       "    <tr>\n",
       "      <th>7</th>\n",
       "      <td>2019</td>\n",
       "      <td>216498</td>\n",
       "    </tr>\n",
       "    <tr>\n",
       "      <th>8</th>\n",
       "      <td>2020</td>\n",
       "      <td>170493</td>\n",
       "    </tr>\n",
       "    <tr>\n",
       "      <th>9</th>\n",
       "      <td>2021</td>\n",
       "      <td>160948</td>\n",
       "    </tr>\n",
       "  </tbody>\n",
       "</table>\n",
       "</div>"
      ],
      "text/plain": [
       "  index    year\n",
       "0  2012  287084\n",
       "1  2013  262175\n",
       "2  2014  234695\n",
       "6  2015  222138\n",
       "3  2016  225203\n",
       "4  2017  224797\n",
       "5  2018  223487\n",
       "7  2019  216498\n",
       "8  2020  170493\n",
       "9  2021  160948"
      ]
     },
     "execution_count": 182,
     "metadata": {},
     "output_type": "execute_result"
    }
   ],
   "source": [
    "# 년도별 분석\n",
    "df1_year = df1['year'].value_counts().reset_index().sort_values('index')\n",
    "df1_year"
   ]
  },
  {
   "cell_type": "code",
   "execution_count": 183,
   "id": "9d7bc65c",
   "metadata": {},
   "outputs": [
    {
     "data": {
      "text/html": [
       "<div>\n",
       "<style scoped>\n",
       "    .dataframe tbody tr th:only-of-type {\n",
       "        vertical-align: middle;\n",
       "    }\n",
       "\n",
       "    .dataframe tbody tr th {\n",
       "        vertical-align: top;\n",
       "    }\n",
       "\n",
       "    .dataframe thead th {\n",
       "        text-align: right;\n",
       "    }\n",
       "</style>\n",
       "<table border=\"1\" class=\"dataframe\">\n",
       "  <thead>\n",
       "    <tr style=\"text-align: right;\">\n",
       "      <th></th>\n",
       "      <th>year</th>\n",
       "      <th>count</th>\n",
       "    </tr>\n",
       "  </thead>\n",
       "  <tbody>\n",
       "    <tr>\n",
       "      <th>0</th>\n",
       "      <td>2012</td>\n",
       "      <td>287084</td>\n",
       "    </tr>\n",
       "    <tr>\n",
       "      <th>1</th>\n",
       "      <td>2013</td>\n",
       "      <td>262175</td>\n",
       "    </tr>\n",
       "    <tr>\n",
       "      <th>2</th>\n",
       "      <td>2014</td>\n",
       "      <td>234695</td>\n",
       "    </tr>\n",
       "    <tr>\n",
       "      <th>6</th>\n",
       "      <td>2015</td>\n",
       "      <td>222138</td>\n",
       "    </tr>\n",
       "    <tr>\n",
       "      <th>3</th>\n",
       "      <td>2016</td>\n",
       "      <td>225203</td>\n",
       "    </tr>\n",
       "    <tr>\n",
       "      <th>4</th>\n",
       "      <td>2017</td>\n",
       "      <td>224797</td>\n",
       "    </tr>\n",
       "    <tr>\n",
       "      <th>5</th>\n",
       "      <td>2018</td>\n",
       "      <td>223487</td>\n",
       "    </tr>\n",
       "    <tr>\n",
       "      <th>7</th>\n",
       "      <td>2019</td>\n",
       "      <td>216498</td>\n",
       "    </tr>\n",
       "    <tr>\n",
       "      <th>8</th>\n",
       "      <td>2020</td>\n",
       "      <td>170493</td>\n",
       "    </tr>\n",
       "    <tr>\n",
       "      <th>9</th>\n",
       "      <td>2021</td>\n",
       "      <td>160948</td>\n",
       "    </tr>\n",
       "  </tbody>\n",
       "</table>\n",
       "</div>"
      ],
      "text/plain": [
       "   year   count\n",
       "0  2012  287084\n",
       "1  2013  262175\n",
       "2  2014  234695\n",
       "6  2015  222138\n",
       "3  2016  225203\n",
       "4  2017  224797\n",
       "5  2018  223487\n",
       "7  2019  216498\n",
       "8  2020  170493\n",
       "9  2021  160948"
      ]
     },
     "execution_count": 183,
     "metadata": {},
     "output_type": "execute_result"
    }
   ],
   "source": [
    "df1_year.columns = ['year', 'count']\n",
    "df1_year"
   ]
  },
  {
   "cell_type": "code",
   "execution_count": 385,
   "id": "34e1059e",
   "metadata": {},
   "outputs": [
    {
     "data": {
      "image/png": "[encoded data removed]",
      "text/plain": [
       "<Figure size 432x288 with 1 Axes>"
      ]
     },
     "metadata": {},
     "output_type": "display_data"
    }
   ],
   "source": [
    "sns.lineplot(data = df1_year, x = 'year', y = 'count', color = 'tab:blue')\n",
    "plt.ylim(bottom = 0)\n",
    "plt.show()"
   ]
  },
  {
   "cell_type": "code",
   "execution_count": 185,
   "id": "cfac1664",
   "metadata": {},
   "outputs": [
    {
     "data": {
      "text/plain": [
       "-21.11258606672209"
      ]
     },
     "execution_count": 185,
     "metadata": {},
     "output_type": "execute_result"
    }
   ],
   "source": [
    "(171745 - 217709) / 217709 *100"
   ]
  },
  {
   "cell_type": "markdown",
   "id": "183e6228",
   "metadata": {},
   "source": [
    "- 2019~20: 약 -21%"
   ]
  },
  {
   "cell_type": "code",
   "execution_count": 186,
   "id": "21e2c8ab",
   "metadata": {},
   "outputs": [
    {
     "data": {
      "text/html": [
       "<div>\n",
       "<style scoped>\n",
       "    .dataframe tbody tr th:only-of-type {\n",
       "        vertical-align: middle;\n",
       "    }\n",
       "\n",
       "    .dataframe tbody tr th {\n",
       "        vertical-align: top;\n",
       "    }\n",
       "\n",
       "    .dataframe thead th {\n",
       "        text-align: right;\n",
       "    }\n",
       "</style>\n",
       "<table border=\"1\" class=\"dataframe\">\n",
       "  <thead>\n",
       "    <tr style=\"text-align: right;\">\n",
       "      <th></th>\n",
       "      <th>index</th>\n",
       "      <th>month</th>\n",
       "    </tr>\n",
       "  </thead>\n",
       "  <tbody>\n",
       "    <tr>\n",
       "      <th>15</th>\n",
       "      <td>2012-01</td>\n",
       "      <td>22478</td>\n",
       "    </tr>\n",
       "    <tr>\n",
       "      <th>35</th>\n",
       "      <td>2012-02</td>\n",
       "      <td>20366</td>\n",
       "    </tr>\n",
       "    <tr>\n",
       "      <th>7</th>\n",
       "      <td>2012-03</td>\n",
       "      <td>24209</td>\n",
       "    </tr>\n",
       "    <tr>\n",
       "      <th>10</th>\n",
       "      <td>2012-04</td>\n",
       "      <td>23158</td>\n",
       "    </tr>\n",
       "    <tr>\n",
       "      <th>3</th>\n",
       "      <td>2012-05</td>\n",
       "      <td>25500</td>\n",
       "    </tr>\n",
       "    <tr>\n",
       "      <th>...</th>\n",
       "      <td>...</td>\n",
       "      <td>...</td>\n",
       "    </tr>\n",
       "    <tr>\n",
       "      <th>106</th>\n",
       "      <td>2021-08</td>\n",
       "      <td>14198</td>\n",
       "    </tr>\n",
       "    <tr>\n",
       "      <th>98</th>\n",
       "      <td>2021-09</td>\n",
       "      <td>15133</td>\n",
       "    </tr>\n",
       "    <tr>\n",
       "      <th>96</th>\n",
       "      <td>2021-10</td>\n",
       "      <td>15394</td>\n",
       "    </tr>\n",
       "    <tr>\n",
       "      <th>107</th>\n",
       "      <td>2021-11</td>\n",
       "      <td>13792</td>\n",
       "    </tr>\n",
       "    <tr>\n",
       "      <th>110</th>\n",
       "      <td>2021-12</td>\n",
       "      <td>13484</td>\n",
       "    </tr>\n",
       "  </tbody>\n",
       "</table>\n",
       "<p>120 rows × 2 columns</p>\n",
       "</div>"
      ],
      "text/plain": [
       "       index  month\n",
       "15   2012-01  22478\n",
       "35   2012-02  20366\n",
       "7    2012-03  24209\n",
       "10   2012-04  23158\n",
       "3    2012-05  25500\n",
       "..       ...    ...\n",
       "106  2021-08  14198\n",
       "98   2021-09  15133\n",
       "96   2021-10  15394\n",
       "107  2021-11  13792\n",
       "110  2021-12  13484\n",
       "\n",
       "[120 rows x 2 columns]"
      ]
     },
     "execution_count": 186,
     "metadata": {},
     "output_type": "execute_result"
    }
   ],
   "source": [
    "# 년+월별 분석\n",
    "df1_month = df1['month'].value_counts().reset_index().sort_values('index')\n",
    "df1_month"
   ]
  },
  {
   "cell_type": "code",
   "execution_count": 187,
   "id": "88195a0e",
   "metadata": {},
   "outputs": [
    {
     "data": {
      "text/html": [
       "<div>\n",
       "<style scoped>\n",
       "    .dataframe tbody tr th:only-of-type {\n",
       "        vertical-align: middle;\n",
       "    }\n",
       "\n",
       "    .dataframe tbody tr th {\n",
       "        vertical-align: top;\n",
       "    }\n",
       "\n",
       "    .dataframe thead th {\n",
       "        text-align: right;\n",
       "    }\n",
       "</style>\n",
       "<table border=\"1\" class=\"dataframe\">\n",
       "  <thead>\n",
       "    <tr style=\"text-align: right;\">\n",
       "      <th></th>\n",
       "      <th>month</th>\n",
       "      <th>count</th>\n",
       "    </tr>\n",
       "  </thead>\n",
       "  <tbody>\n",
       "    <tr>\n",
       "      <th>15</th>\n",
       "      <td>2012-01</td>\n",
       "      <td>22478</td>\n",
       "    </tr>\n",
       "    <tr>\n",
       "      <th>35</th>\n",
       "      <td>2012-02</td>\n",
       "      <td>20366</td>\n",
       "    </tr>\n",
       "    <tr>\n",
       "      <th>7</th>\n",
       "      <td>2012-03</td>\n",
       "      <td>24209</td>\n",
       "    </tr>\n",
       "    <tr>\n",
       "      <th>10</th>\n",
       "      <td>2012-04</td>\n",
       "      <td>23158</td>\n",
       "    </tr>\n",
       "    <tr>\n",
       "      <th>3</th>\n",
       "      <td>2012-05</td>\n",
       "      <td>25500</td>\n",
       "    </tr>\n",
       "    <tr>\n",
       "      <th>...</th>\n",
       "      <td>...</td>\n",
       "      <td>...</td>\n",
       "    </tr>\n",
       "    <tr>\n",
       "      <th>106</th>\n",
       "      <td>2021-08</td>\n",
       "      <td>14198</td>\n",
       "    </tr>\n",
       "    <tr>\n",
       "      <th>98</th>\n",
       "      <td>2021-09</td>\n",
       "      <td>15133</td>\n",
       "    </tr>\n",
       "    <tr>\n",
       "      <th>96</th>\n",
       "      <td>2021-10</td>\n",
       "      <td>15394</td>\n",
       "    </tr>\n",
       "    <tr>\n",
       "      <th>107</th>\n",
       "      <td>2021-11</td>\n",
       "      <td>13792</td>\n",
       "    </tr>\n",
       "    <tr>\n",
       "      <th>110</th>\n",
       "      <td>2021-12</td>\n",
       "      <td>13484</td>\n",
       "    </tr>\n",
       "  </tbody>\n",
       "</table>\n",
       "<p>120 rows × 2 columns</p>\n",
       "</div>"
      ],
      "text/plain": [
       "       month  count\n",
       "15   2012-01  22478\n",
       "35   2012-02  20366\n",
       "7    2012-03  24209\n",
       "10   2012-04  23158\n",
       "3    2012-05  25500\n",
       "..       ...    ...\n",
       "106  2021-08  14198\n",
       "98   2021-09  15133\n",
       "96   2021-10  15394\n",
       "107  2021-11  13792\n",
       "110  2021-12  13484\n",
       "\n",
       "[120 rows x 2 columns]"
      ]
     },
     "execution_count": 187,
     "metadata": {},
     "output_type": "execute_result"
    }
   ],
   "source": [
    "df1_month.columns = ['month', 'count']\n",
    "df1_month"
   ]
  },
  {
   "cell_type": "code",
   "execution_count": 188,
   "id": "76b7a750",
   "metadata": {},
   "outputs": [
    {
     "data": {
      "image/png": "[encoded data removed]",
      "text/plain": [
       "<Figure size 1440x576 with 1 Axes>"
      ]
     },
     "metadata": {},
     "output_type": "display_data"
    }
   ],
   "source": [
    "plt.figure(figsize = (20,8))\n",
    "sns.lineplot(data = df1_month, x = 'month', y = 'count', color = 'tab:blue')\n",
    "plt.xticks(rotation = 45)\n",
    "plt.show()"
   ]
  },
  {
   "cell_type": "markdown",
   "id": "10f54b0c",
   "metadata": {},
   "source": [
    "특정 월에 범죄가 급감하고 다시 올라간다"
   ]
  },
  {
   "cell_type": "code",
   "execution_count": 189,
   "id": "b21c2d09",
   "metadata": {},
   "outputs": [
    {
     "name": "stderr",
     "output_type": "stream",
     "text": [
      "/var/folders/j2/qvzy45bn0l71dytmdq4v9r6r0000gn/T/ipykernel_35602/875801696.py:1: SettingWithCopyWarning: \n",
      "A value is trying to be set on a copy of a slice from a DataFrame.\n",
      "Try using .loc[row_indexer,col_indexer] = value instead\n",
      "\n",
      "See the caveats in the documentation: https://pandas.pydata.org/pandas-docs/stable/user_guide/indexing.html#returning-a-view-versus-a-copy\n",
      "  df1['only_month'] = df1['date'].dt.strftime('%m')\n"
     ]
    },
    {
     "data": {
      "text/html": [
       "<div>\n",
       "<style scoped>\n",
       "    .dataframe tbody tr th:only-of-type {\n",
       "        vertical-align: middle;\n",
       "    }\n",
       "\n",
       "    .dataframe tbody tr th {\n",
       "        vertical-align: top;\n",
       "    }\n",
       "\n",
       "    .dataframe thead th {\n",
       "        text-align: right;\n",
       "    }\n",
       "</style>\n",
       "<table border=\"1\" class=\"dataframe\">\n",
       "  <thead>\n",
       "    <tr style=\"text-align: right;\">\n",
       "      <th></th>\n",
       "      <th>unique_key</th>\n",
       "      <th>date</th>\n",
       "      <th>primary_type</th>\n",
       "      <th>location_description</th>\n",
       "      <th>arrest</th>\n",
       "      <th>domestic</th>\n",
       "      <th>beat</th>\n",
       "      <th>community_area</th>\n",
       "      <th>month</th>\n",
       "      <th>year</th>\n",
       "      <th>only_month</th>\n",
       "    </tr>\n",
       "  </thead>\n",
       "  <tbody>\n",
       "    <tr>\n",
       "      <th>0</th>\n",
       "      <td>8429131</td>\n",
       "      <td>2012-01-01 01:00:00+00:00</td>\n",
       "      <td>DECEPTIVE PRACTICE</td>\n",
       "      <td>ATM (AUTOMATIC TELLER MACHINE)</td>\n",
       "      <td>False</td>\n",
       "      <td>False</td>\n",
       "      <td>1834</td>\n",
       "      <td>8.0</td>\n",
       "      <td>2012-01</td>\n",
       "      <td>2012</td>\n",
       "      <td>01</td>\n",
       "    </tr>\n",
       "    <tr>\n",
       "      <th>1</th>\n",
       "      <td>8452622</td>\n",
       "      <td>2012-01-01 01:00:00+00:00</td>\n",
       "      <td>THEFT</td>\n",
       "      <td>TAVERN/LIQUOR STORE</td>\n",
       "      <td>False</td>\n",
       "      <td>False</td>\n",
       "      <td>1832</td>\n",
       "      <td>8.0</td>\n",
       "      <td>2012-01</td>\n",
       "      <td>2012</td>\n",
       "      <td>01</td>\n",
       "    </tr>\n",
       "    <tr>\n",
       "      <th>2</th>\n",
       "      <td>8608264</td>\n",
       "      <td>2012-01-01 01:00:00+00:00</td>\n",
       "      <td>THEFT</td>\n",
       "      <td>MEDICAL/DENTAL OFFICE</td>\n",
       "      <td>False</td>\n",
       "      <td>False</td>\n",
       "      <td>1423</td>\n",
       "      <td>24.0</td>\n",
       "      <td>2012-01</td>\n",
       "      <td>2012</td>\n",
       "      <td>01</td>\n",
       "    </tr>\n",
       "    <tr>\n",
       "      <th>3</th>\n",
       "      <td>9142576</td>\n",
       "      <td>2012-01-01 01:00:00+00:00</td>\n",
       "      <td>THEFT</td>\n",
       "      <td>SCHOOL, PUBLIC, BUILDING</td>\n",
       "      <td>False</td>\n",
       "      <td>False</td>\n",
       "      <td>1523</td>\n",
       "      <td>25.0</td>\n",
       "      <td>2012-01</td>\n",
       "      <td>2012</td>\n",
       "      <td>01</td>\n",
       "    </tr>\n",
       "    <tr>\n",
       "      <th>5</th>\n",
       "      <td>9049473</td>\n",
       "      <td>2012-01-01 01:00:00+00:00</td>\n",
       "      <td>OFFENSE INVOLVING CHILDREN</td>\n",
       "      <td>RESIDENCE</td>\n",
       "      <td>False</td>\n",
       "      <td>False</td>\n",
       "      <td>332</td>\n",
       "      <td>43.0</td>\n",
       "      <td>2012-01</td>\n",
       "      <td>2012</td>\n",
       "      <td>01</td>\n",
       "    </tr>\n",
       "    <tr>\n",
       "      <th>...</th>\n",
       "      <td>...</td>\n",
       "      <td>...</td>\n",
       "      <td>...</td>\n",
       "      <td>...</td>\n",
       "      <td>...</td>\n",
       "      <td>...</td>\n",
       "      <td>...</td>\n",
       "      <td>...</td>\n",
       "      <td>...</td>\n",
       "      <td>...</td>\n",
       "      <td>...</td>\n",
       "    </tr>\n",
       "    <tr>\n",
       "      <th>2670248</th>\n",
       "      <td>12581388</td>\n",
       "      <td>2021-12-31 12:45:00+00:00</td>\n",
       "      <td>ASSAULT</td>\n",
       "      <td>APARTMENT</td>\n",
       "      <td>False</td>\n",
       "      <td>False</td>\n",
       "      <td>221</td>\n",
       "      <td>39.0</td>\n",
       "      <td>2021-12</td>\n",
       "      <td>2021</td>\n",
       "      <td>12</td>\n",
       "    </tr>\n",
       "    <tr>\n",
       "      <th>2670249</th>\n",
       "      <td>12581450</td>\n",
       "      <td>2021-12-31 12:45:00+00:00</td>\n",
       "      <td>CONCEALED CARRY LICENSE VIOLATION</td>\n",
       "      <td>STREET</td>\n",
       "      <td>True</td>\n",
       "      <td>False</td>\n",
       "      <td>614</td>\n",
       "      <td>71.0</td>\n",
       "      <td>2021-12</td>\n",
       "      <td>2021</td>\n",
       "      <td>12</td>\n",
       "    </tr>\n",
       "    <tr>\n",
       "      <th>2670250</th>\n",
       "      <td>12581977</td>\n",
       "      <td>2021-12-31 12:46:00+00:00</td>\n",
       "      <td>ASSAULT</td>\n",
       "      <td>COMMERCIAL / BUSINESS OFFICE</td>\n",
       "      <td>False</td>\n",
       "      <td>False</td>\n",
       "      <td>623</td>\n",
       "      <td>44.0</td>\n",
       "      <td>2021-12</td>\n",
       "      <td>2021</td>\n",
       "      <td>12</td>\n",
       "    </tr>\n",
       "    <tr>\n",
       "      <th>2670251</th>\n",
       "      <td>12582396</td>\n",
       "      <td>2021-12-31 12:49:00+00:00</td>\n",
       "      <td>DECEPTIVE PRACTICE</td>\n",
       "      <td>RESIDENCE</td>\n",
       "      <td>False</td>\n",
       "      <td>False</td>\n",
       "      <td>611</td>\n",
       "      <td>71.0</td>\n",
       "      <td>2021-12</td>\n",
       "      <td>2021</td>\n",
       "      <td>12</td>\n",
       "    </tr>\n",
       "    <tr>\n",
       "      <th>2670252</th>\n",
       "      <td>12581002</td>\n",
       "      <td>2021-12-31 12:55:00+00:00</td>\n",
       "      <td>BATTERY</td>\n",
       "      <td>BAR OR TAVERN</td>\n",
       "      <td>False</td>\n",
       "      <td>False</td>\n",
       "      <td>1424</td>\n",
       "      <td>24.0</td>\n",
       "      <td>2021-12</td>\n",
       "      <td>2021</td>\n",
       "      <td>12</td>\n",
       "    </tr>\n",
       "  </tbody>\n",
       "</table>\n",
       "<p>2227518 rows × 11 columns</p>\n",
       "</div>"
      ],
      "text/plain": [
       "         unique_key                      date  \\\n",
       "0           8429131 2012-01-01 01:00:00+00:00   \n",
       "1           8452622 2012-01-01 01:00:00+00:00   \n",
       "2           8608264 2012-01-01 01:00:00+00:00   \n",
       "3           9142576 2012-01-01 01:00:00+00:00   \n",
       "5           9049473 2012-01-01 01:00:00+00:00   \n",
       "...             ...                       ...   \n",
       "2670248    12581388 2021-12-31 12:45:00+00:00   \n",
       "2670249    12581450 2021-12-31 12:45:00+00:00   \n",
       "2670250    12581977 2021-12-31 12:46:00+00:00   \n",
       "2670251    12582396 2021-12-31 12:49:00+00:00   \n",
       "2670252    12581002 2021-12-31 12:55:00+00:00   \n",
       "\n",
       "                              primary_type            location_description  \\\n",
       "0                       DECEPTIVE PRACTICE  ATM (AUTOMATIC TELLER MACHINE)   \n",
       "1                                    THEFT             TAVERN/LIQUOR STORE   \n",
       "2                                    THEFT           MEDICAL/DENTAL OFFICE   \n",
       "3                                    THEFT        SCHOOL, PUBLIC, BUILDING   \n",
       "5               OFFENSE INVOLVING CHILDREN                       RESIDENCE   \n",
       "...                                    ...                             ...   \n",
       "2670248                            ASSAULT                       APARTMENT   \n",
       "2670249  CONCEALED CARRY LICENSE VIOLATION                          STREET   \n",
       "2670250                            ASSAULT    COMMERCIAL / BUSINESS OFFICE   \n",
       "2670251                 DECEPTIVE PRACTICE                       RESIDENCE   \n",
       "2670252                            BATTERY                   BAR OR TAVERN   \n",
       "\n",
       "         arrest  domestic  beat  community_area    month  year only_month  \n",
       "0         False     False  1834             8.0  2012-01  2012         01  \n",
       "1         False     False  1832             8.0  2012-01  2012         01  \n",
       "2         False     False  1423            24.0  2012-01  2012         01  \n",
       "3         False     False  1523            25.0  2012-01  2012         01  \n",
       "5         False     False   332            43.0  2012-01  2012         01  \n",
       "...         ...       ...   ...             ...      ...   ...        ...  \n",
       "2670248   False     False   221            39.0  2021-12  2021         12  \n",
       "2670249    True     False   614            71.0  2021-12  2021         12  \n",
       "2670250   False     False   623            44.0  2021-12  2021         12  \n",
       "2670251   False     False   611            71.0  2021-12  2021         12  \n",
       "2670252   False     False  1424            24.0  2021-12  2021         12  \n",
       "\n",
       "[2227518 rows x 11 columns]"
      ]
     },
     "execution_count": 189,
     "metadata": {},
     "output_type": "execute_result"
    }
   ],
   "source": [
    "df1['only_month'] = df1['date'].dt.strftime('%m')\n",
    "df1"
   ]
  },
  {
   "cell_type": "code",
   "execution_count": 190,
   "id": "fd6c722b",
   "metadata": {},
   "outputs": [
    {
     "data": {
      "image/png": "[encoded data removed]",
      "text/plain": [
       "<Figure size 432x288 with 1 Axes>"
      ]
     },
     "metadata": {},
     "output_type": "display_data"
    }
   ],
   "source": [
    "sns.countplot(data = df1, x = 'only_month', color = 'tab:blue')\n",
    "plt.show()"
   ]
  },
  {
   "cell_type": "markdown",
   "id": "ab98d500",
   "metadata": {},
   "source": [
    "- 2월이 상대적으로 범죄 발생 수가 적음\n",
    "- 여름(7,8월) 상대적으로 범죄 발생 수가 많음"
   ]
  },
  {
   "cell_type": "markdown",
   "id": "3ddc22c4",
   "metadata": {},
   "source": [
    "# 가장 많이 일어난 범죄 (primary_type)"
   ]
  },
  {
   "cell_type": "code",
   "execution_count": 191,
   "id": "10b6dd98",
   "metadata": {},
   "outputs": [
    {
     "data": {
      "text/plain": [
       "THEFT                                578859\n",
       "CRIMINAL DAMAGE                      254106\n",
       "BATTERY                              247581\n",
       "NARCOTICS                            188126\n",
       "DECEPTIVE PRACTICE                   162246\n",
       "ASSAULT                              139972\n",
       "BURGLARY                             130957\n",
       "OTHER OFFENSE                        111030\n",
       "MOTOR VEHICLE THEFT                  109828\n",
       "ROBBERY                              100238\n",
       "CRIMINAL TRESPASS                     61556\n",
       "WEAPONS VIOLATION                     50771\n",
       "PUBLIC PEACE VIOLATION                18699\n",
       "INTERFERENCE WITH PUBLIC OFFICER      11003\n",
       "PROSTITUTION                          10104\n",
       "OFFENSE INVOLVING CHILDREN             9971\n",
       "SEX OFFENSE                            9116\n",
       "CRIM SEXUAL ASSAULT                    9032\n",
       "HOMICIDE                               5666\n",
       "ARSON                                  4269\n",
       "CRIMINAL SEXUAL ASSAULT                3234\n",
       "LIQUOR LAW VIOLATION                   2967\n",
       "GAMBLING                               2783\n",
       "KIDNAPPING                             1299\n",
       "INTIMIDATION                           1273\n",
       "STALKING                               1115\n",
       "CONCEALED CARRY LICENSE VIOLATION       841\n",
       "OBSCENITY                               425\n",
       "NON-CRIMINAL                            171\n",
       "PUBLIC INDECENCY                        108\n",
       "HUMAN TRAFFICKING                        74\n",
       "OTHER NARCOTIC VIOLATION                 58\n",
       "NON - CRIMINAL                           38\n",
       "NON-CRIMINAL (SUBJECT SPECIFIED)          2\n",
       "Name: primary_type, dtype: int64"
      ]
     },
     "execution_count": 191,
     "metadata": {},
     "output_type": "execute_result"
    }
   ],
   "source": [
    "df1['primary_type'].value_counts()"
   ]
  },
  {
   "cell_type": "code",
   "execution_count": 192,
   "id": "f30dd14e",
   "metadata": {},
   "outputs": [
    {
     "name": "stderr",
     "output_type": "stream",
     "text": [
      "/var/folders/j2/qvzy45bn0l71dytmdq4v9r6r0000gn/T/ipykernel_35602/935409946.py:2: SettingWithCopyWarning: \n",
      "A value is trying to be set on a copy of a slice from a DataFrame.\n",
      "Try using .loc[row_indexer,col_indexer] = value instead\n",
      "\n",
      "See the caveats in the documentation: https://pandas.pydata.org/pandas-docs/stable/user_guide/indexing.html#returning-a-view-versus-a-copy\n",
      "  df1['primary_type'] = df1['primary_type'].replace('NON - CRIMINAL', 'NON-CRIMINAL')\n",
      "/var/folders/j2/qvzy45bn0l71dytmdq4v9r6r0000gn/T/ipykernel_35602/935409946.py:3: SettingWithCopyWarning: \n",
      "A value is trying to be set on a copy of a slice from a DataFrame.\n",
      "Try using .loc[row_indexer,col_indexer] = value instead\n",
      "\n",
      "See the caveats in the documentation: https://pandas.pydata.org/pandas-docs/stable/user_guide/indexing.html#returning-a-view-versus-a-copy\n",
      "  df1['primary_type'] = df1['primary_type'].replace('NON-CRIMINAL (SUBJECT SPECIFIED)', 'NON-CRIMINAL')\n"
     ]
    },
    {
     "data": {
      "text/html": [
       "<div>\n",
       "<style scoped>\n",
       "    .dataframe tbody tr th:only-of-type {\n",
       "        vertical-align: middle;\n",
       "    }\n",
       "\n",
       "    .dataframe tbody tr th {\n",
       "        vertical-align: top;\n",
       "    }\n",
       "\n",
       "    .dataframe thead th {\n",
       "        text-align: right;\n",
       "    }\n",
       "</style>\n",
       "<table border=\"1\" class=\"dataframe\">\n",
       "  <thead>\n",
       "    <tr style=\"text-align: right;\">\n",
       "      <th></th>\n",
       "      <th>unique_key</th>\n",
       "      <th>date</th>\n",
       "      <th>primary_type</th>\n",
       "      <th>location_description</th>\n",
       "      <th>arrest</th>\n",
       "      <th>domestic</th>\n",
       "      <th>beat</th>\n",
       "      <th>community_area</th>\n",
       "      <th>month</th>\n",
       "      <th>year</th>\n",
       "      <th>only_month</th>\n",
       "    </tr>\n",
       "  </thead>\n",
       "  <tbody>\n",
       "    <tr>\n",
       "      <th>0</th>\n",
       "      <td>8429131</td>\n",
       "      <td>2012-01-01 01:00:00+00:00</td>\n",
       "      <td>DECEPTIVE PRACTICE</td>\n",
       "      <td>ATM (AUTOMATIC TELLER MACHINE)</td>\n",
       "      <td>False</td>\n",
       "      <td>False</td>\n",
       "      <td>1834</td>\n",
       "      <td>8.0</td>\n",
       "      <td>2012-01</td>\n",
       "      <td>2012</td>\n",
       "      <td>01</td>\n",
       "    </tr>\n",
       "    <tr>\n",
       "      <th>1</th>\n",
       "      <td>8452622</td>\n",
       "      <td>2012-01-01 01:00:00+00:00</td>\n",
       "      <td>THEFT</td>\n",
       "      <td>TAVERN/LIQUOR STORE</td>\n",
       "      <td>False</td>\n",
       "      <td>False</td>\n",
       "      <td>1832</td>\n",
       "      <td>8.0</td>\n",
       "      <td>2012-01</td>\n",
       "      <td>2012</td>\n",
       "      <td>01</td>\n",
       "    </tr>\n",
       "    <tr>\n",
       "      <th>2</th>\n",
       "      <td>8608264</td>\n",
       "      <td>2012-01-01 01:00:00+00:00</td>\n",
       "      <td>THEFT</td>\n",
       "      <td>MEDICAL/DENTAL OFFICE</td>\n",
       "      <td>False</td>\n",
       "      <td>False</td>\n",
       "      <td>1423</td>\n",
       "      <td>24.0</td>\n",
       "      <td>2012-01</td>\n",
       "      <td>2012</td>\n",
       "      <td>01</td>\n",
       "    </tr>\n",
       "    <tr>\n",
       "      <th>3</th>\n",
       "      <td>9142576</td>\n",
       "      <td>2012-01-01 01:00:00+00:00</td>\n",
       "      <td>THEFT</td>\n",
       "      <td>SCHOOL, PUBLIC, BUILDING</td>\n",
       "      <td>False</td>\n",
       "      <td>False</td>\n",
       "      <td>1523</td>\n",
       "      <td>25.0</td>\n",
       "      <td>2012-01</td>\n",
       "      <td>2012</td>\n",
       "      <td>01</td>\n",
       "    </tr>\n",
       "    <tr>\n",
       "      <th>5</th>\n",
       "      <td>9049473</td>\n",
       "      <td>2012-01-01 01:00:00+00:00</td>\n",
       "      <td>OFFENSE INVOLVING CHILDREN</td>\n",
       "      <td>RESIDENCE</td>\n",
       "      <td>False</td>\n",
       "      <td>False</td>\n",
       "      <td>332</td>\n",
       "      <td>43.0</td>\n",
       "      <td>2012-01</td>\n",
       "      <td>2012</td>\n",
       "      <td>01</td>\n",
       "    </tr>\n",
       "    <tr>\n",
       "      <th>...</th>\n",
       "      <td>...</td>\n",
       "      <td>...</td>\n",
       "      <td>...</td>\n",
       "      <td>...</td>\n",
       "      <td>...</td>\n",
       "      <td>...</td>\n",
       "      <td>...</td>\n",
       "      <td>...</td>\n",
       "      <td>...</td>\n",
       "      <td>...</td>\n",
       "      <td>...</td>\n",
       "    </tr>\n",
       "    <tr>\n",
       "      <th>2670248</th>\n",
       "      <td>12581388</td>\n",
       "      <td>2021-12-31 12:45:00+00:00</td>\n",
       "      <td>ASSAULT</td>\n",
       "      <td>APARTMENT</td>\n",
       "      <td>False</td>\n",
       "      <td>False</td>\n",
       "      <td>221</td>\n",
       "      <td>39.0</td>\n",
       "      <td>2021-12</td>\n",
       "      <td>2021</td>\n",
       "      <td>12</td>\n",
       "    </tr>\n",
       "    <tr>\n",
       "      <th>2670249</th>\n",
       "      <td>12581450</td>\n",
       "      <td>2021-12-31 12:45:00+00:00</td>\n",
       "      <td>CONCEALED CARRY LICENSE VIOLATION</td>\n",
       "      <td>STREET</td>\n",
       "      <td>True</td>\n",
       "      <td>False</td>\n",
       "      <td>614</td>\n",
       "      <td>71.0</td>\n",
       "      <td>2021-12</td>\n",
       "      <td>2021</td>\n",
       "      <td>12</td>\n",
       "    </tr>\n",
       "    <tr>\n",
       "      <th>2670250</th>\n",
       "      <td>12581977</td>\n",
       "      <td>2021-12-31 12:46:00+00:00</td>\n",
       "      <td>ASSAULT</td>\n",
       "      <td>COMMERCIAL / BUSINESS OFFICE</td>\n",
       "      <td>False</td>\n",
       "      <td>False</td>\n",
       "      <td>623</td>\n",
       "      <td>44.0</td>\n",
       "      <td>2021-12</td>\n",
       "      <td>2021</td>\n",
       "      <td>12</td>\n",
       "    </tr>\n",
       "    <tr>\n",
       "      <th>2670251</th>\n",
       "      <td>12582396</td>\n",
       "      <td>2021-12-31 12:49:00+00:00</td>\n",
       "      <td>DECEPTIVE PRACTICE</td>\n",
       "      <td>RESIDENCE</td>\n",
       "      <td>False</td>\n",
       "      <td>False</td>\n",
       "      <td>611</td>\n",
       "      <td>71.0</td>\n",
       "      <td>2021-12</td>\n",
       "      <td>2021</td>\n",
       "      <td>12</td>\n",
       "    </tr>\n",
       "    <tr>\n",
       "      <th>2670252</th>\n",
       "      <td>12581002</td>\n",
       "      <td>2021-12-31 12:55:00+00:00</td>\n",
       "      <td>BATTERY</td>\n",
       "      <td>BAR OR TAVERN</td>\n",
       "      <td>False</td>\n",
       "      <td>False</td>\n",
       "      <td>1424</td>\n",
       "      <td>24.0</td>\n",
       "      <td>2021-12</td>\n",
       "      <td>2021</td>\n",
       "      <td>12</td>\n",
       "    </tr>\n",
       "  </tbody>\n",
       "</table>\n",
       "<p>2227518 rows × 11 columns</p>\n",
       "</div>"
      ],
      "text/plain": [
       "         unique_key                      date  \\\n",
       "0           8429131 2012-01-01 01:00:00+00:00   \n",
       "1           8452622 2012-01-01 01:00:00+00:00   \n",
       "2           8608264 2012-01-01 01:00:00+00:00   \n",
       "3           9142576 2012-01-01 01:00:00+00:00   \n",
       "5           9049473 2012-01-01 01:00:00+00:00   \n",
       "...             ...                       ...   \n",
       "2670248    12581388 2021-12-31 12:45:00+00:00   \n",
       "2670249    12581450 2021-12-31 12:45:00+00:00   \n",
       "2670250    12581977 2021-12-31 12:46:00+00:00   \n",
       "2670251    12582396 2021-12-31 12:49:00+00:00   \n",
       "2670252    12581002 2021-12-31 12:55:00+00:00   \n",
       "\n",
       "                              primary_type            location_description  \\\n",
       "0                       DECEPTIVE PRACTICE  ATM (AUTOMATIC TELLER MACHINE)   \n",
       "1                                    THEFT             TAVERN/LIQUOR STORE   \n",
       "2                                    THEFT           MEDICAL/DENTAL OFFICE   \n",
       "3                                    THEFT        SCHOOL, PUBLIC, BUILDING   \n",
       "5               OFFENSE INVOLVING CHILDREN                       RESIDENCE   \n",
       "...                                    ...                             ...   \n",
       "2670248                            ASSAULT                       APARTMENT   \n",
       "2670249  CONCEALED CARRY LICENSE VIOLATION                          STREET   \n",
       "2670250                            ASSAULT    COMMERCIAL / BUSINESS OFFICE   \n",
       "2670251                 DECEPTIVE PRACTICE                       RESIDENCE   \n",
       "2670252                            BATTERY                   BAR OR TAVERN   \n",
       "\n",
       "         arrest  domestic  beat  community_area    month  year only_month  \n",
       "0         False     False  1834             8.0  2012-01  2012         01  \n",
       "1         False     False  1832             8.0  2012-01  2012         01  \n",
       "2         False     False  1423            24.0  2012-01  2012         01  \n",
       "3         False     False  1523            25.0  2012-01  2012         01  \n",
       "5         False     False   332            43.0  2012-01  2012         01  \n",
       "...         ...       ...   ...             ...      ...   ...        ...  \n",
       "2670248   False     False   221            39.0  2021-12  2021         12  \n",
       "2670249    True     False   614            71.0  2021-12  2021         12  \n",
       "2670250   False     False   623            44.0  2021-12  2021         12  \n",
       "2670251   False     False   611            71.0  2021-12  2021         12  \n",
       "2670252   False     False  1424            24.0  2021-12  2021         12  \n",
       "\n",
       "[2227518 rows x 11 columns]"
      ]
     },
     "execution_count": 192,
     "metadata": {},
     "output_type": "execute_result"
    }
   ],
   "source": [
    "# 같은 항목, 다른 표기 통합\n",
    "df1['primary_type'] = df1['primary_type'].replace('NON - CRIMINAL', 'NON-CRIMINAL')\n",
    "df1['primary_type'] = df1['primary_type'].replace('NON-CRIMINAL (SUBJECT SPECIFIED)', 'NON-CRIMINAL')\n",
    "df1"
   ]
  },
  {
   "cell_type": "code",
   "execution_count": 193,
   "id": "e84bb93e",
   "metadata": {},
   "outputs": [
    {
     "data": {
      "text/plain": [
       "THEFT                                578859\n",
       "CRIMINAL DAMAGE                      254106\n",
       "BATTERY                              247581\n",
       "NARCOTICS                            188126\n",
       "DECEPTIVE PRACTICE                   162246\n",
       "ASSAULT                              139972\n",
       "BURGLARY                             130957\n",
       "OTHER OFFENSE                        111030\n",
       "MOTOR VEHICLE THEFT                  109828\n",
       "ROBBERY                              100238\n",
       "CRIMINAL TRESPASS                     61556\n",
       "WEAPONS VIOLATION                     50771\n",
       "PUBLIC PEACE VIOLATION                18699\n",
       "INTERFERENCE WITH PUBLIC OFFICER      11003\n",
       "PROSTITUTION                          10104\n",
       "OFFENSE INVOLVING CHILDREN             9971\n",
       "SEX OFFENSE                            9116\n",
       "CRIM SEXUAL ASSAULT                    9032\n",
       "HOMICIDE                               5666\n",
       "ARSON                                  4269\n",
       "CRIMINAL SEXUAL ASSAULT                3234\n",
       "LIQUOR LAW VIOLATION                   2967\n",
       "GAMBLING                               2783\n",
       "KIDNAPPING                             1299\n",
       "INTIMIDATION                           1273\n",
       "STALKING                               1115\n",
       "CONCEALED CARRY LICENSE VIOLATION       841\n",
       "OBSCENITY                               425\n",
       "NON-CRIMINAL                            211\n",
       "PUBLIC INDECENCY                        108\n",
       "HUMAN TRAFFICKING                        74\n",
       "OTHER NARCOTIC VIOLATION                 58\n",
       "Name: primary_type, dtype: int64"
      ]
     },
     "execution_count": 193,
     "metadata": {},
     "output_type": "execute_result"
    }
   ],
   "source": [
    "df1['primary_type'].value_counts()"
   ]
  },
  {
   "cell_type": "code",
   "execution_count": 194,
   "id": "404354b0",
   "metadata": {},
   "outputs": [
    {
     "data": {
      "image/png": "[encoded data removed]",
      "text/plain": [
       "<Figure size 720x576 with 1 Axes>"
      ]
     },
     "metadata": {},
     "output_type": "display_data"
    }
   ],
   "source": [
    "plt.figure(figsize = (10,8))\n",
    "sns.countplot(data = df1, y = 'primary_type', order = df1['primary_type'].value_counts().index, color = 'tab:blue')\n",
    "plt.show()"
   ]
  },
  {
   "cell_type": "code",
   "execution_count": 195,
   "id": "dcb1aaa0",
   "metadata": {},
   "outputs": [],
   "source": [
    "#상위 5개 분석\n",
    "\n",
    "df_theft = df1.loc[df1['primary_type'] == 'THEFT']\n",
    "df_criminalDamage = df1.loc[df1['primary_type'] == 'CRIMINAL DAMAGE']\n",
    "df_battery = df1.loc[df1['primary_type'] == 'BATTERY']\n",
    "df_narcotics = df1.loc[df1['primary_type'] == 'NARCOTICS']\n",
    "df_deceptivePractice = df1.loc[df1['primary_type'] == 'DECEPTIVE PRACTICE']"
   ]
  },
  {
   "cell_type": "markdown",
   "id": "823b62e4",
   "metadata": {},
   "source": [
    "# theft\n",
    "절도"
   ]
  },
  {
   "cell_type": "code",
   "execution_count": 196,
   "id": "a743f6b7",
   "metadata": {},
   "outputs": [
    {
     "name": "stdout",
     "output_type": "stream",
     "text": [
      "<class 'pandas.core.frame.DataFrame'>\n",
      "Int64Index: 578859 entries, 1 to 2670245\n",
      "Data columns (total 11 columns):\n",
      " #   Column                Non-Null Count   Dtype              \n",
      "---  ------                --------------   -----              \n",
      " 0   unique_key            578859 non-null  int64              \n",
      " 1   date                  578859 non-null  datetime64[ns, UTC]\n",
      " 2   primary_type          578859 non-null  object             \n",
      " 3   location_description  578859 non-null  object             \n",
      " 4   arrest                578859 non-null  bool               \n",
      " 5   domestic              578859 non-null  bool               \n",
      " 6   beat                  578859 non-null  int64              \n",
      " 7   community_area        578859 non-null  float64            \n",
      " 8   month                 578859 non-null  object             \n",
      " 9   year                  578859 non-null  object             \n",
      " 10  only_month            578859 non-null  object             \n",
      "dtypes: bool(2), datetime64[ns, UTC](1), float64(1), int64(2), object(5)\n",
      "memory usage: 45.3+ MB\n"
     ]
    }
   ],
   "source": [
    "df_theft.info()"
   ]
  },
  {
   "cell_type": "markdown",
   "id": "8d4b77c2",
   "metadata": {},
   "source": [
    "## 기간별 발생 수"
   ]
  },
  {
   "cell_type": "code",
   "execution_count": 197,
   "id": "22055d66",
   "metadata": {},
   "outputs": [
    {
     "data": {
      "text/plain": [
       "2012    72924\n",
       "2013    69447\n",
       "2018    62975\n",
       "2017    62091\n",
       "2019    60109\n",
       "2014    59566\n",
       "2016    59367\n",
       "2015    55283\n",
       "2020    39068\n",
       "2021    38029\n",
       "Name: year, dtype: int64"
      ]
     },
     "execution_count": 197,
     "metadata": {},
     "output_type": "execute_result"
    }
   ],
   "source": [
    "df_theft['year'].value_counts()"
   ]
  },
  {
   "cell_type": "code",
   "execution_count": 391,
   "id": "3497a9df",
   "metadata": {},
   "outputs": [
    {
     "data": {
      "text/html": [
       "<div>\n",
       "<style scoped>\n",
       "    .dataframe tbody tr th:only-of-type {\n",
       "        vertical-align: middle;\n",
       "    }\n",
       "\n",
       "    .dataframe tbody tr th {\n",
       "        vertical-align: top;\n",
       "    }\n",
       "\n",
       "    .dataframe thead th {\n",
       "        text-align: right;\n",
       "    }\n",
       "</style>\n",
       "<table border=\"1\" class=\"dataframe\">\n",
       "  <thead>\n",
       "    <tr style=\"text-align: right;\">\n",
       "      <th></th>\n",
       "      <th>index</th>\n",
       "      <th>year</th>\n",
       "    </tr>\n",
       "  </thead>\n",
       "  <tbody>\n",
       "    <tr>\n",
       "      <th>0</th>\n",
       "      <td>2012</td>\n",
       "      <td>72924</td>\n",
       "    </tr>\n",
       "    <tr>\n",
       "      <th>1</th>\n",
       "      <td>2013</td>\n",
       "      <td>69447</td>\n",
       "    </tr>\n",
       "    <tr>\n",
       "      <th>5</th>\n",
       "      <td>2014</td>\n",
       "      <td>59566</td>\n",
       "    </tr>\n",
       "    <tr>\n",
       "      <th>7</th>\n",
       "      <td>2015</td>\n",
       "      <td>55283</td>\n",
       "    </tr>\n",
       "    <tr>\n",
       "      <th>6</th>\n",
       "      <td>2016</td>\n",
       "      <td>59367</td>\n",
       "    </tr>\n",
       "    <tr>\n",
       "      <th>3</th>\n",
       "      <td>2017</td>\n",
       "      <td>62091</td>\n",
       "    </tr>\n",
       "    <tr>\n",
       "      <th>2</th>\n",
       "      <td>2018</td>\n",
       "      <td>62975</td>\n",
       "    </tr>\n",
       "    <tr>\n",
       "      <th>4</th>\n",
       "      <td>2019</td>\n",
       "      <td>60109</td>\n",
       "    </tr>\n",
       "    <tr>\n",
       "      <th>8</th>\n",
       "      <td>2020</td>\n",
       "      <td>39068</td>\n",
       "    </tr>\n",
       "    <tr>\n",
       "      <th>9</th>\n",
       "      <td>2021</td>\n",
       "      <td>38029</td>\n",
       "    </tr>\n",
       "  </tbody>\n",
       "</table>\n",
       "</div>"
      ],
      "text/plain": [
       "  index   year\n",
       "0  2012  72924\n",
       "1  2013  69447\n",
       "5  2014  59566\n",
       "7  2015  55283\n",
       "6  2016  59367\n",
       "3  2017  62091\n",
       "2  2018  62975\n",
       "4  2019  60109\n",
       "8  2020  39068\n",
       "9  2021  38029"
      ]
     },
     "execution_count": 391,
     "metadata": {},
     "output_type": "execute_result"
    }
   ],
   "source": [
    "df_theft['year'].value_counts().reset_index().sort_values(by = 'index')"
   ]
  },
  {
   "cell_type": "code",
   "execution_count": 225,
   "id": "da36b353",
   "metadata": {},
   "outputs": [
    {
     "data": {
      "text/plain": [
       "2012    100.000000\n",
       "2013     95.232022\n",
       "2018     86.357029\n",
       "2017     85.144808\n",
       "2019     82.426910\n",
       "2014     81.682299\n",
       "2016     81.409413\n",
       "2015     75.809061\n",
       "2020     53.573583\n",
       "2021     52.148812\n",
       "Name: year, dtype: float64"
      ]
     },
     "execution_count": 225,
     "metadata": {},
     "output_type": "execute_result"
    }
   ],
   "source": [
    "df_theft['year'].value_counts() / 72924 *100"
   ]
  },
  {
   "cell_type": "code",
   "execution_count": 394,
   "id": "2376958a",
   "metadata": {},
   "outputs": [
    {
     "data": {
      "image/png": "[encoded data removed]",
      "text/plain": [
       "<Figure size 432x288 with 1 Axes>"
      ]
     },
     "metadata": {},
     "output_type": "display_data"
    }
   ],
   "source": [
    "sns.lineplot(data = df_theft['year'].value_counts().reset_index().sort_values(by = 'index'), x = 'index', y = 'year', color = 'tab:blue')\n",
    "plt.ylim(bottom = 0)\n",
    "plt.show()"
   ]
  },
  {
   "cell_type": "code",
   "execution_count": 223,
   "id": "94c0a771",
   "metadata": {},
   "outputs": [
    {
     "data": {
      "text/plain": [
       "0.5214881246228951"
      ]
     },
     "execution_count": 223,
     "metadata": {},
     "output_type": "execute_result"
    }
   ],
   "source": [
    "38029 / 72924"
   ]
  },
  {
   "cell_type": "markdown",
   "id": "2b5a1de5",
   "metadata": {},
   "source": [
    "- 우하향\n",
    "- 2019~2020년 사이 급감\n",
    "- 2021년 발생 건수는 2012년 발생 건수의 52%"
   ]
  },
  {
   "cell_type": "markdown",
   "id": "cc0e44cf",
   "metadata": {},
   "source": [
    "## 가장 많이 일어난 장소(location_description)"
   ]
  },
  {
   "cell_type": "code",
   "execution_count": 199,
   "id": "5c203c70",
   "metadata": {},
   "outputs": [
    {
     "data": {
      "text/plain": [
       "STREET                            141460\n",
       "RESIDENCE                          47228\n",
       "APARTMENT                          35229\n",
       "SMALL RETAIL STORE                 34589\n",
       "DEPARTMENT STORE                   30804\n",
       "OTHER                              28059\n",
       "SIDEWALK                           22828\n",
       "PARKING LOT/GARAGE(NON.RESID.)     22553\n",
       "RESTAURANT                         21700\n",
       "GROCERY FOOD STORE                 20064\n",
       "Name: location_description, dtype: int64"
      ]
     },
     "execution_count": 199,
     "metadata": {},
     "output_type": "execute_result"
    }
   ],
   "source": [
    "df_theft['location_description'].value_counts().head(10)"
   ]
  },
  {
   "cell_type": "markdown",
   "id": "4d4bef83",
   "metadata": {},
   "source": [
    "## 가장 많이 일어난 구역 (community_area)"
   ]
  },
  {
   "cell_type": "code",
   "execution_count": 200,
   "id": "d16dd498",
   "metadata": {},
   "outputs": [
    {
     "data": {
      "text/plain": [
       "8.0     46393\n",
       "32.0    41848\n",
       "28.0    29622\n",
       "24.0    26648\n",
       "6.0     22269\n",
       "25.0    21475\n",
       "7.0     19020\n",
       "22.0    16252\n",
       "43.0    13066\n",
       "44.0    12964\n",
       "Name: community_area, dtype: int64"
      ]
     },
     "execution_count": 200,
     "metadata": {},
     "output_type": "execute_result"
    }
   ],
   "source": [
    "df_theft['community_area'].value_counts().head(10)"
   ]
  },
  {
   "cell_type": "markdown",
   "id": "5520b510",
   "metadata": {},
   "source": [
    "## 체포 여부 (arrest)"
   ]
  },
  {
   "cell_type": "code",
   "execution_count": 201,
   "id": "21e5dde2",
   "metadata": {},
   "outputs": [
    {
     "data": {
      "text/plain": [
       "False    0.897750\n",
       "True     0.101413\n",
       "Name: arrest, dtype: float64"
      ]
     },
     "execution_count": 201,
     "metadata": {},
     "output_type": "execute_result"
    }
   ],
   "source": [
    "df_theft['arrest'].value_counts() / 579344"
   ]
  },
  {
   "cell_type": "code",
   "execution_count": 202,
   "id": "2ef9d9be",
   "metadata": {},
   "outputs": [
    {
     "data": {
      "image/png": "[encoded data removed]",
      "text/plain": [
       "<Figure size 432x288 with 1 Axes>"
      ]
     },
     "metadata": {},
     "output_type": "display_data"
    }
   ],
   "source": [
    "sns.countplot(data = df_theft, x = 'year', hue = 'arrest')\n",
    "plt.show()"
   ]
  },
  {
   "cell_type": "code",
   "execution_count": 254,
   "id": "bd4e689c",
   "metadata": {},
   "outputs": [
    {
     "data": {
      "text/html": [
       "<div>\n",
       "<style scoped>\n",
       "    .dataframe tbody tr th:only-of-type {\n",
       "        vertical-align: middle;\n",
       "    }\n",
       "\n",
       "    .dataframe tbody tr th {\n",
       "        vertical-align: top;\n",
       "    }\n",
       "\n",
       "    .dataframe thead th {\n",
       "        text-align: right;\n",
       "    }\n",
       "</style>\n",
       "<table border=\"1\" class=\"dataframe\">\n",
       "  <thead>\n",
       "    <tr style=\"text-align: right;\">\n",
       "      <th></th>\n",
       "      <th>year</th>\n",
       "      <th>arrest</th>\n",
       "      <th>count</th>\n",
       "    </tr>\n",
       "  </thead>\n",
       "  <tbody>\n",
       "    <tr>\n",
       "      <th>0</th>\n",
       "      <td>2012</td>\n",
       "      <td>False</td>\n",
       "      <td>64835</td>\n",
       "    </tr>\n",
       "    <tr>\n",
       "      <th>1</th>\n",
       "      <td>2012</td>\n",
       "      <td>True</td>\n",
       "      <td>8089</td>\n",
       "    </tr>\n",
       "    <tr>\n",
       "      <th>2</th>\n",
       "      <td>2013</td>\n",
       "      <td>False</td>\n",
       "      <td>61873</td>\n",
       "    </tr>\n",
       "    <tr>\n",
       "      <th>3</th>\n",
       "      <td>2013</td>\n",
       "      <td>True</td>\n",
       "      <td>7574</td>\n",
       "    </tr>\n",
       "    <tr>\n",
       "      <th>4</th>\n",
       "      <td>2014</td>\n",
       "      <td>False</td>\n",
       "      <td>52278</td>\n",
       "    </tr>\n",
       "    <tr>\n",
       "      <th>5</th>\n",
       "      <td>2014</td>\n",
       "      <td>True</td>\n",
       "      <td>7288</td>\n",
       "    </tr>\n",
       "    <tr>\n",
       "      <th>6</th>\n",
       "      <td>2015</td>\n",
       "      <td>False</td>\n",
       "      <td>48656</td>\n",
       "    </tr>\n",
       "    <tr>\n",
       "      <th>7</th>\n",
       "      <td>2015</td>\n",
       "      <td>True</td>\n",
       "      <td>6627</td>\n",
       "    </tr>\n",
       "    <tr>\n",
       "      <th>8</th>\n",
       "      <td>2016</td>\n",
       "      <td>False</td>\n",
       "      <td>52961</td>\n",
       "    </tr>\n",
       "    <tr>\n",
       "      <th>9</th>\n",
       "      <td>2016</td>\n",
       "      <td>True</td>\n",
       "      <td>6406</td>\n",
       "    </tr>\n",
       "    <tr>\n",
       "      <th>10</th>\n",
       "      <td>2017</td>\n",
       "      <td>False</td>\n",
       "      <td>55727</td>\n",
       "    </tr>\n",
       "    <tr>\n",
       "      <th>11</th>\n",
       "      <td>2017</td>\n",
       "      <td>True</td>\n",
       "      <td>6364</td>\n",
       "    </tr>\n",
       "    <tr>\n",
       "      <th>12</th>\n",
       "      <td>2018</td>\n",
       "      <td>False</td>\n",
       "      <td>56753</td>\n",
       "    </tr>\n",
       "    <tr>\n",
       "      <th>13</th>\n",
       "      <td>2018</td>\n",
       "      <td>True</td>\n",
       "      <td>6222</td>\n",
       "    </tr>\n",
       "    <tr>\n",
       "      <th>14</th>\n",
       "      <td>2019</td>\n",
       "      <td>False</td>\n",
       "      <td>54124</td>\n",
       "    </tr>\n",
       "    <tr>\n",
       "      <th>15</th>\n",
       "      <td>2019</td>\n",
       "      <td>True</td>\n",
       "      <td>5985</td>\n",
       "    </tr>\n",
       "    <tr>\n",
       "      <th>16</th>\n",
       "      <td>2020</td>\n",
       "      <td>False</td>\n",
       "      <td>36341</td>\n",
       "    </tr>\n",
       "    <tr>\n",
       "      <th>17</th>\n",
       "      <td>2020</td>\n",
       "      <td>True</td>\n",
       "      <td>2727</td>\n",
       "    </tr>\n",
       "    <tr>\n",
       "      <th>18</th>\n",
       "      <td>2021</td>\n",
       "      <td>False</td>\n",
       "      <td>36558</td>\n",
       "    </tr>\n",
       "    <tr>\n",
       "      <th>19</th>\n",
       "      <td>2021</td>\n",
       "      <td>True</td>\n",
       "      <td>1471</td>\n",
       "    </tr>\n",
       "  </tbody>\n",
       "</table>\n",
       "</div>"
      ],
      "text/plain": [
       "    year  arrest  count\n",
       "0   2012   False  64835\n",
       "1   2012    True   8089\n",
       "2   2013   False  61873\n",
       "3   2013    True   7574\n",
       "4   2014   False  52278\n",
       "5   2014    True   7288\n",
       "6   2015   False  48656\n",
       "7   2015    True   6627\n",
       "8   2016   False  52961\n",
       "9   2016    True   6406\n",
       "10  2017   False  55727\n",
       "11  2017    True   6364\n",
       "12  2018   False  56753\n",
       "13  2018    True   6222\n",
       "14  2019   False  54124\n",
       "15  2019    True   5985\n",
       "16  2020   False  36341\n",
       "17  2020    True   2727\n",
       "18  2021   False  36558\n",
       "19  2021    True   1471"
      ]
     },
     "execution_count": 254,
     "metadata": {},
     "output_type": "execute_result"
    }
   ],
   "source": [
    "df_theft_arrest = pd.DataFrame(df_theft.groupby('year')['arrest'].value_counts())\n",
    "df_theft_arrest.columns = ['count']\n",
    "df_theft_arrest = df_theft_arrest.reset_index()\n",
    "df_theft_arrest"
   ]
  },
  {
   "cell_type": "code",
   "execution_count": 294,
   "id": "f97794d8",
   "metadata": {},
   "outputs": [
    {
     "name": "stdout",
     "output_type": "stream",
     "text": [
      "<class 'pandas.core.frame.DataFrame'>\n",
      "RangeIndex: 20 entries, 0 to 19\n",
      "Data columns (total 3 columns):\n",
      " #   Column  Non-Null Count  Dtype\n",
      "---  ------  --------------  -----\n",
      " 0   year    20 non-null     int32\n",
      " 1   arrest  20 non-null     bool \n",
      " 2   count   20 non-null     int64\n",
      "dtypes: bool(1), int32(1), int64(1)\n",
      "memory usage: 388.0 bytes\n"
     ]
    }
   ],
   "source": [
    "df_theft_arrest['year'] = df_theft_arrest['year'].astype('int32')\n",
    "df_theft_arrest.info()"
   ]
  },
  {
   "cell_type": "code",
   "execution_count": 238,
   "id": "fa618767",
   "metadata": {
    "scrolled": true
   },
   "outputs": [
    {
     "name": "stdout",
     "output_type": "stream",
     "text": [
      "2012년 체포율:  11.09 %\n"
     ]
    }
   ],
   "source": [
    "print('2012년 체포율: ', round(8089 / df_theft.loc[df_theft['year'] == '2012', 'arrest'].count() * 100, 2), '%')"
   ]
  },
  {
   "cell_type": "code",
   "execution_count": 374,
   "id": "1039e8f8",
   "metadata": {},
   "outputs": [],
   "source": [
    "def arrest_ratio(year, dataframe):\n",
    "    i = 0\n",
    "    while year < 2022:\n",
    "        temp = dataframe.loc[dataframe['year'] == year]\n",
    "        ratio = temp.loc[temp['arrest'] == True, 'count'] / temp['count'].sum() * 100\n",
    "        ratio = ratio.values[0]\n",
    "        #print(year, '년 체포율: ', round(ratio, 2), '%')\n",
    "        theft_arrest_ratio.loc[i] = [year, round(ratio, 2)]\n",
    "        i = i + 1\n",
    "        year = year + 1"
   ]
  },
  {
   "cell_type": "code",
   "execution_count": 375,
   "id": "4c8d21f0",
   "metadata": {},
   "outputs": [
    {
     "data": {
      "text/html": [
       "<div>\n",
       "<style scoped>\n",
       "    .dataframe tbody tr th:only-of-type {\n",
       "        vertical-align: middle;\n",
       "    }\n",
       "\n",
       "    .dataframe tbody tr th {\n",
       "        vertical-align: top;\n",
       "    }\n",
       "\n",
       "    .dataframe thead th {\n",
       "        text-align: right;\n",
       "    }\n",
       "</style>\n",
       "<table border=\"1\" class=\"dataframe\">\n",
       "  <thead>\n",
       "    <tr style=\"text-align: right;\">\n",
       "      <th></th>\n",
       "      <th>year</th>\n",
       "      <th>ratio</th>\n",
       "    </tr>\n",
       "  </thead>\n",
       "  <tbody>\n",
       "  </tbody>\n",
       "</table>\n",
       "</div>"
      ],
      "text/plain": [
       "Empty DataFrame\n",
       "Columns: [year, ratio]\n",
       "Index: []"
      ]
     },
     "execution_count": 375,
     "metadata": {},
     "output_type": "execute_result"
    }
   ],
   "source": [
    "theft_arrest_ratio = pd.DataFrame(columns = ['year', 'ratio'])\n",
    "theft_arrest_ratio"
   ]
  },
  {
   "cell_type": "code",
   "execution_count": 376,
   "id": "12e6b856",
   "metadata": {
    "scrolled": true
   },
   "outputs": [
    {
     "data": {
      "text/html": [
       "<div>\n",
       "<style scoped>\n",
       "    .dataframe tbody tr th:only-of-type {\n",
       "        vertical-align: middle;\n",
       "    }\n",
       "\n",
       "    .dataframe tbody tr th {\n",
       "        vertical-align: top;\n",
       "    }\n",
       "\n",
       "    .dataframe thead th {\n",
       "        text-align: right;\n",
       "    }\n",
       "</style>\n",
       "<table border=\"1\" class=\"dataframe\">\n",
       "  <thead>\n",
       "    <tr style=\"text-align: right;\">\n",
       "      <th></th>\n",
       "      <th>year</th>\n",
       "      <th>ratio</th>\n",
       "    </tr>\n",
       "  </thead>\n",
       "  <tbody>\n",
       "    <tr>\n",
       "      <th>0</th>\n",
       "      <td>2012.0</td>\n",
       "      <td>11.09</td>\n",
       "    </tr>\n",
       "    <tr>\n",
       "      <th>1</th>\n",
       "      <td>2013.0</td>\n",
       "      <td>10.91</td>\n",
       "    </tr>\n",
       "    <tr>\n",
       "      <th>2</th>\n",
       "      <td>2014.0</td>\n",
       "      <td>12.24</td>\n",
       "    </tr>\n",
       "    <tr>\n",
       "      <th>3</th>\n",
       "      <td>2015.0</td>\n",
       "      <td>11.99</td>\n",
       "    </tr>\n",
       "    <tr>\n",
       "      <th>4</th>\n",
       "      <td>2016.0</td>\n",
       "      <td>10.79</td>\n",
       "    </tr>\n",
       "    <tr>\n",
       "      <th>5</th>\n",
       "      <td>2017.0</td>\n",
       "      <td>10.25</td>\n",
       "    </tr>\n",
       "    <tr>\n",
       "      <th>6</th>\n",
       "      <td>2018.0</td>\n",
       "      <td>9.88</td>\n",
       "    </tr>\n",
       "    <tr>\n",
       "      <th>7</th>\n",
       "      <td>2019.0</td>\n",
       "      <td>9.96</td>\n",
       "    </tr>\n",
       "    <tr>\n",
       "      <th>8</th>\n",
       "      <td>2020.0</td>\n",
       "      <td>6.98</td>\n",
       "    </tr>\n",
       "    <tr>\n",
       "      <th>9</th>\n",
       "      <td>2021.0</td>\n",
       "      <td>3.87</td>\n",
       "    </tr>\n",
       "  </tbody>\n",
       "</table>\n",
       "</div>"
      ],
      "text/plain": [
       "     year  ratio\n",
       "0  2012.0  11.09\n",
       "1  2013.0  10.91\n",
       "2  2014.0  12.24\n",
       "3  2015.0  11.99\n",
       "4  2016.0  10.79\n",
       "5  2017.0  10.25\n",
       "6  2018.0   9.88\n",
       "7  2019.0   9.96\n",
       "8  2020.0   6.98\n",
       "9  2021.0   3.87"
      ]
     },
     "execution_count": 376,
     "metadata": {},
     "output_type": "execute_result"
    }
   ],
   "source": [
    "arrest_ratio(2012, df_theft_arrest)\n",
    "theft_arrest_ratio"
   ]
  },
  {
   "cell_type": "code",
   "execution_count": 380,
   "id": "db008f06",
   "metadata": {},
   "outputs": [
    {
     "data": {
      "image/png": "[encoded data removed]",
      "text/plain": [
       "<Figure size 432x288 with 1 Axes>"
      ]
     },
     "metadata": {},
     "output_type": "display_data"
    }
   ],
   "source": [
    "sns.lineplot(data = theft_arrest_ratio, x = 'year', y = 'ratio')\n",
    "plt.ylim(0,13)\n",
    "plt.show()"
   ]
  },
  {
   "cell_type": "markdown",
   "id": "d52f291f",
   "metadata": {},
   "source": [
    "# CRIMINAL DAMAGE\n",
    "손괴죄"
   ]
  },
  {
   "cell_type": "markdown",
   "id": "d84d449b",
   "metadata": {},
   "source": [
    "## 기간별 발생 수"
   ]
  },
  {
   "cell_type": "code",
   "execution_count": 203,
   "id": "4065027a",
   "metadata": {},
   "outputs": [
    {
     "data": {
      "image/png": "[encoded data removed]",
      "text/plain": [
       "<Figure size 432x288 with 1 Axes>"
      ]
     },
     "metadata": {},
     "output_type": "display_data"
    }
   ],
   "source": [
    "sns.countplot(data = df_criminalDamage, x = 'year', color = 'tab:blue')\n",
    "plt.show()"
   ]
  },
  {
   "cell_type": "markdown",
   "id": "241f8de9",
   "metadata": {},
   "source": [
    "## 가장 많이 일어난 장소(location_description)"
   ]
  },
  {
   "cell_type": "code",
   "execution_count": 204,
   "id": "7d8f9a99",
   "metadata": {},
   "outputs": [
    {
     "data": {
      "text/plain": [
       "STREET                            92272\n",
       "RESIDENCE                         42690\n",
       "APARTMENT                         29815\n",
       "PARKING LOT/GARAGE(NON.RESID.)    10635\n",
       "RESIDENCE-GARAGE                   9504\n",
       "OTHER                              7278\n",
       "RESIDENTIAL YARD (FRONT/BACK)      6255\n",
       "VEHICLE NON-COMMERCIAL             4707\n",
       "ALLEY                              4058\n",
       "RESTAURANT                         3885\n",
       "Name: location_description, dtype: int64"
      ]
     },
     "execution_count": 204,
     "metadata": {},
     "output_type": "execute_result"
    }
   ],
   "source": [
    "df_criminalDamage['location_description'].value_counts().head(10)"
   ]
  },
  {
   "cell_type": "markdown",
   "id": "e4f1f730",
   "metadata": {},
   "source": [
    "## 가장 많이 일어난 구역 (community_area)"
   ]
  },
  {
   "cell_type": "code",
   "execution_count": 205,
   "id": "66856dfb",
   "metadata": {},
   "outputs": [
    {
     "data": {
      "text/plain": [
       "25.0    12749\n",
       "43.0     8834\n",
       "24.0     8227\n",
       "49.0     7375\n",
       "28.0     7320\n",
       "71.0     7053\n",
       "29.0     6684\n",
       "23.0     6591\n",
       "67.0     6416\n",
       "69.0     6224\n",
       "Name: community_area, dtype: int64"
      ]
     },
     "execution_count": 205,
     "metadata": {},
     "output_type": "execute_result"
    }
   ],
   "source": [
    "df_criminalDamage['community_area'].value_counts().head(10)"
   ]
  },
  {
   "cell_type": "markdown",
   "id": "d1f5f0bb",
   "metadata": {},
   "source": [
    "## 체포 여부 (arrest)"
   ]
  },
  {
   "cell_type": "code",
   "execution_count": 206,
   "id": "ea8441a5",
   "metadata": {},
   "outputs": [
    {
     "data": {
      "text/plain": [
       "False    240701\n",
       "True      13405\n",
       "Name: arrest, dtype: int64"
      ]
     },
     "execution_count": 206,
     "metadata": {},
     "output_type": "execute_result"
    }
   ],
   "source": [
    "df_criminalDamage['arrest'].value_counts().head(10)"
   ]
  },
  {
   "cell_type": "code",
   "execution_count": 207,
   "id": "86442fe5",
   "metadata": {},
   "outputs": [
    {
     "data": {
      "image/png": "[encoded data removed]",
      "text/plain": [
       "<Figure size 432x288 with 1 Axes>"
      ]
     },
     "metadata": {},
     "output_type": "display_data"
    }
   ],
   "source": [
    "sns.countplot(data = df_criminalDamage, x = 'year', hue = 'arrest')\n",
    "plt.show()"
   ]
  },
  {
   "cell_type": "markdown",
   "id": "003f7cb1",
   "metadata": {},
   "source": [
    "# BATTERY\n",
    "폭행"
   ]
  },
  {
   "cell_type": "markdown",
   "id": "e28c94a6",
   "metadata": {},
   "source": [
    "## 기간별 발생 수"
   ]
  },
  {
   "cell_type": "code",
   "execution_count": 208,
   "id": "6bdd7fca",
   "metadata": {},
   "outputs": [
    {
     "data": {
      "image/png": "[encoded data removed]",
      "text/plain": [
       "<Figure size 432x288 with 1 Axes>"
      ]
     },
     "metadata": {},
     "output_type": "display_data"
    }
   ],
   "source": [
    "sns.countplot(data = df_battery, x = 'year', color = 'tab:blue')\n",
    "plt.show()"
   ]
  },
  {
   "cell_type": "markdown",
   "id": "22c23312",
   "metadata": {},
   "source": [
    "## 가장 많이 일어난 장소(location_description)"
   ]
  },
  {
   "cell_type": "code",
   "execution_count": 209,
   "id": "a8d6db2a",
   "metadata": {},
   "outputs": [
    {
     "data": {
      "text/plain": [
       "SIDEWALK                    52453\n",
       "STREET                      44292\n",
       "APARTMENT                   26843\n",
       "RESIDENCE                   21702\n",
       "SCHOOL, PUBLIC, BUILDING    12086\n",
       "ALLEY                        6986\n",
       "OTHER                        6874\n",
       "RESIDENCE PORCH/HALLWAY      5542\n",
       "RESTAURANT                   5293\n",
       "BAR OR TAVERN                4718\n",
       "Name: location_description, dtype: int64"
      ]
     },
     "execution_count": 209,
     "metadata": {},
     "output_type": "execute_result"
    }
   ],
   "source": [
    "df_battery['location_description'].value_counts().head(10)"
   ]
  },
  {
   "cell_type": "markdown",
   "id": "25df3d2f",
   "metadata": {},
   "source": [
    "## 가장 많이 일어난 구역 (community_area)"
   ]
  },
  {
   "cell_type": "code",
   "execution_count": 210,
   "id": "92303b5c",
   "metadata": {},
   "outputs": [
    {
     "data": {
      "text/plain": [
       "25.0    15465\n",
       "8.0      9848\n",
       "29.0     8896\n",
       "43.0     8346\n",
       "23.0     7881\n",
       "28.0     7618\n",
       "67.0     7448\n",
       "68.0     7092\n",
       "69.0     6989\n",
       "71.0     6933\n",
       "Name: community_area, dtype: int64"
      ]
     },
     "execution_count": 210,
     "metadata": {},
     "output_type": "execute_result"
    }
   ],
   "source": [
    "df_battery['community_area'].value_counts().head(10)"
   ]
  },
  {
   "cell_type": "markdown",
   "id": "eba2f8fb",
   "metadata": {},
   "source": [
    "## 체포 여부 (arrest)"
   ]
  },
  {
   "cell_type": "code",
   "execution_count": 211,
   "id": "1b9cdb68",
   "metadata": {},
   "outputs": [
    {
     "data": {
      "text/plain": [
       "False    194816\n",
       "True      52765\n",
       "Name: arrest, dtype: int64"
      ]
     },
     "execution_count": 211,
     "metadata": {},
     "output_type": "execute_result"
    }
   ],
   "source": [
    "df_battery['arrest'].value_counts().head(10)"
   ]
  },
  {
   "cell_type": "code",
   "execution_count": 212,
   "id": "f57a54cf",
   "metadata": {},
   "outputs": [
    {
     "data": {
      "image/png": "[encoded data removed]",
      "text/plain": [
       "<Figure size 432x288 with 1 Axes>"
      ]
     },
     "metadata": {},
     "output_type": "display_data"
    }
   ],
   "source": [
    "sns.countplot(data = df_battery, x = 'year', hue = 'arrest')\n",
    "plt.show()"
   ]
  },
  {
   "cell_type": "markdown",
   "id": "13461210",
   "metadata": {},
   "source": [
    "# NARCOTICS\n",
    "마약 범죄"
   ]
  },
  {
   "cell_type": "markdown",
   "id": "a4c2887a",
   "metadata": {},
   "source": [
    "## 기간별 발생 수"
   ]
  },
  {
   "cell_type": "code",
   "execution_count": 213,
   "id": "6d0f65c2",
   "metadata": {},
   "outputs": [
    {
     "data": {
      "image/png": "[encoded data removed]",
      "text/plain": [
       "<Figure size 432x288 with 1 Axes>"
      ]
     },
     "metadata": {},
     "output_type": "display_data"
    }
   ],
   "source": [
    "sns.countplot(data = df_narcotics, x = 'year', color = 'tab:blue')\n",
    "plt.show()"
   ]
  },
  {
   "cell_type": "markdown",
   "id": "89f68b83",
   "metadata": {},
   "source": [
    "## 가장 많이 일어난 장소(location_description)"
   ]
  },
  {
   "cell_type": "code",
   "execution_count": 214,
   "id": "0ce59d8c",
   "metadata": {},
   "outputs": [
    {
     "data": {
      "text/plain": [
       "SIDEWALK                           61003\n",
       "STREET                             55481\n",
       "ALLEY                              12703\n",
       "VEHICLE NON-COMMERCIAL              8810\n",
       "RESIDENCE                           7207\n",
       "APARTMENT                           6003\n",
       "PARKING LOT/GARAGE(NON.RESID.)      5257\n",
       "RESIDENTIAL YARD (FRONT/BACK)       2920\n",
       "POLICE FACILITY/VEH PARKING LOT     2686\n",
       "PARK PROPERTY                       2506\n",
       "Name: location_description, dtype: int64"
      ]
     },
     "execution_count": 214,
     "metadata": {},
     "output_type": "execute_result"
    }
   ],
   "source": [
    "df_narcotics['location_description'].value_counts().head(10)"
   ]
  },
  {
   "cell_type": "markdown",
   "id": "afad0143",
   "metadata": {},
   "source": [
    "## 가장 많이 일어난 구역 (community_area)"
   ]
  },
  {
   "cell_type": "code",
   "execution_count": 215,
   "id": "7cdef303",
   "metadata": {},
   "outputs": [
    {
     "data": {
      "text/plain": [
       "25.0    23846\n",
       "29.0    17375\n",
       "23.0    17277\n",
       "26.0    15016\n",
       "27.0     9618\n",
       "67.0     6961\n",
       "68.0     5536\n",
       "71.0     5486\n",
       "43.0     5070\n",
       "49.0     4960\n",
       "Name: community_area, dtype: int64"
      ]
     },
     "execution_count": 215,
     "metadata": {},
     "output_type": "execute_result"
    }
   ],
   "source": [
    "df_narcotics['community_area'].value_counts().head(10)"
   ]
  },
  {
   "cell_type": "markdown",
   "id": "24e656bf",
   "metadata": {},
   "source": [
    "## 체포 여부 (arrest)"
   ]
  },
  {
   "cell_type": "code",
   "execution_count": 216,
   "id": "8afe3bf8",
   "metadata": {},
   "outputs": [
    {
     "data": {
      "text/plain": [
       "True     187275\n",
       "False       851\n",
       "Name: arrest, dtype: int64"
      ]
     },
     "execution_count": 216,
     "metadata": {},
     "output_type": "execute_result"
    }
   ],
   "source": [
    "df_narcotics['arrest'].value_counts().head(10)"
   ]
  },
  {
   "cell_type": "code",
   "execution_count": 217,
   "id": "3c9e36ac",
   "metadata": {},
   "outputs": [
    {
     "data": {
      "image/png": "[encoded data removed]",
      "text/plain": [
       "<Figure size 432x288 with 1 Axes>"
      ]
     },
     "metadata": {},
     "output_type": "display_data"
    }
   ],
   "source": [
    "sns.countplot(data = df_narcotics, x = 'year', hue = 'arrest')\n",
    "plt.show()"
   ]
  },
  {
   "cell_type": "markdown",
   "id": "24a1a66e",
   "metadata": {},
   "source": [
    "# DECEPTIVE PRACTICE\n",
    "부정경쟁, 기만적 거래"
   ]
  },
  {
   "cell_type": "markdown",
   "id": "027d7f0f",
   "metadata": {},
   "source": [
    "## 기간별 발생 수"
   ]
  },
  {
   "cell_type": "code",
   "execution_count": 218,
   "id": "0ed27615",
   "metadata": {},
   "outputs": [
    {
     "data": {
      "image/png": "[encoded data removed]",
      "text/plain": [
       "<Figure size 432x288 with 1 Axes>"
      ]
     },
     "metadata": {},
     "output_type": "display_data"
    }
   ],
   "source": [
    "sns.countplot(data = df_deceptivePractice, x = 'year', color = 'tab:blue')\n",
    "plt.show()"
   ]
  },
  {
   "cell_type": "markdown",
   "id": "fc639fc6",
   "metadata": {},
   "source": [
    "## 가장 많이 일어난 장소(location_description)"
   ]
  },
  {
   "cell_type": "code",
   "execution_count": 219,
   "id": "529b5af0",
   "metadata": {},
   "outputs": [
    {
     "data": {
      "text/plain": [
       "RESIDENCE                         56340\n",
       "APARTMENT                         21022\n",
       "OTHER                             15437\n",
       "STREET                             7934\n",
       "BANK                               6465\n",
       "RESTAURANT                         6310\n",
       "SMALL RETAIL STORE                 4656\n",
       "DEPARTMENT STORE                   4081\n",
       "ATM (AUTOMATIC TELLER MACHINE)     3576\n",
       "CTA PLATFORM                       3347\n",
       "Name: location_description, dtype: int64"
      ]
     },
     "execution_count": 219,
     "metadata": {},
     "output_type": "execute_result"
    }
   ],
   "source": [
    "df_deceptivePractice['location_description'].value_counts().head(10)"
   ]
  },
  {
   "cell_type": "markdown",
   "id": "dd4d3b4c",
   "metadata": {},
   "source": [
    "## 가장 많이 일어난 구역 (community_area)"
   ]
  },
  {
   "cell_type": "code",
   "execution_count": 220,
   "id": "7a96d78d",
   "metadata": {},
   "outputs": [
    {
     "data": {
      "text/plain": [
       "8.0     13460\n",
       "32.0    11280\n",
       "25.0     6882\n",
       "28.0     6455\n",
       "6.0      5932\n",
       "24.0     4448\n",
       "43.0     3955\n",
       "7.0      3836\n",
       "44.0     3569\n",
       "71.0     3493\n",
       "Name: community_area, dtype: int64"
      ]
     },
     "execution_count": 220,
     "metadata": {},
     "output_type": "execute_result"
    }
   ],
   "source": [
    "df_deceptivePractice['community_area'].value_counts().head(10)"
   ]
  },
  {
   "cell_type": "markdown",
   "id": "6a3c1cd8",
   "metadata": {},
   "source": [
    "## 체포 여부 (arrest)"
   ]
  },
  {
   "cell_type": "code",
   "execution_count": 221,
   "id": "3bd6ba22",
   "metadata": {},
   "outputs": [
    {
     "data": {
      "text/plain": [
       "False    149982\n",
       "True      12264\n",
       "Name: arrest, dtype: int64"
      ]
     },
     "execution_count": 221,
     "metadata": {},
     "output_type": "execute_result"
    }
   ],
   "source": [
    "df_deceptivePractice['arrest'].value_counts().head(10)"
   ]
  },
  {
   "cell_type": "code",
   "execution_count": 222,
   "id": "ce2642ea",
   "metadata": {},
   "outputs": [
    {
     "data": {
      "image/png": "[encoded data removed]",
      "text/plain": [
       "<Figure size 432x288 with 1 Axes>"
      ]
     },
     "metadata": {},
     "output_type": "display_data"
    }
   ],
   "source": [
    "sns.countplot(data = df_deceptivePractice, x = 'year', hue = 'arrest')\n",
    "plt.show()"
   ]
  }
 ],
 "metadata": {
  "kernelspec": {
   "display_name": "Python 3 (ipykernel)",
   "language": "python",
   "name": "python3"
  },
  "language_info": {
   "codemirror_mode": {
    "name": "ipython",
    "version": 3
   },
   "file_extension": ".py",
   "mimetype": "text/x-python",
   "name": "python",
   "nbconvert_exporter": "python",
   "pygments_lexer": "ipython3",
   "version": "3.9.7"
  }
 },
 "nbformat": 4,
 "nbformat_minor": 5
}
